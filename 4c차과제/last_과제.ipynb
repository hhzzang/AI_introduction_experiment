{
 "cells": [
  {
   "cell_type": "code",
   "execution_count": 11,
   "id": "23edd57a",
   "metadata": {},
   "outputs": [],
   "source": [
    "import numpy as np\n",
    "import torch\n",
    "import os\n",
    "import glob\n",
    "import torchvision.transforms as transforms\n",
    "import torchvision\n",
    "import torch\n",
    "from PIL import Image\n",
    "from torchvision import transforms\n",
    "from torch.utils.data import Dataset\n",
    "from torch import nn\n",
    "device = torch.device('cuda' if torch.cuda.is_available() else 'cpu')\n",
    "class MyDataset(Dataset):\n",
    "    def __init__(self, npy_dir,tfms=None):\n",
    "        self.dir_path = npy_dir\n",
    "        self.to_tensor = transforms.ToTensor()\n",
    "\n",
    "        # all npy path\n",
    "        self.npy_path = glob.glob(os.path.join(npy_dir, '*','*.npy')) \n",
    "        self.tfms = tfms\n",
    "    def __getitem__(self, index):\n",
    "        # load data\n",
    "        single_data_path = self.npy_path[index]\n",
    "        data = np.load(single_data_path, allow_pickle=True)\n",
    "        \n",
    "        image = Image.fromarray(data[0])\n",
    "        if self.tfms:\n",
    "            image = self.tfms(image)\n",
    "        else:\n",
    "            image = self.to_tensor(image)\n",
    "        label = data[1]\n",
    "       \n",
    "        return (image, label)\n",
    "\n",
    "    def __len__(self):\n",
    "        return len(self.npy_path)\n",
    "\n",
    "\n",
    "trtfm = transforms.Compose([\n",
    "                    \n",
    "                    transforms.RandomRotation(degrees=(-10, 10),fill=1),\n",
    "                    transforms.ToTensor(),\n",
    "                    transforms.Normalize((0.6647), (0.73155)),\n",
    "                    \n",
    "                    ])\n",
    "tttfm = transforms.Compose([\n",
    "                    transforms.ToTensor(),\n",
    "                    transforms.Normalize((0.6647), (0.73155))])\n",
    "\n",
    "# load dataset \n",
    "train_data = MyDataset(\"./Font_npy_90_train\",trtfm)\n",
    "valid_data = MyDataset(\"./Font_npy_90_val\",tttfm)\n",
    "\n"
   ]
  },
  {
   "cell_type": "code",
   "execution_count": 12,
   "id": "8bb4b5ea",
   "metadata": {},
   "outputs": [],
   "source": [
    "def train(model, train_loader, optimizer, criterion):\n",
    "    epoch_loss, acc = 0, 0\n",
    "    total = 0\n",
    "    model.train()\n",
    "\n",
    "    for i, (image, label) in enumerate(train_loader):\n",
    "        image = image.to(device)\n",
    "        label = label.to(device)\n",
    "\n",
    "        out = model(image)\n",
    "        loss = criterion(out, label)\n",
    "\n",
    "        optimizer.zero_grad()\n",
    "        loss.backward()\n",
    "        optimizer.step()\n",
    "    \n",
    "        _, pred = torch.max(out.data, 1)\n",
    "        acc += (pred==label).sum()\n",
    "        epoch_loss += loss.item()\n",
    "        total += float(len(image))\n",
    "\n",
    "    return epoch_loss, acc /total\n",
    "\n",
    "def valid(model, data_loader, criterion):\n",
    "    epoch_loss, acc = 0, 0\n",
    "    total = 0\n",
    "    model.eval()\n",
    "\n",
    "    with torch.no_grad():\n",
    "        for i, (image, label) in enumerate(data_loader):\n",
    "            image = image.to(device)\n",
    "            label = label.to(device)\n",
    "\n",
    "            out = model(image)\n",
    "            loss = criterion(out, label)\n",
    "            _, pred = torch.max(out.data, 1)\n",
    "            acc += (pred==label).sum()\n",
    "            epoch_loss += loss.item()\n",
    "            total += float(len(image))\n",
    "\n",
    "    return epoch_loss, acc /total"
   ]
  },
  {
   "cell_type": "code",
   "execution_count": 13,
   "id": "cdfbf181",
   "metadata": {},
   "outputs": [],
   "source": [
    "class MyNet(nn.Module):\n",
    "\n",
    "    def __init__(self, block, layers, num_classe):\n",
    "        super(MyNet, self).__init__()\n",
    "        self._norm_layer = nn.BatchNorm2d\n",
    "\n",
    "        self.dilation = 1\n",
    "        self.conv1 = nn.Conv2d(1, 32, kernel_size=7, stride=2, padding=3,\n",
    "                               bias=False)\n",
    "        \n",
    "        self.bn1 = nn.BatchNorm2d(32)\n",
    "        self.relu = nn.ReLU(inplace=True)\n",
    "        self.maxpool = nn.MaxPool2d(kernel_size=3, stride=2, padding=1)\n",
    "        self.conv2 = nn.Conv2d(32, 64, kernel_size=3, stride=2, padding=1,\n",
    "                               bias=False)\n",
    "        self.bn2 = nn.BatchNorm2d(64)\n",
    "        self.relu2 = nn.ReLU(inplace=True)\n",
    "        \n",
    "        self.conv3 = nn.Conv2d(64, 128, kernel_size=3, stride=2, padding=1,\n",
    "                               bias=False)\n",
    "        self.bn3 = nn.BatchNorm2d(128)\n",
    "        self.relu3 = nn.ReLU(inplace=True)\n",
    "\n",
    "        \n",
    "        self.downsample1 = nn.Sequential(\n",
    "                nn.Conv2d(32, 64, kernel_size=1, stride=2, bias=False),\n",
    "                nn.BatchNorm2d(64),\n",
    "            )\n",
    "        self.downsample2 = nn.Sequential(\n",
    "                nn.Conv2d(64, 128, kernel_size=1, stride=2, bias=False),\n",
    "                nn.BatchNorm2d(128),\n",
    "            )\n",
    "        self.dropout = nn.Dropout(0.4)\n",
    "        self.fc = nn.Linear(4608, num_classe)\n",
    "\n",
    "        for m in self.modules():\n",
    "            if isinstance(m, nn.Conv2d):\n",
    "                nn.init.kaiming_normal_(m.weight, mode='fan_out', nonlinearity='relu')\n",
    "            elif isinstance(m, (nn.BatchNorm2d, nn.GroupNorm)):\n",
    "                nn.init.constant_(m.weight, 1)\n",
    "                nn.init.constant_(m.bias, 0)\n",
    "\n",
    "    def _forward_impl(self, x):\n",
    "        x = self.conv1(x)\n",
    "        x = self.bn1(x)\n",
    "        x = self.relu(x)\n",
    "        x = self.maxpool(x)\n",
    "        ident = self.downsample1(x)\n",
    "        x = self.conv2(x)\n",
    "        x = self.bn2(x) + ident\n",
    "        x = self.relu2(x)\n",
    "        ident = self.downsample2(x)\n",
    "        x = self.conv3(x)\n",
    "        x = self.bn3(x) + ident\n",
    "        x = self.relu3(x)\n",
    "        \n",
    "        x = torch.flatten(x,1)\n",
    "#         print(x.shape)\n",
    "        x = self.dropout(x)\n",
    "        x = self.fc(x)\n",
    "\n",
    "        return x\n",
    "\n",
    "    def forward(self, x):\n",
    "        return self._forward_impl(x)\n"
   ]
  },
  {
   "cell_type": "code",
   "execution_count": 14,
   "id": "e42feaa8",
   "metadata": {
    "scrolled": false
   },
   "outputs": [
    {
     "name": "stderr",
     "output_type": "stream",
     "text": [
      "  1%|▏         | 1/80 [00:27<35:59, 27.34s/it]"
     ]
    },
    {
     "name": "stdout",
     "output_type": "stream",
     "text": [
      "Epoch[1/80], Train Loss:66.6886, Train Acc:0.78\n",
      "6.775733940303326 tensor(0.9015, device='cuda:0')\n"
     ]
    },
    {
     "name": "stderr",
     "output_type": "stream",
     "text": [
      "\r",
      "  2%|▎         | 2/80 [00:54<35:31, 27.33s/it]"
     ]
    },
    {
     "name": "stdout",
     "output_type": "stream",
     "text": [
      "Epoch[2/80], Train Loss:27.7925, Train Acc:0.90\n",
      "5.914015024900436 tensor(0.9122, device='cuda:0')\n"
     ]
    },
    {
     "name": "stderr",
     "output_type": "stream",
     "text": [
      "\r",
      "  4%|▍         | 3/80 [01:22<35:04, 27.33s/it]"
     ]
    },
    {
     "name": "stdout",
     "output_type": "stream",
     "text": [
      "Epoch[3/80], Train Loss:21.7831, Train Acc:0.92\n",
      "4.535429164767265 tensor(0.9278, device='cuda:0')\n"
     ]
    },
    {
     "name": "stderr",
     "output_type": "stream",
     "text": [
      "\r",
      "  5%|▌         | 4/80 [01:49<34:43, 27.41s/it]"
     ]
    },
    {
     "name": "stdout",
     "output_type": "stream",
     "text": [
      "Epoch[4/80], Train Loss:17.9348, Train Acc:0.93\n",
      "4.025075811892748 tensor(0.9412, device='cuda:0')\n"
     ]
    },
    {
     "name": "stderr",
     "output_type": "stream",
     "text": [
      "\r",
      "  6%|▋         | 5/80 [02:17<34:20, 27.47s/it]"
     ]
    },
    {
     "name": "stdout",
     "output_type": "stream",
     "text": [
      "Epoch[5/80], Train Loss:15.6359, Train Acc:0.94\n",
      "4.075694173574448 tensor(0.9417, device='cuda:0')\n"
     ]
    },
    {
     "name": "stderr",
     "output_type": "stream",
     "text": [
      "\r",
      "  8%|▊         | 6/80 [02:44<33:55, 27.51s/it]"
     ]
    },
    {
     "name": "stdout",
     "output_type": "stream",
     "text": [
      "Epoch[6/80], Train Loss:14.4087, Train Acc:0.94\n",
      "3.538475861772895 tensor(0.9437, device='cuda:0')\n"
     ]
    },
    {
     "name": "stderr",
     "output_type": "stream",
     "text": [
      "\r",
      "  9%|▉         | 7/80 [03:11<33:21, 27.41s/it]"
     ]
    },
    {
     "name": "stdout",
     "output_type": "stream",
     "text": [
      "Epoch[7/80], Train Loss:13.3652, Train Acc:0.95\n",
      "3.167108938097954 tensor(0.9483, device='cuda:0')\n"
     ]
    },
    {
     "name": "stderr",
     "output_type": "stream",
     "text": [
      "\r",
      " 10%|█         | 8/80 [03:39<32:51, 27.39s/it]"
     ]
    },
    {
     "name": "stdout",
     "output_type": "stream",
     "text": [
      "Epoch[8/80], Train Loss:11.7559, Train Acc:0.95\n",
      "3.0668698586523533 tensor(0.9504, device='cuda:0')\n"
     ]
    },
    {
     "name": "stderr",
     "output_type": "stream",
     "text": [
      "\r",
      " 11%|█▏        | 9/80 [04:06<32:25, 27.40s/it]"
     ]
    },
    {
     "name": "stdout",
     "output_type": "stream",
     "text": [
      "Epoch[9/80], Train Loss:11.1128, Train Acc:0.96\n",
      "3.151340251788497 tensor(0.9532, device='cuda:0')\n"
     ]
    },
    {
     "name": "stderr",
     "output_type": "stream",
     "text": [
      "\r",
      " 12%|█▎        | 10/80 [04:34<31:58, 27.41s/it]"
     ]
    },
    {
     "name": "stdout",
     "output_type": "stream",
     "text": [
      "Epoch[10/80], Train Loss:10.2594, Train Acc:0.96\n",
      "3.0025892946869135 tensor(0.9527, device='cuda:0')\n"
     ]
    },
    {
     "name": "stderr",
     "output_type": "stream",
     "text": [
      "\r",
      " 14%|█▍        | 11/80 [05:01<31:31, 27.41s/it]"
     ]
    },
    {
     "name": "stdout",
     "output_type": "stream",
     "text": [
      "Epoch[11/80], Train Loss:10.0245, Train Acc:0.96\n",
      "3.065097436308861 tensor(0.9533, device='cuda:0')\n"
     ]
    },
    {
     "name": "stderr",
     "output_type": "stream",
     "text": [
      "\r",
      " 15%|█▌        | 12/80 [05:28<31:04, 27.41s/it]"
     ]
    },
    {
     "name": "stdout",
     "output_type": "stream",
     "text": [
      "Epoch[12/80], Train Loss:9.3364, Train Acc:0.96\n",
      "3.068132412619889 tensor(0.9526, device='cuda:0')\n"
     ]
    },
    {
     "name": "stderr",
     "output_type": "stream",
     "text": [
      "\r",
      " 16%|█▋        | 13/80 [05:56<30:35, 27.39s/it]"
     ]
    },
    {
     "name": "stdout",
     "output_type": "stream",
     "text": [
      "Epoch[13/80], Train Loss:8.8444, Train Acc:0.96\n",
      "2.6878916416317225 tensor(0.9569, device='cuda:0')\n"
     ]
    },
    {
     "name": "stderr",
     "output_type": "stream",
     "text": [
      "\r",
      " 18%|█▊        | 14/80 [06:23<30:09, 27.41s/it]"
     ]
    },
    {
     "name": "stdout",
     "output_type": "stream",
     "text": [
      "Epoch[14/80], Train Loss:8.7480, Train Acc:0.96\n",
      "3.010805381461978 tensor(0.9562, device='cuda:0')\n"
     ]
    },
    {
     "name": "stderr",
     "output_type": "stream",
     "text": [
      "\r",
      " 19%|█▉        | 15/80 [06:51<29:44, 27.46s/it]"
     ]
    },
    {
     "name": "stdout",
     "output_type": "stream",
     "text": [
      "Epoch[15/80], Train Loss:8.2373, Train Acc:0.97\n",
      "3.016680721193552 tensor(0.9509, device='cuda:0')\n"
     ]
    },
    {
     "name": "stderr",
     "output_type": "stream",
     "text": [
      "\r",
      " 20%|██        | 16/80 [07:18<29:18, 27.47s/it]"
     ]
    },
    {
     "name": "stdout",
     "output_type": "stream",
     "text": [
      "Epoch[16/80], Train Loss:7.8636, Train Acc:0.97\n",
      "2.8451447188854218 tensor(0.9562, device='cuda:0')\n"
     ]
    },
    {
     "name": "stderr",
     "output_type": "stream",
     "text": [
      "\r",
      " 21%|██▏       | 17/80 [07:46<28:50, 27.47s/it]"
     ]
    },
    {
     "name": "stdout",
     "output_type": "stream",
     "text": [
      "Epoch[17/80], Train Loss:7.7864, Train Acc:0.97\n",
      "2.6576433572918177 tensor(0.9564, device='cuda:0')\n"
     ]
    },
    {
     "name": "stderr",
     "output_type": "stream",
     "text": [
      "\r",
      " 22%|██▎       | 18/80 [08:13<28:21, 27.45s/it]"
     ]
    },
    {
     "name": "stdout",
     "output_type": "stream",
     "text": [
      "Epoch[18/80], Train Loss:7.5042, Train Acc:0.97\n",
      "3.112610657699406 tensor(0.9550, device='cuda:0')\n"
     ]
    },
    {
     "name": "stderr",
     "output_type": "stream",
     "text": [
      "\r",
      " 24%|██▍       | 19/80 [08:41<27:54, 27.44s/it]"
     ]
    },
    {
     "name": "stdout",
     "output_type": "stream",
     "text": [
      "Epoch[19/80], Train Loss:7.6907, Train Acc:0.97\n",
      "2.6909466749057174 tensor(0.9592, device='cuda:0')\n"
     ]
    },
    {
     "name": "stderr",
     "output_type": "stream",
     "text": [
      "\r",
      " 25%|██▌       | 20/80 [09:08<27:27, 27.45s/it]"
     ]
    },
    {
     "name": "stdout",
     "output_type": "stream",
     "text": [
      "Epoch[20/80], Train Loss:7.0685, Train Acc:0.97\n",
      "2.5237384103238583 tensor(0.9588, device='cuda:0')\n"
     ]
    },
    {
     "name": "stderr",
     "output_type": "stream",
     "text": [
      "\r",
      " 26%|██▋       | 21/80 [09:36<27:12, 27.67s/it]"
     ]
    },
    {
     "name": "stdout",
     "output_type": "stream",
     "text": [
      "Epoch[21/80], Train Loss:6.7958, Train Acc:0.97\n",
      "2.6694387942552567 tensor(0.9568, device='cuda:0')\n"
     ]
    },
    {
     "name": "stderr",
     "output_type": "stream",
     "text": [
      "\r",
      " 28%|██▊       | 22/80 [10:04<26:46, 27.70s/it]"
     ]
    },
    {
     "name": "stdout",
     "output_type": "stream",
     "text": [
      "Epoch[22/80], Train Loss:6.7399, Train Acc:0.97\n",
      "2.59392034355551 tensor(0.9581, device='cuda:0')\n"
     ]
    },
    {
     "name": "stderr",
     "output_type": "stream",
     "text": [
      "\r",
      " 29%|██▉       | 23/80 [10:32<26:17, 27.67s/it]"
     ]
    },
    {
     "name": "stdout",
     "output_type": "stream",
     "text": [
      "Epoch[23/80], Train Loss:6.8996, Train Acc:0.97\n",
      "2.6499884109944105 tensor(0.9597, device='cuda:0')\n"
     ]
    },
    {
     "name": "stderr",
     "output_type": "stream",
     "text": [
      "\r",
      " 30%|███       | 24/80 [10:59<25:48, 27.65s/it]"
     ]
    },
    {
     "name": "stdout",
     "output_type": "stream",
     "text": [
      "Epoch[24/80], Train Loss:6.4145, Train Acc:0.97\n",
      "2.436101868748665 tensor(0.9603, device='cuda:0')\n"
     ]
    },
    {
     "name": "stderr",
     "output_type": "stream",
     "text": [
      "\r",
      " 31%|███▏      | 25/80 [11:27<25:24, 27.72s/it]"
     ]
    },
    {
     "name": "stdout",
     "output_type": "stream",
     "text": [
      "Epoch[25/80], Train Loss:6.3137, Train Acc:0.97\n",
      "2.3834084598347545 tensor(0.9606, device='cuda:0')\n"
     ]
    },
    {
     "name": "stderr",
     "output_type": "stream",
     "text": [
      "\r",
      " 32%|███▎      | 26/80 [11:55<24:57, 27.73s/it]"
     ]
    },
    {
     "name": "stdout",
     "output_type": "stream",
     "text": [
      "Epoch[26/80], Train Loss:6.0061, Train Acc:0.97\n",
      "2.6512882113456726 tensor(0.9595, device='cuda:0')\n"
     ]
    },
    {
     "name": "stderr",
     "output_type": "stream",
     "text": [
      "\r",
      " 34%|███▍      | 27/80 [12:22<24:18, 27.51s/it]"
     ]
    },
    {
     "name": "stdout",
     "output_type": "stream",
     "text": [
      "Epoch[27/80], Train Loss:6.0931, Train Acc:0.97\n",
      "2.415182551369071 tensor(0.9614, device='cuda:0')\n"
     ]
    },
    {
     "name": "stderr",
     "output_type": "stream",
     "text": [
      "\r",
      " 35%|███▌      | 28/80 [12:49<23:43, 27.38s/it]"
     ]
    },
    {
     "name": "stdout",
     "output_type": "stream",
     "text": [
      "Epoch[28/80], Train Loss:5.9742, Train Acc:0.97\n",
      "2.637335111387074 tensor(0.9595, device='cuda:0')\n"
     ]
    },
    {
     "name": "stderr",
     "output_type": "stream",
     "text": [
      "\r",
      " 36%|███▋      | 29/80 [13:16<23:11, 27.29s/it]"
     ]
    },
    {
     "name": "stdout",
     "output_type": "stream",
     "text": [
      "Epoch[29/80], Train Loss:5.9900, Train Acc:0.97\n",
      "2.4753705067560077 tensor(0.9599, device='cuda:0')\n"
     ]
    },
    {
     "name": "stderr",
     "output_type": "stream",
     "text": [
      "\r",
      " 38%|███▊      | 30/80 [13:44<22:48, 27.36s/it]"
     ]
    },
    {
     "name": "stdout",
     "output_type": "stream",
     "text": [
      "Epoch[30/80], Train Loss:5.9385, Train Acc:0.98\n",
      "2.5792654175311327 tensor(0.9597, device='cuda:0')\n"
     ]
    },
    {
     "name": "stderr",
     "output_type": "stream",
     "text": [
      "\r",
      " 39%|███▉      | 31/80 [14:11<22:21, 27.37s/it]"
     ]
    },
    {
     "name": "stdout",
     "output_type": "stream",
     "text": [
      "Epoch[31/80], Train Loss:5.9181, Train Acc:0.98\n",
      "2.472134428098798 tensor(0.9597, device='cuda:0')\n"
     ]
    },
    {
     "name": "stderr",
     "output_type": "stream",
     "text": [
      "\r",
      " 40%|████      | 32/80 [14:38<21:54, 27.39s/it]"
     ]
    },
    {
     "name": "stdout",
     "output_type": "stream",
     "text": [
      "Epoch[32/80], Train Loss:6.0026, Train Acc:0.97\n",
      "2.553220615722239 tensor(0.9599, device='cuda:0')\n"
     ]
    },
    {
     "name": "stderr",
     "output_type": "stream",
     "text": [
      "\r",
      " 41%|████▏     | 33/80 [15:06<21:27, 27.40s/it]"
     ]
    },
    {
     "name": "stdout",
     "output_type": "stream",
     "text": [
      "Epoch[33/80], Train Loss:5.7863, Train Acc:0.97\n",
      "2.53395330067724 tensor(0.9567, device='cuda:0')\n"
     ]
    },
    {
     "name": "stderr",
     "output_type": "stream",
     "text": [
      "\r",
      " 42%|████▎     | 34/80 [15:33<21:02, 27.45s/it]"
     ]
    },
    {
     "name": "stdout",
     "output_type": "stream",
     "text": [
      "Epoch[34/80], Train Loss:5.4898, Train Acc:0.98\n",
      "2.579967537894845 tensor(0.9600, device='cuda:0')\n"
     ]
    },
    {
     "name": "stderr",
     "output_type": "stream",
     "text": [
      "\r",
      " 44%|████▍     | 35/80 [16:01<20:36, 27.48s/it]"
     ]
    },
    {
     "name": "stdout",
     "output_type": "stream",
     "text": [
      "Epoch[35/80], Train Loss:5.4384, Train Acc:0.98\n",
      "2.68306224886328 tensor(0.9601, device='cuda:0')\n"
     ]
    },
    {
     "name": "stderr",
     "output_type": "stream",
     "text": [
      "\r",
      " 45%|████▌     | 36/80 [16:28<20:09, 27.49s/it]"
     ]
    },
    {
     "name": "stdout",
     "output_type": "stream",
     "text": [
      "Epoch[36/80], Train Loss:5.7305, Train Acc:0.98\n",
      "2.53456794610247 tensor(0.9600, device='cuda:0')\n"
     ]
    },
    {
     "name": "stderr",
     "output_type": "stream",
     "text": [
      "\r",
      " 46%|████▋     | 37/80 [16:56<19:47, 27.61s/it]"
     ]
    },
    {
     "name": "stdout",
     "output_type": "stream",
     "text": [
      "Epoch[37/80], Train Loss:5.6677, Train Acc:0.98\n",
      "2.440634203143418 tensor(0.9600, device='cuda:0')\n"
     ]
    },
    {
     "name": "stderr",
     "output_type": "stream",
     "text": [
      "\r",
      " 48%|████▊     | 38/80 [17:24<19:21, 27.66s/it]"
     ]
    },
    {
     "name": "stdout",
     "output_type": "stream",
     "text": [
      "Epoch[38/80], Train Loss:5.1000, Train Acc:0.98\n",
      "2.4641570849344134 tensor(0.9601, device='cuda:0')\n"
     ]
    },
    {
     "name": "stderr",
     "output_type": "stream",
     "text": [
      "\r",
      " 49%|████▉     | 39/80 [17:52<18:53, 27.64s/it]"
     ]
    },
    {
     "name": "stdout",
     "output_type": "stream",
     "text": [
      "Epoch[39/80], Train Loss:5.0760, Train Acc:0.98\n",
      "2.4709925381466746 tensor(0.9600, device='cuda:0')\n"
     ]
    },
    {
     "name": "stderr",
     "output_type": "stream",
     "text": [
      "\r",
      " 50%|█████     | 40/80 [18:19<18:25, 27.63s/it]"
     ]
    },
    {
     "name": "stdout",
     "output_type": "stream",
     "text": [
      "Epoch[40/80], Train Loss:5.2421, Train Acc:0.98\n",
      "2.606430470943451 tensor(0.9621, device='cuda:0')\n"
     ]
    },
    {
     "name": "stderr",
     "output_type": "stream",
     "text": [
      "\r",
      " 51%|█████▏    | 41/80 [18:47<17:56, 27.60s/it]"
     ]
    },
    {
     "name": "stdout",
     "output_type": "stream",
     "text": [
      "Epoch[41/80], Train Loss:5.0114, Train Acc:0.98\n",
      "2.512842277996242 tensor(0.9605, device='cuda:0')\n"
     ]
    },
    {
     "name": "stderr",
     "output_type": "stream",
     "text": [
      "\r",
      " 52%|█████▎    | 42/80 [19:14<17:27, 27.57s/it]"
     ]
    },
    {
     "name": "stdout",
     "output_type": "stream",
     "text": [
      "Epoch[42/80], Train Loss:4.9731, Train Acc:0.98\n",
      "2.4414936343673617 tensor(0.9629, device='cuda:0')\n"
     ]
    },
    {
     "name": "stderr",
     "output_type": "stream",
     "text": [
      "\r",
      " 54%|█████▍    | 43/80 [19:42<16:59, 27.55s/it]"
     ]
    },
    {
     "name": "stdout",
     "output_type": "stream",
     "text": [
      "Epoch[43/80], Train Loss:5.0170, Train Acc:0.98\n",
      "2.414408848620951 tensor(0.9614, device='cuda:0')\n"
     ]
    },
    {
     "name": "stderr",
     "output_type": "stream",
     "text": [
      "\r",
      " 55%|█████▌    | 44/80 [20:09<16:30, 27.50s/it]"
     ]
    },
    {
     "name": "stdout",
     "output_type": "stream",
     "text": [
      "Epoch[44/80], Train Loss:4.9336, Train Acc:0.98\n",
      "2.5860792538151145 tensor(0.9618, device='cuda:0')\n"
     ]
    },
    {
     "name": "stderr",
     "output_type": "stream",
     "text": [
      "\r",
      " 56%|█████▋    | 45/80 [20:37<16:03, 27.52s/it]"
     ]
    },
    {
     "name": "stdout",
     "output_type": "stream",
     "text": [
      "Epoch[45/80], Train Loss:4.9157, Train Acc:0.98\n",
      "2.4633237002417445 tensor(0.9621, device='cuda:0')\n"
     ]
    },
    {
     "name": "stderr",
     "output_type": "stream",
     "text": [
      "\r",
      " 57%|█████▊    | 46/80 [21:04<15:36, 27.53s/it]"
     ]
    },
    {
     "name": "stdout",
     "output_type": "stream",
     "text": [
      "Epoch[46/80], Train Loss:4.8267, Train Acc:0.98\n",
      "2.4414752004668117 tensor(0.9612, device='cuda:0')\n"
     ]
    },
    {
     "name": "stderr",
     "output_type": "stream",
     "text": [
      "\r",
      " 59%|█████▉    | 47/80 [21:32<15:11, 27.61s/it]"
     ]
    },
    {
     "name": "stdout",
     "output_type": "stream",
     "text": [
      "Epoch[47/80], Train Loss:4.8130, Train Acc:0.98\n",
      "2.5012519443407655 tensor(0.9613, device='cuda:0')\n"
     ]
    },
    {
     "name": "stderr",
     "output_type": "stream",
     "text": [
      "\r",
      " 60%|██████    | 48/80 [22:00<14:44, 27.63s/it]"
     ]
    },
    {
     "name": "stdout",
     "output_type": "stream",
     "text": [
      "Epoch[48/80], Train Loss:4.7997, Train Acc:0.98\n",
      "2.65440391888842 tensor(0.9596, device='cuda:0')\n"
     ]
    },
    {
     "name": "stderr",
     "output_type": "stream",
     "text": [
      "\r",
      " 61%|██████▏   | 49/80 [22:27<14:17, 27.65s/it]"
     ]
    },
    {
     "name": "stdout",
     "output_type": "stream",
     "text": [
      "Epoch[49/80], Train Loss:4.8331, Train Acc:0.98\n",
      "2.447299857158214 tensor(0.9619, device='cuda:0')\n"
     ]
    },
    {
     "name": "stderr",
     "output_type": "stream",
     "text": [
      "\r",
      " 62%|██████▎   | 50/80 [22:55<13:48, 27.63s/it]"
     ]
    },
    {
     "name": "stdout",
     "output_type": "stream",
     "text": [
      "Epoch[50/80], Train Loss:4.9957, Train Acc:0.98\n",
      "2.4149060738272965 tensor(0.9631, device='cuda:0')\n"
     ]
    },
    {
     "name": "stderr",
     "output_type": "stream",
     "text": [
      "\r",
      " 64%|██████▍   | 51/80 [23:23<13:21, 27.64s/it]"
     ]
    },
    {
     "name": "stdout",
     "output_type": "stream",
     "text": [
      "Epoch[51/80], Train Loss:4.7079, Train Acc:0.98\n",
      "2.3145126793533564 tensor(0.9615, device='cuda:0')\n"
     ]
    },
    {
     "name": "stderr",
     "output_type": "stream",
     "text": [
      "\r",
      " 65%|██████▌   | 52/80 [23:50<12:53, 27.63s/it]"
     ]
    },
    {
     "name": "stdout",
     "output_type": "stream",
     "text": [
      "Epoch[52/80], Train Loss:4.7358, Train Acc:0.98\n",
      "2.52470616158098 tensor(0.9629, device='cuda:0')\n"
     ]
    },
    {
     "name": "stderr",
     "output_type": "stream",
     "text": [
      "\r",
      " 66%|██████▋   | 53/80 [24:18<12:24, 27.59s/it]"
     ]
    },
    {
     "name": "stdout",
     "output_type": "stream",
     "text": [
      "Epoch[53/80], Train Loss:4.8606, Train Acc:0.98\n",
      "2.521777327405289 tensor(0.9638, device='cuda:0')\n"
     ]
    },
    {
     "name": "stderr",
     "output_type": "stream",
     "text": [
      "\r",
      " 68%|██████▊   | 54/80 [24:45<11:54, 27.47s/it]"
     ]
    },
    {
     "name": "stdout",
     "output_type": "stream",
     "text": [
      "Epoch[54/80], Train Loss:4.6623, Train Acc:0.98\n",
      "2.429478914476931 tensor(0.9604, device='cuda:0')\n"
     ]
    },
    {
     "name": "stderr",
     "output_type": "stream",
     "text": [
      "\r",
      " 69%|██████▉   | 55/80 [25:12<11:23, 27.36s/it]"
     ]
    },
    {
     "name": "stdout",
     "output_type": "stream",
     "text": [
      "Epoch[55/80], Train Loss:4.5570, Train Acc:0.98\n",
      "2.489248109050095 tensor(0.9619, device='cuda:0')\n"
     ]
    },
    {
     "name": "stderr",
     "output_type": "stream",
     "text": [
      "\r",
      " 70%|███████   | 56/80 [25:39<10:54, 27.27s/it]"
     ]
    },
    {
     "name": "stdout",
     "output_type": "stream",
     "text": [
      "Epoch[56/80], Train Loss:4.5363, Train Acc:0.98\n",
      "2.439066652674228 tensor(0.9626, device='cuda:0')\n"
     ]
    },
    {
     "name": "stderr",
     "output_type": "stream",
     "text": [
      "\r",
      " 71%|███████▏  | 57/80 [26:07<10:28, 27.32s/it]"
     ]
    },
    {
     "name": "stdout",
     "output_type": "stream",
     "text": [
      "Epoch[57/80], Train Loss:4.5172, Train Acc:0.98\n",
      "2.54014905821532 tensor(0.9637, device='cuda:0')\n"
     ]
    },
    {
     "name": "stderr",
     "output_type": "stream",
     "text": [
      "\r",
      " 72%|███████▎  | 58/80 [26:34<10:02, 27.37s/it]"
     ]
    },
    {
     "name": "stdout",
     "output_type": "stream",
     "text": [
      "Epoch[58/80], Train Loss:4.2788, Train Acc:0.98\n",
      "2.4207381405867636 tensor(0.9605, device='cuda:0')\n"
     ]
    },
    {
     "name": "stderr",
     "output_type": "stream",
     "text": [
      "\r",
      " 74%|███████▍  | 59/80 [27:02<09:35, 27.39s/it]"
     ]
    },
    {
     "name": "stdout",
     "output_type": "stream",
     "text": [
      "Epoch[59/80], Train Loss:4.2709, Train Acc:0.98\n",
      "2.524712779559195 tensor(0.9586, device='cuda:0')\n"
     ]
    },
    {
     "name": "stderr",
     "output_type": "stream",
     "text": [
      "\r",
      " 75%|███████▌  | 60/80 [27:29<09:08, 27.41s/it]"
     ]
    },
    {
     "name": "stdout",
     "output_type": "stream",
     "text": [
      "Epoch[60/80], Train Loss:4.3731, Train Acc:0.98\n",
      "2.721957726404071 tensor(0.9599, device='cuda:0')\n"
     ]
    },
    {
     "name": "stderr",
     "output_type": "stream",
     "text": [
      "\r",
      " 76%|███████▋  | 61/80 [27:56<08:40, 27.38s/it]"
     ]
    },
    {
     "name": "stdout",
     "output_type": "stream",
     "text": [
      "Epoch[61/80], Train Loss:4.3207, Train Acc:0.98\n",
      "2.4597589196637273 tensor(0.9615, device='cuda:0')\n"
     ]
    },
    {
     "name": "stderr",
     "output_type": "stream",
     "text": [
      "\r",
      " 78%|███████▊  | 62/80 [28:24<08:13, 27.40s/it]"
     ]
    },
    {
     "name": "stdout",
     "output_type": "stream",
     "text": [
      "Epoch[62/80], Train Loss:4.4650, Train Acc:0.98\n",
      "2.6364170033484697 tensor(0.9600, device='cuda:0')\n"
     ]
    },
    {
     "name": "stderr",
     "output_type": "stream",
     "text": [
      "\r",
      " 79%|███████▉  | 63/80 [28:51<07:46, 27.44s/it]"
     ]
    },
    {
     "name": "stdout",
     "output_type": "stream",
     "text": [
      "Epoch[63/80], Train Loss:4.2677, Train Acc:0.98\n",
      "2.4138028640300035 tensor(0.9635, device='cuda:0')\n"
     ]
    },
    {
     "name": "stderr",
     "output_type": "stream",
     "text": [
      "\r",
      " 80%|████████  | 64/80 [29:19<07:19, 27.46s/it]"
     ]
    },
    {
     "name": "stdout",
     "output_type": "stream",
     "text": [
      "Epoch[64/80], Train Loss:4.3052, Train Acc:0.98\n",
      "2.4557693218812346 tensor(0.9615, device='cuda:0')\n"
     ]
    },
    {
     "name": "stderr",
     "output_type": "stream",
     "text": [
      "\r",
      " 81%|████████▏ | 65/80 [29:46<06:51, 27.46s/it]"
     ]
    },
    {
     "name": "stdout",
     "output_type": "stream",
     "text": [
      "Epoch[65/80], Train Loss:4.2472, Train Acc:0.98\n",
      "2.3946693409234285 tensor(0.9615, device='cuda:0')\n"
     ]
    },
    {
     "name": "stderr",
     "output_type": "stream",
     "text": [
      "\r",
      " 82%|████████▎ | 66/80 [30:14<06:24, 27.46s/it]"
     ]
    },
    {
     "name": "stdout",
     "output_type": "stream",
     "text": [
      "Epoch[66/80], Train Loss:4.2632, Train Acc:0.98\n",
      "2.520754737779498 tensor(0.9596, device='cuda:0')\n"
     ]
    },
    {
     "name": "stderr",
     "output_type": "stream",
     "text": [
      "\r",
      " 84%|████████▍ | 67/80 [30:41<05:57, 27.48s/it]"
     ]
    },
    {
     "name": "stdout",
     "output_type": "stream",
     "text": [
      "Epoch[67/80], Train Loss:4.0667, Train Acc:0.98\n",
      "2.636666923761368 tensor(0.9626, device='cuda:0')\n"
     ]
    },
    {
     "name": "stderr",
     "output_type": "stream",
     "text": [
      "\r",
      " 85%|████████▌ | 68/80 [31:08<05:28, 27.35s/it]"
     ]
    },
    {
     "name": "stdout",
     "output_type": "stream",
     "text": [
      "Epoch[68/80], Train Loss:4.1972, Train Acc:0.98\n",
      "2.426155806519091 tensor(0.9618, device='cuda:0')\n"
     ]
    },
    {
     "name": "stderr",
     "output_type": "stream",
     "text": [
      "\r",
      " 86%|████████▋ | 69/80 [31:35<04:59, 27.26s/it]"
     ]
    },
    {
     "name": "stdout",
     "output_type": "stream",
     "text": [
      "Epoch[69/80], Train Loss:4.2676, Train Acc:0.98\n",
      "2.3876711381599307 tensor(0.9631, device='cuda:0')\n"
     ]
    },
    {
     "name": "stderr",
     "output_type": "stream",
     "text": [
      "\r",
      " 88%|████████▊ | 70/80 [32:03<04:32, 27.24s/it]"
     ]
    },
    {
     "name": "stdout",
     "output_type": "stream",
     "text": [
      "Epoch[70/80], Train Loss:4.2003, Train Acc:0.98\n",
      "2.4547106428071856 tensor(0.9615, device='cuda:0')\n"
     ]
    },
    {
     "name": "stderr",
     "output_type": "stream",
     "text": [
      "\r",
      " 89%|████████▉ | 71/80 [32:30<04:05, 27.31s/it]"
     ]
    },
    {
     "name": "stdout",
     "output_type": "stream",
     "text": [
      "Epoch[71/80], Train Loss:4.1028, Train Acc:0.98\n",
      "2.4653156981803477 tensor(0.9615, device='cuda:0')\n"
     ]
    },
    {
     "name": "stderr",
     "output_type": "stream",
     "text": [
      "\r",
      " 90%|█████████ | 72/80 [32:58<03:39, 27.38s/it]"
     ]
    },
    {
     "name": "stdout",
     "output_type": "stream",
     "text": [
      "Epoch[72/80], Train Loss:4.0404, Train Acc:0.98\n",
      "2.397228868678212 tensor(0.9612, device='cuda:0')\n"
     ]
    },
    {
     "name": "stderr",
     "output_type": "stream",
     "text": [
      "\r",
      " 91%|█████████▏| 73/80 [33:25<03:11, 27.39s/it]"
     ]
    },
    {
     "name": "stdout",
     "output_type": "stream",
     "text": [
      "Epoch[73/80], Train Loss:4.1167, Train Acc:0.98\n",
      "2.426914131268859 tensor(0.9610, device='cuda:0')\n"
     ]
    },
    {
     "name": "stderr",
     "output_type": "stream",
     "text": [
      "\r",
      " 92%|█████████▎| 74/80 [33:53<02:44, 27.44s/it]"
     ]
    },
    {
     "name": "stdout",
     "output_type": "stream",
     "text": [
      "Epoch[74/80], Train Loss:3.9732, Train Acc:0.98\n",
      "2.4843044336885214 tensor(0.9615, device='cuda:0')\n"
     ]
    },
    {
     "name": "stderr",
     "output_type": "stream",
     "text": [
      "\r",
      " 94%|█████████▍| 75/80 [34:20<02:17, 27.51s/it]"
     ]
    },
    {
     "name": "stdout",
     "output_type": "stream",
     "text": [
      "Epoch[75/80], Train Loss:3.9165, Train Acc:0.98\n",
      "2.4339377514552325 tensor(0.9633, device='cuda:0')\n"
     ]
    },
    {
     "name": "stderr",
     "output_type": "stream",
     "text": [
      "\r",
      " 95%|█████████▌| 76/80 [34:48<01:50, 27.52s/it]"
     ]
    },
    {
     "name": "stdout",
     "output_type": "stream",
     "text": [
      "Epoch[76/80], Train Loss:4.0217, Train Acc:0.98\n",
      "2.5747898146510124 tensor(0.9609, device='cuda:0')\n"
     ]
    },
    {
     "name": "stderr",
     "output_type": "stream",
     "text": [
      "\r",
      " 96%|█████████▋| 77/80 [35:15<01:22, 27.53s/it]"
     ]
    },
    {
     "name": "stdout",
     "output_type": "stream",
     "text": [
      "Epoch[77/80], Train Loss:3.9359, Train Acc:0.98\n",
      "2.412325316108763 tensor(0.9614, device='cuda:0')\n"
     ]
    },
    {
     "name": "stderr",
     "output_type": "stream",
     "text": [
      "\r",
      " 98%|█████████▊| 78/80 [35:43<00:55, 27.58s/it]"
     ]
    },
    {
     "name": "stdout",
     "output_type": "stream",
     "text": [
      "Epoch[78/80], Train Loss:3.9260, Train Acc:0.98\n",
      "2.512137023732066 tensor(0.9603, device='cuda:0')\n"
     ]
    },
    {
     "name": "stderr",
     "output_type": "stream",
     "text": [
      "\r",
      " 99%|█████████▉| 79/80 [36:11<00:27, 27.58s/it]"
     ]
    },
    {
     "name": "stdout",
     "output_type": "stream",
     "text": [
      "Epoch[79/80], Train Loss:3.9978, Train Acc:0.98\n",
      "2.4624666403979063 tensor(0.9617, device='cuda:0')\n"
     ]
    },
    {
     "name": "stderr",
     "output_type": "stream",
     "text": [
      "100%|██████████| 80/80 [36:38<00:00, 27.49s/it]"
     ]
    },
    {
     "name": "stdout",
     "output_type": "stream",
     "text": [
      "Epoch[80/80], Train Loss:3.9077, Train Acc:0.98\n",
      "2.5227384008467197 tensor(0.9603, device='cuda:0')\n"
     ]
    },
    {
     "name": "stderr",
     "output_type": "stream",
     "text": [
      "\n"
     ]
    },
    {
     "data": {
      "text/plain": [
       "2198.8919184207916"
      ]
     },
     "execution_count": 14,
     "metadata": {},
     "output_type": "execute_result"
    }
   ],
   "source": [
    "import time, tqdm\n",
    "batch_size = 512\n",
    "train_loader = torch.utils.data.DataLoader(dataset=train_data,\n",
    "                                           batch_size=batch_size,\n",
    "                                           shuffle=True)\n",
    "\n",
    "valid_loader = torch.utils.data.DataLoader(dataset=valid_data,\n",
    "                                           batch_size=batch_size,\n",
    "                                           )\n",
    "\n",
    "model4 = MyNet(None, [1,1],52)\n",
    "model4.to(device)\n",
    "criterion = nn.CrossEntropyLoss()\n",
    "optimizer = torch.optim.Adam(model4.parameters(), lr=0.002)\n",
    "\n",
    "num_epochs = 80\n",
    "best_valid_loss = float('inf')\n",
    "best_epoch = 0\n",
    "start = time.time()\n",
    "trl = []\n",
    "tra = []\n",
    "vall =[]\n",
    "vala = []\n",
    "def get_lr(optimizer):\n",
    "    for param_group in optimizer.param_groups:\n",
    "        return param_group['lr']\n",
    "for epoch in tqdm.tqdm(range(num_epochs)):\n",
    "    train_loss, train_acc = train(model4, train_loader, optimizer, criterion)\n",
    "    valid_loss, valid_acc = valid(model4,valid_loader, criterion)\n",
    "    trl.append(train_loss)\n",
    "    tra.append(train_acc)\n",
    "    vall.append(valid_loss)\n",
    "    vala.append(valid_acc)\n",
    "#     if valid_loss < best_valid_loss:\n",
    "#         best_valid_loss = valid_loss\n",
    "#         best_epoch = epoch\n",
    "#         torch.save(model.state_dict(), \"./epoch_{}.pth\".format(epoch))\n",
    "\n",
    "    print(\"Epoch[{}/{}], Train Loss:{:.4f}, Train Acc:{:.2f}\".format(epoch+1, num_epochs, train_loss, train_acc))\n",
    "    print(valid_loss, valid_acc)\n",
    "#     if valid_acc > 0.9620:\n",
    "#         torch.save(model4.state_dict(), \"./epoch_{}.pth\".format(epoch))\n",
    "end = time.time()\n",
    "end-start\n",
    "# 구글 vs 내컴 : 280 -> 195\n",
    "# 경량화 모델 : 93.5 valid\n",
    "# 16으로 줄였을때 : 93 valid\n",
    "# 32으로 줄였을때 : 95.38 valid\n",
    "# 32에서 128block 하나 추가했을 때 : 0.9590\n",
    "# 32에서 128block,256block 두개 추가했을 때 : 0.9590\n",
    "\n",
    "# 32에서 128block 하나 추가했을 때 + dropout(0.3) : 도달속도epoch 0.9368, 최고 0.9606\n",
    "# 32에서 128block 하나 추가했을 때 + dropout + regularizer  : 96.04\n",
    "# 32에서 128block 하나 추가했을 때 + dropout(0.2) : 도달속도 epcoh5 0.9362 최고 \n",
    "\n",
    "\n",
    "# 32에서 128block 하나 추가했을 때 + dropout : 0.9606 모델 0.001 vs 0.005 vs 0.002 vs 0.0005 -> 0.002 이 더 빠름\n",
    "# resnet 1,1은 너무 느림"
   ]
  },
  {
   "cell_type": "code",
   "execution_count": 7,
   "id": "e0b88464",
   "metadata": {
    "scrolled": false
   },
   "outputs": [
    {
     "name": "stderr",
     "output_type": "stream",
     "text": [
      "  2%|▎         | 1/40 [00:30<20:06, 30.94s/it]"
     ]
    },
    {
     "name": "stdout",
     "output_type": "stream",
     "text": [
      "Epoch[1/40], Train Loss:55.4048, Train Acc:0.73\n",
      "5.936474710702896 tensor(0.8836, device='cuda:0')\n"
     ]
    },
    {
     "name": "stderr",
     "output_type": "stream",
     "text": [
      "\r",
      "  5%|▌         | 2/40 [00:59<18:37, 29.40s/it]"
     ]
    },
    {
     "name": "stdout",
     "output_type": "stream",
     "text": [
      "Epoch[2/40], Train Loss:18.2363, Train Acc:0.91\n",
      "3.7610999196767807 tensor(0.9191, device='cuda:0')\n"
     ]
    },
    {
     "name": "stderr",
     "output_type": "stream",
     "text": [
      "\r",
      "  8%|▊         | 3/40 [01:27<17:46, 28.82s/it]"
     ]
    },
    {
     "name": "stdout",
     "output_type": "stream",
     "text": [
      "Epoch[3/40], Train Loss:13.2529, Train Acc:0.93\n",
      "3.6229200959205627 tensor(0.9177, device='cuda:0')\n"
     ]
    },
    {
     "name": "stderr",
     "output_type": "stream",
     "text": [
      "\r",
      " 10%|█         | 4/40 [01:55<17:12, 28.67s/it]"
     ]
    },
    {
     "name": "stdout",
     "output_type": "stream",
     "text": [
      "Epoch[4/40], Train Loss:10.8556, Train Acc:0.94\n",
      "2.8231596648693085 tensor(0.9371, device='cuda:0')\n"
     ]
    },
    {
     "name": "stderr",
     "output_type": "stream",
     "text": [
      "\r",
      " 12%|█▎        | 5/40 [02:24<16:41, 28.60s/it]"
     ]
    },
    {
     "name": "stdout",
     "output_type": "stream",
     "text": [
      "Epoch[5/40], Train Loss:9.0387, Train Acc:0.95\n",
      "2.481726512312889 tensor(0.9399, device='cuda:0')\n"
     ]
    },
    {
     "name": "stderr",
     "output_type": "stream",
     "text": [
      "\r",
      " 15%|█▌        | 6/40 [02:52<16:09, 28.52s/it]"
     ]
    },
    {
     "name": "stdout",
     "output_type": "stream",
     "text": [
      "Epoch[6/40], Train Loss:7.9835, Train Acc:0.95\n",
      "2.434001252055168 tensor(0.9412, device='cuda:0')\n"
     ]
    },
    {
     "name": "stderr",
     "output_type": "stream",
     "text": [
      "\r",
      " 18%|█▊        | 7/40 [03:21<15:40, 28.51s/it]"
     ]
    },
    {
     "name": "stdout",
     "output_type": "stream",
     "text": [
      "Epoch[7/40], Train Loss:7.0716, Train Acc:0.96\n",
      "2.2444550171494484 tensor(0.9441, device='cuda:0')\n"
     ]
    },
    {
     "name": "stderr",
     "output_type": "stream",
     "text": [
      "\r",
      " 20%|██        | 8/40 [03:49<15:13, 28.53s/it]"
     ]
    },
    {
     "name": "stdout",
     "output_type": "stream",
     "text": [
      "Epoch[8/40], Train Loss:6.3689, Train Acc:0.96\n",
      "2.552134968340397 tensor(0.9381, device='cuda:0')\n"
     ]
    },
    {
     "name": "stderr",
     "output_type": "stream",
     "text": [
      "\r",
      " 22%|██▎       | 9/40 [04:37<17:46, 34.40s/it]"
     ]
    },
    {
     "name": "stdout",
     "output_type": "stream",
     "text": [
      "Epoch[9/40], Train Loss:5.8655, Train Acc:0.97\n",
      "2.354900024831295 tensor(0.9462, device='cuda:0')\n"
     ]
    },
    {
     "name": "stderr",
     "output_type": "stream",
     "text": [
      "\r",
      " 25%|██▌       | 10/40 [05:18<18:15, 36.52s/it]"
     ]
    },
    {
     "name": "stdout",
     "output_type": "stream",
     "text": [
      "Epoch[10/40], Train Loss:5.4107, Train Acc:0.97\n",
      "2.424376219511032 tensor(0.9476, device='cuda:0')\n"
     ]
    },
    {
     "name": "stderr",
     "output_type": "stream",
     "text": [
      "\r",
      " 28%|██▊       | 11/40 [05:46<16:22, 33.88s/it]"
     ]
    },
    {
     "name": "stdout",
     "output_type": "stream",
     "text": [
      "Epoch[11/40], Train Loss:5.5517, Train Acc:0.97\n",
      "2.313086673617363 tensor(0.9479, device='cuda:0')\n"
     ]
    },
    {
     "name": "stderr",
     "output_type": "stream",
     "text": [
      "\r",
      " 30%|███       | 12/40 [06:14<14:58, 32.08s/it]"
     ]
    },
    {
     "name": "stdout",
     "output_type": "stream",
     "text": [
      "Epoch[12/40], Train Loss:5.1067, Train Acc:0.97\n",
      "2.29758470505476 tensor(0.9510, device='cuda:0')\n"
     ]
    },
    {
     "name": "stderr",
     "output_type": "stream",
     "text": [
      "\r",
      " 32%|███▎      | 13/40 [06:42<13:51, 30.81s/it]"
     ]
    },
    {
     "name": "stdout",
     "output_type": "stream",
     "text": [
      "Epoch[13/40], Train Loss:4.4773, Train Acc:0.97\n",
      "2.150482013821602 tensor(0.9509, device='cuda:0')\n"
     ]
    },
    {
     "name": "stderr",
     "output_type": "stream",
     "text": [
      "\r",
      " 35%|███▌      | 14/40 [07:09<12:58, 29.93s/it]"
     ]
    },
    {
     "name": "stdout",
     "output_type": "stream",
     "text": [
      "Epoch[14/40], Train Loss:4.5817, Train Acc:0.97\n",
      "2.2738398611545563 tensor(0.9481, device='cuda:0')\n"
     ]
    },
    {
     "name": "stderr",
     "output_type": "stream",
     "text": [
      "\r",
      " 38%|███▊      | 15/40 [07:37<12:13, 29.34s/it]"
     ]
    },
    {
     "name": "stdout",
     "output_type": "stream",
     "text": [
      "Epoch[15/40], Train Loss:4.2936, Train Acc:0.97\n",
      "2.1885273456573486 tensor(0.9501, device='cuda:0')\n"
     ]
    },
    {
     "name": "stderr",
     "output_type": "stream",
     "text": [
      "\r",
      " 40%|████      | 16/40 [08:06<11:35, 28.96s/it]"
     ]
    },
    {
     "name": "stdout",
     "output_type": "stream",
     "text": [
      "Epoch[16/40], Train Loss:4.2150, Train Acc:0.97\n",
      "2.114317908883095 tensor(0.9524, device='cuda:0')\n"
     ]
    },
    {
     "name": "stderr",
     "output_type": "stream",
     "text": [
      "\r",
      " 42%|████▎     | 17/40 [08:34<11:02, 28.79s/it]"
     ]
    },
    {
     "name": "stdout",
     "output_type": "stream",
     "text": [
      "Epoch[17/40], Train Loss:4.0557, Train Acc:0.98\n",
      "2.289883889257908 tensor(0.9527, device='cuda:0')\n"
     ]
    },
    {
     "name": "stderr",
     "output_type": "stream",
     "text": [
      "\r",
      " 45%|████▌     | 18/40 [09:03<10:33, 28.78s/it]"
     ]
    },
    {
     "name": "stdout",
     "output_type": "stream",
     "text": [
      "Epoch[18/40], Train Loss:3.8644, Train Acc:0.98\n",
      "2.0337409377098083 tensor(0.9537, device='cuda:0')\n"
     ]
    },
    {
     "name": "stderr",
     "output_type": "stream",
     "text": [
      "\r",
      " 48%|████▊     | 19/40 [09:31<10:02, 28.71s/it]"
     ]
    },
    {
     "name": "stdout",
     "output_type": "stream",
     "text": [
      "Epoch[19/40], Train Loss:3.8011, Train Acc:0.98\n",
      "2.0049886628985405 tensor(0.9554, device='cuda:0')\n"
     ]
    },
    {
     "name": "stderr",
     "output_type": "stream",
     "text": [
      "\r",
      " 50%|█████     | 20/40 [10:00<09:33, 28.67s/it]"
     ]
    },
    {
     "name": "stdout",
     "output_type": "stream",
     "text": [
      "Epoch[20/40], Train Loss:3.4628, Train Acc:0.98\n",
      "1.878500759601593 tensor(0.9540, device='cuda:0')\n"
     ]
    },
    {
     "name": "stderr",
     "output_type": "stream",
     "text": [
      "\r",
      " 52%|█████▎    | 21/40 [10:28<09:03, 28.59s/it]"
     ]
    },
    {
     "name": "stdout",
     "output_type": "stream",
     "text": [
      "Epoch[21/40], Train Loss:3.6381, Train Acc:0.98\n",
      "1.9449028261005878 tensor(0.9569, device='cuda:0')\n"
     ]
    },
    {
     "name": "stderr",
     "output_type": "stream",
     "text": [
      "\r",
      " 55%|█████▌    | 22/40 [10:57<08:33, 28.53s/it]"
     ]
    },
    {
     "name": "stdout",
     "output_type": "stream",
     "text": [
      "Epoch[22/40], Train Loss:3.3903, Train Acc:0.98\n",
      "1.978263322263956 tensor(0.9535, device='cuda:0')\n"
     ]
    },
    {
     "name": "stderr",
     "output_type": "stream",
     "text": [
      "\r",
      " 57%|█████▊    | 23/40 [11:25<08:04, 28.49s/it]"
     ]
    },
    {
     "name": "stdout",
     "output_type": "stream",
     "text": [
      "Epoch[23/40], Train Loss:3.5426, Train Acc:0.98\n",
      "1.827479787170887 tensor(0.9562, device='cuda:0')\n"
     ]
    },
    {
     "name": "stderr",
     "output_type": "stream",
     "text": [
      "\r",
      " 60%|██████    | 24/40 [11:53<07:35, 28.50s/it]"
     ]
    },
    {
     "name": "stdout",
     "output_type": "stream",
     "text": [
      "Epoch[24/40], Train Loss:3.2192, Train Acc:0.98\n",
      "2.0449125319719315 tensor(0.9565, device='cuda:0')\n"
     ]
    },
    {
     "name": "stderr",
     "output_type": "stream",
     "text": [
      "\r",
      " 62%|██████▎   | 25/40 [12:22<07:07, 28.51s/it]"
     ]
    },
    {
     "name": "stdout",
     "output_type": "stream",
     "text": [
      "Epoch[25/40], Train Loss:3.3143, Train Acc:0.98\n",
      "2.0266601517796516 tensor(0.9574, device='cuda:0')\n"
     ]
    },
    {
     "name": "stderr",
     "output_type": "stream",
     "text": [
      "\r",
      " 65%|██████▌   | 26/40 [12:51<06:39, 28.50s/it]"
     ]
    },
    {
     "name": "stdout",
     "output_type": "stream",
     "text": [
      "Epoch[26/40], Train Loss:3.1893, Train Acc:0.98\n",
      "1.9291824288666248 tensor(0.9582, device='cuda:0')\n"
     ]
    },
    {
     "name": "stderr",
     "output_type": "stream",
     "text": [
      "\r",
      " 68%|██████▊   | 27/40 [13:19<06:10, 28.47s/it]"
     ]
    },
    {
     "name": "stdout",
     "output_type": "stream",
     "text": [
      "Epoch[27/40], Train Loss:3.0119, Train Acc:0.98\n",
      "1.9239913746714592 tensor(0.9556, device='cuda:0')\n"
     ]
    },
    {
     "name": "stderr",
     "output_type": "stream",
     "text": [
      "\r",
      " 70%|███████   | 28/40 [13:47<05:41, 28.46s/it]"
     ]
    },
    {
     "name": "stdout",
     "output_type": "stream",
     "text": [
      "Epoch[28/40], Train Loss:3.0370, Train Acc:0.98\n",
      "1.8645441308617592 tensor(0.9573, device='cuda:0')\n"
     ]
    },
    {
     "name": "stderr",
     "output_type": "stream",
     "text": [
      "\r",
      " 72%|███████▎  | 29/40 [14:16<05:13, 28.49s/it]"
     ]
    },
    {
     "name": "stdout",
     "output_type": "stream",
     "text": [
      "Epoch[29/40], Train Loss:3.0878, Train Acc:0.98\n",
      "1.930979110300541 tensor(0.9571, device='cuda:0')\n"
     ]
    },
    {
     "name": "stderr",
     "output_type": "stream",
     "text": [
      "\r",
      " 75%|███████▌  | 30/40 [14:44<04:44, 28.48s/it]"
     ]
    },
    {
     "name": "stdout",
     "output_type": "stream",
     "text": [
      "Epoch[30/40], Train Loss:3.0351, Train Acc:0.98\n",
      "2.0561088509857655 tensor(0.9581, device='cuda:0')\n"
     ]
    },
    {
     "name": "stderr",
     "output_type": "stream",
     "text": [
      "\r",
      " 78%|███████▊  | 31/40 [15:13<04:15, 28.43s/it]"
     ]
    },
    {
     "name": "stdout",
     "output_type": "stream",
     "text": [
      "Epoch[31/40], Train Loss:2.8789, Train Acc:0.98\n",
      "1.8958607986569405 tensor(0.9556, device='cuda:0')\n"
     ]
    },
    {
     "name": "stderr",
     "output_type": "stream",
     "text": [
      "\r",
      " 80%|████████  | 32/40 [15:41<03:47, 28.41s/it]"
     ]
    },
    {
     "name": "stdout",
     "output_type": "stream",
     "text": [
      "Epoch[32/40], Train Loss:2.8437, Train Acc:0.98\n",
      "2.0532113537192345 tensor(0.9585, device='cuda:0')\n"
     ]
    },
    {
     "name": "stderr",
     "output_type": "stream",
     "text": [
      "\r",
      " 82%|████████▎ | 33/40 [16:09<03:18, 28.43s/it]"
     ]
    },
    {
     "name": "stdout",
     "output_type": "stream",
     "text": [
      "Epoch[33/40], Train Loss:2.9019, Train Acc:0.98\n",
      "1.9212289042770863 tensor(0.9582, device='cuda:0')\n"
     ]
    },
    {
     "name": "stderr",
     "output_type": "stream",
     "text": [
      "\r",
      " 85%|████████▌ | 34/40 [16:38<02:50, 28.46s/it]"
     ]
    },
    {
     "name": "stdout",
     "output_type": "stream",
     "text": [
      "Epoch[34/40], Train Loss:2.8437, Train Acc:0.98\n",
      "1.960752110928297 tensor(0.9582, device='cuda:0')\n"
     ]
    },
    {
     "name": "stderr",
     "output_type": "stream",
     "text": [
      "\r",
      " 88%|████████▊ | 35/40 [17:06<02:22, 28.45s/it]"
     ]
    },
    {
     "name": "stdout",
     "output_type": "stream",
     "text": [
      "Epoch[35/40], Train Loss:2.7414, Train Acc:0.98\n",
      "1.8991326726973057 tensor(0.9573, device='cuda:0')\n"
     ]
    },
    {
     "name": "stderr",
     "output_type": "stream",
     "text": [
      "\r",
      " 90%|█████████ | 36/40 [17:35<01:53, 28.46s/it]"
     ]
    },
    {
     "name": "stdout",
     "output_type": "stream",
     "text": [
      "Epoch[36/40], Train Loss:2.6934, Train Acc:0.98\n",
      "1.9857887625694275 tensor(0.9550, device='cuda:0')\n"
     ]
    },
    {
     "name": "stderr",
     "output_type": "stream",
     "text": [
      "\r",
      " 92%|█████████▎| 37/40 [18:03<01:25, 28.48s/it]"
     ]
    },
    {
     "name": "stdout",
     "output_type": "stream",
     "text": [
      "Epoch[37/40], Train Loss:2.7596, Train Acc:0.98\n",
      "1.963427945971489 tensor(0.9608, device='cuda:0')\n"
     ]
    },
    {
     "name": "stderr",
     "output_type": "stream",
     "text": [
      "\r",
      " 95%|█████████▌| 38/40 [18:32<00:56, 28.45s/it]"
     ]
    },
    {
     "name": "stdout",
     "output_type": "stream",
     "text": [
      "Epoch[38/40], Train Loss:2.7503, Train Acc:0.98\n",
      "1.7850428745150566 tensor(0.9608, device='cuda:0')\n"
     ]
    },
    {
     "name": "stderr",
     "output_type": "stream",
     "text": [
      "\r",
      " 98%|█████████▊| 39/40 [19:00<00:28, 28.43s/it]"
     ]
    },
    {
     "name": "stdout",
     "output_type": "stream",
     "text": [
      "Epoch[39/40], Train Loss:2.6589, Train Acc:0.98\n",
      "1.889589834958315 tensor(0.9594, device='cuda:0')\n"
     ]
    },
    {
     "name": "stderr",
     "output_type": "stream",
     "text": [
      "100%|██████████| 40/40 [19:29<00:00, 29.23s/it]"
     ]
    },
    {
     "name": "stdout",
     "output_type": "stream",
     "text": [
      "Epoch[40/40], Train Loss:2.5786, Train Acc:0.98\n",
      "1.7541182190179825 tensor(0.9579, device='cuda:0')\n"
     ]
    },
    {
     "name": "stderr",
     "output_type": "stream",
     "text": [
      "\n"
     ]
    },
    {
     "data": {
      "text/plain": [
       "1169.1543028354645"
      ]
     },
     "execution_count": 7,
     "metadata": {},
     "output_type": "execute_result"
    }
   ],
   "source": [
    "import time, tqdm\n",
    "batch_size = 768\n",
    "train_loader = torch.utils.data.DataLoader(dataset=train_data,\n",
    "                                           batch_size=batch_size,\n",
    "                                           shuffle=True)\n",
    "\n",
    "valid_loader = torch.utils.data.DataLoader(dataset=valid_data,\n",
    "                                           batch_size=batch_size,\n",
    "                                           )\n",
    "\n",
    "model4 = MyNet(None, [1,1],52)\n",
    "model4.to(device)\n",
    "criterion = nn.CrossEntropyLoss()\n",
    "optimizer = torch.optim.Adam(model4.parameters(), lr=0.002)\n",
    "\n",
    "num_epochs = 40\n",
    "best_valid_loss = float('inf')\n",
    "best_epoch = 0\n",
    "start = time.time()\n",
    "trl = []\n",
    "tra = []\n",
    "vall =[]\n",
    "vala = []\n",
    "def get_lr(optimizer):\n",
    "    for param_group in optimizer.param_groups:\n",
    "        return param_group['lr']\n",
    "for epoch in tqdm.tqdm(range(num_epochs)):\n",
    "    train_loss, train_acc = train(model4, train_loader, optimizer, criterion)\n",
    "    valid_loss, valid_acc = valid(model4,valid_loader, criterion)\n",
    "#     trl.append(train_loss)\n",
    "#     tra.append(train_acc)\n",
    "#     vall.append(valid_loss)\n",
    "#     vala.append(valid_acc)\n",
    "#     if valid_loss < best_valid_loss:\n",
    "#         best_valid_loss = valid_loss\n",
    "#         best_epoch = epoch\n",
    "#         torch.save(model.state_dict(), \"./epoch_{}.pth\".format(epoch))\n",
    "\n",
    "    print(\"Epoch[{}/{}], Train Loss:{:.4f}, Train Acc:{:.2f}\".format(epoch+1, num_epochs, train_loss, train_acc))\n",
    "    print(valid_loss, valid_acc)\n",
    "end = time.time()\n",
    "end-start\n",
    "# 구글 vs 내컴 : 280 -> 195\n",
    "# 경량화 모델 : 93.5 valid\n",
    "# 16으로 줄였을때 : 93 valid\n",
    "# 32으로 줄였을때 : 95.38 valid\n",
    "# 32에서 128block 하나 추가했을 때 : 0.9590\n",
    "# 32에서 128block,256block 두개 추가했을 때 : 0.9590\n",
    "\n",
    "# 32에서 128block 하나 추가했을 때 + dropout(0.3) : 도달속도epoch 0.9368, 최고 0.9606\n",
    "# 32에서 128block 하나 추가했을 때 + dropout + regularizer  : 96.04\n",
    "# 32에서 128block 하나 추가했을 때 + dropout(0.2) : 도달속도 epcoh5 0.9362 최고 \n",
    "\n",
    "\n",
    "# 32에서 128block 하나 추가했을 때 + dropout : 0.9606 모델 0.001 vs 0.005 vs 0.002 vs 0.0005 -> 0.002 이 더 빠름\n",
    "# resnet 1,1은 너무 느림"
   ]
  },
  {
   "cell_type": "code",
   "execution_count": 5,
   "id": "31ce9d40",
   "metadata": {
    "scrolled": false
   },
   "outputs": [
    {
     "name": "stderr",
     "output_type": "stream",
     "text": [
      "  2%|▎         | 1/40 [00:36<23:27, 36.08s/it]"
     ]
    },
    {
     "name": "stdout",
     "output_type": "stream",
     "text": [
      "Epoch[1/40], Train Loss:46.7142, Train Acc:0.70\n",
      "5.408009886741638 tensor(0.8505, device='cuda:0')\n"
     ]
    },
    {
     "name": "stderr",
     "output_type": "stream",
     "text": [
      "\r",
      "  5%|▌         | 2/40 [01:04<20:06, 31.75s/it]"
     ]
    },
    {
     "name": "stdout",
     "output_type": "stream",
     "text": [
      "Epoch[2/40], Train Loss:15.3900, Train Acc:0.90\n",
      "2.9848126471042633 tensor(0.9083, device='cuda:0')\n"
     ]
    },
    {
     "name": "stderr",
     "output_type": "stream",
     "text": [
      "\r",
      "  8%|▊         | 3/40 [01:33<18:43, 30.37s/it]"
     ]
    },
    {
     "name": "stdout",
     "output_type": "stream",
     "text": [
      "Epoch[3/40], Train Loss:11.0001, Train Acc:0.92\n",
      "2.4206464141607285 tensor(0.9201, device='cuda:0')\n"
     ]
    },
    {
     "name": "stderr",
     "output_type": "stream",
     "text": [
      "\r",
      " 10%|█         | 4/40 [02:02<17:48, 29.68s/it]"
     ]
    },
    {
     "name": "stdout",
     "output_type": "stream",
     "text": [
      "Epoch[4/40], Train Loss:9.0967, Train Acc:0.93\n",
      "2.1884885728359222 tensor(0.9318, device='cuda:0')\n"
     ]
    },
    {
     "name": "stderr",
     "output_type": "stream",
     "text": [
      "\r",
      " 12%|█▎        | 5/40 [02:30<17:06, 29.32s/it]"
     ]
    },
    {
     "name": "stdout",
     "output_type": "stream",
     "text": [
      "Epoch[5/40], Train Loss:7.7175, Train Acc:0.94\n",
      "1.9999942034482956 tensor(0.9362, device='cuda:0')\n"
     ]
    },
    {
     "name": "stderr",
     "output_type": "stream",
     "text": [
      "\r",
      " 15%|█▌        | 6/40 [02:59<16:31, 29.16s/it]"
     ]
    },
    {
     "name": "stdout",
     "output_type": "stream",
     "text": [
      "Epoch[6/40], Train Loss:6.7131, Train Acc:0.95\n",
      "1.8310119807720184 tensor(0.9412, device='cuda:0')\n"
     ]
    },
    {
     "name": "stderr",
     "output_type": "stream",
     "text": [
      "\r",
      " 18%|█▊        | 7/40 [03:28<15:58, 29.04s/it]"
     ]
    },
    {
     "name": "stdout",
     "output_type": "stream",
     "text": [
      "Epoch[7/40], Train Loss:5.9140, Train Acc:0.95\n",
      "1.9045404940843582 tensor(0.9428, device='cuda:0')\n"
     ]
    },
    {
     "name": "stderr",
     "output_type": "stream",
     "text": [
      "\r",
      " 20%|██        | 8/40 [03:57<15:28, 29.01s/it]"
     ]
    },
    {
     "name": "stdout",
     "output_type": "stream",
     "text": [
      "Epoch[8/40], Train Loss:5.4181, Train Acc:0.96\n",
      "1.688267719000578 tensor(0.9432, device='cuda:0')\n"
     ]
    },
    {
     "name": "stderr",
     "output_type": "stream",
     "text": [
      "\r",
      " 22%|██▎       | 9/40 [04:26<14:58, 28.97s/it]"
     ]
    },
    {
     "name": "stdout",
     "output_type": "stream",
     "text": [
      "Epoch[9/40], Train Loss:4.8718, Train Acc:0.96\n",
      "1.7264378890395164 tensor(0.9435, device='cuda:0')\n"
     ]
    },
    {
     "name": "stderr",
     "output_type": "stream",
     "text": [
      "\r",
      " 25%|██▌       | 10/40 [04:54<14:25, 28.84s/it]"
     ]
    },
    {
     "name": "stdout",
     "output_type": "stream",
     "text": [
      "Epoch[10/40], Train Loss:4.8267, Train Acc:0.96\n",
      "1.6591468192636967 tensor(0.9440, device='cuda:0')\n"
     ]
    },
    {
     "name": "stderr",
     "output_type": "stream",
     "text": [
      "\r",
      " 28%|██▊       | 11/40 [05:23<13:55, 28.80s/it]"
     ]
    },
    {
     "name": "stdout",
     "output_type": "stream",
     "text": [
      "Epoch[11/40], Train Loss:4.5899, Train Acc:0.97\n",
      "1.4126926735043526 tensor(0.9524, device='cuda:0')\n"
     ]
    },
    {
     "name": "stderr",
     "output_type": "stream",
     "text": [
      "\r",
      " 30%|███       | 12/40 [05:52<13:27, 28.83s/it]"
     ]
    },
    {
     "name": "stdout",
     "output_type": "stream",
     "text": [
      "Epoch[12/40], Train Loss:4.1203, Train Acc:0.97\n",
      "1.5151922702789307 tensor(0.9490, device='cuda:0')\n"
     ]
    },
    {
     "name": "stderr",
     "output_type": "stream",
     "text": [
      "\r",
      " 32%|███▎      | 13/40 [06:21<12:59, 28.88s/it]"
     ]
    },
    {
     "name": "stdout",
     "output_type": "stream",
     "text": [
      "Epoch[13/40], Train Loss:4.1221, Train Acc:0.97\n",
      "1.4681867808103561 tensor(0.9521, device='cuda:0')\n"
     ]
    },
    {
     "name": "stderr",
     "output_type": "stream",
     "text": [
      "\r",
      " 35%|███▌      | 14/40 [06:50<12:30, 28.88s/it]"
     ]
    },
    {
     "name": "stdout",
     "output_type": "stream",
     "text": [
      "Epoch[14/40], Train Loss:3.8630, Train Acc:0.97\n",
      "1.5542484447360039 tensor(0.9505, device='cuda:0')\n"
     ]
    },
    {
     "name": "stderr",
     "output_type": "stream",
     "text": [
      "\r",
      " 38%|███▊      | 15/40 [07:19<12:03, 28.93s/it]"
     ]
    },
    {
     "name": "stdout",
     "output_type": "stream",
     "text": [
      "Epoch[15/40], Train Loss:3.8659, Train Acc:0.97\n",
      "1.4832464531064034 tensor(0.9524, device='cuda:0')\n"
     ]
    },
    {
     "name": "stderr",
     "output_type": "stream",
     "text": [
      "\r",
      " 40%|████      | 16/40 [07:48<11:34, 28.95s/it]"
     ]
    },
    {
     "name": "stdout",
     "output_type": "stream",
     "text": [
      "Epoch[16/40], Train Loss:3.5904, Train Acc:0.97\n",
      "1.5296095833182335 tensor(0.9523, device='cuda:0')\n"
     ]
    },
    {
     "name": "stderr",
     "output_type": "stream",
     "text": [
      "\r",
      " 42%|████▎     | 17/40 [08:17<11:05, 28.94s/it]"
     ]
    },
    {
     "name": "stdout",
     "output_type": "stream",
     "text": [
      "Epoch[17/40], Train Loss:3.5197, Train Acc:0.97\n",
      "1.4264772534370422 tensor(0.9540, device='cuda:0')\n"
     ]
    },
    {
     "name": "stderr",
     "output_type": "stream",
     "text": [
      "\r",
      " 45%|████▌     | 18/40 [08:46<10:37, 28.97s/it]"
     ]
    },
    {
     "name": "stdout",
     "output_type": "stream",
     "text": [
      "Epoch[18/40], Train Loss:3.3071, Train Acc:0.97\n",
      "1.406837061047554 tensor(0.9538, device='cuda:0')\n"
     ]
    },
    {
     "name": "stderr",
     "output_type": "stream",
     "text": [
      "\r",
      " 48%|████▊     | 19/40 [09:15<10:07, 28.95s/it]"
     ]
    },
    {
     "name": "stdout",
     "output_type": "stream",
     "text": [
      "Epoch[19/40], Train Loss:3.2506, Train Acc:0.97\n",
      "1.486531913280487 tensor(0.9526, device='cuda:0')\n"
     ]
    },
    {
     "name": "stderr",
     "output_type": "stream",
     "text": [
      "\r",
      " 50%|█████     | 20/40 [09:44<09:38, 28.94s/it]"
     ]
    },
    {
     "name": "stdout",
     "output_type": "stream",
     "text": [
      "Epoch[20/40], Train Loss:3.0871, Train Acc:0.97\n",
      "1.4064833298325539 tensor(0.9550, device='cuda:0')\n"
     ]
    },
    {
     "name": "stderr",
     "output_type": "stream",
     "text": [
      "\r",
      " 52%|█████▎    | 21/40 [10:13<09:10, 28.96s/it]"
     ]
    },
    {
     "name": "stdout",
     "output_type": "stream",
     "text": [
      "Epoch[21/40], Train Loss:2.9395, Train Acc:0.98\n",
      "1.3672774955630302 tensor(0.9532, device='cuda:0')\n"
     ]
    },
    {
     "name": "stderr",
     "output_type": "stream",
     "text": [
      "\r",
      " 55%|█████▌    | 22/40 [10:42<08:41, 28.96s/it]"
     ]
    },
    {
     "name": "stdout",
     "output_type": "stream",
     "text": [
      "Epoch[22/40], Train Loss:2.7845, Train Acc:0.98\n",
      "1.4034896567463875 tensor(0.9505, device='cuda:0')\n"
     ]
    },
    {
     "name": "stderr",
     "output_type": "stream",
     "text": [
      "\r",
      " 57%|█████▊    | 23/40 [11:10<08:11, 28.89s/it]"
     ]
    },
    {
     "name": "stdout",
     "output_type": "stream",
     "text": [
      "Epoch[23/40], Train Loss:2.9471, Train Acc:0.98\n",
      "1.4552526846528053 tensor(0.9547, device='cuda:0')\n"
     ]
    },
    {
     "name": "stderr",
     "output_type": "stream",
     "text": [
      "\r",
      " 60%|██████    | 24/40 [11:39<07:40, 28.81s/it]"
     ]
    },
    {
     "name": "stdout",
     "output_type": "stream",
     "text": [
      "Epoch[24/40], Train Loss:2.8351, Train Acc:0.98\n",
      "1.5800805762410164 tensor(0.9483, device='cuda:0')\n"
     ]
    },
    {
     "name": "stderr",
     "output_type": "stream",
     "text": [
      "\r",
      " 62%|██████▎   | 25/40 [12:08<07:11, 28.76s/it]"
     ]
    },
    {
     "name": "stdout",
     "output_type": "stream",
     "text": [
      "Epoch[25/40], Train Loss:2.7788, Train Acc:0.98\n",
      "1.4478778392076492 tensor(0.9568, device='cuda:0')\n"
     ]
    },
    {
     "name": "stderr",
     "output_type": "stream",
     "text": [
      "\r",
      " 65%|██████▌   | 26/40 [12:36<06:41, 28.70s/it]"
     ]
    },
    {
     "name": "stdout",
     "output_type": "stream",
     "text": [
      "Epoch[26/40], Train Loss:2.9054, Train Acc:0.98\n",
      "1.4564736112952232 tensor(0.9560, device='cuda:0')\n"
     ]
    },
    {
     "name": "stderr",
     "output_type": "stream",
     "text": [
      "\r",
      " 68%|██████▊   | 27/40 [13:05<06:13, 28.72s/it]"
     ]
    },
    {
     "name": "stdout",
     "output_type": "stream",
     "text": [
      "Epoch[27/40], Train Loss:2.8056, Train Acc:0.98\n",
      "1.401016280055046 tensor(0.9560, device='cuda:0')\n"
     ]
    },
    {
     "name": "stderr",
     "output_type": "stream",
     "text": [
      "\r",
      " 70%|███████   | 28/40 [13:34<05:44, 28.69s/it]"
     ]
    },
    {
     "name": "stdout",
     "output_type": "stream",
     "text": [
      "Epoch[28/40], Train Loss:2.6640, Train Acc:0.98\n",
      "1.3678046390414238 tensor(0.9585, device='cuda:0')\n"
     ]
    },
    {
     "name": "stderr",
     "output_type": "stream",
     "text": [
      "\r",
      " 72%|███████▎  | 29/40 [14:02<05:16, 28.77s/it]"
     ]
    },
    {
     "name": "stdout",
     "output_type": "stream",
     "text": [
      "Epoch[29/40], Train Loss:2.6388, Train Acc:0.98\n",
      "1.5278807580471039 tensor(0.9528, device='cuda:0')\n"
     ]
    },
    {
     "name": "stderr",
     "output_type": "stream",
     "text": [
      "\r",
      " 75%|███████▌  | 30/40 [14:32<04:48, 28.89s/it]"
     ]
    },
    {
     "name": "stdout",
     "output_type": "stream",
     "text": [
      "Epoch[30/40], Train Loss:2.6292, Train Acc:0.98\n",
      "1.4136394560337067 tensor(0.9564, device='cuda:0')\n"
     ]
    },
    {
     "name": "stderr",
     "output_type": "stream",
     "text": [
      "\r",
      " 78%|███████▊  | 31/40 [15:01<04:20, 28.96s/it]"
     ]
    },
    {
     "name": "stdout",
     "output_type": "stream",
     "text": [
      "Epoch[31/40], Train Loss:2.5328, Train Acc:0.98\n",
      "1.3091213628649712 tensor(0.9579, device='cuda:0')\n"
     ]
    },
    {
     "name": "stderr",
     "output_type": "stream",
     "text": [
      "\r",
      " 80%|████████  | 32/40 [15:30<03:51, 28.98s/it]"
     ]
    },
    {
     "name": "stdout",
     "output_type": "stream",
     "text": [
      "Epoch[32/40], Train Loss:2.3565, Train Acc:0.98\n",
      "1.494510568678379 tensor(0.9574, device='cuda:0')\n"
     ]
    },
    {
     "name": "stderr",
     "output_type": "stream",
     "text": [
      "\r",
      " 82%|████████▎ | 33/40 [15:59<03:22, 28.94s/it]"
     ]
    },
    {
     "name": "stdout",
     "output_type": "stream",
     "text": [
      "Epoch[33/40], Train Loss:2.3401, Train Acc:0.98\n",
      "1.3945046812295914 tensor(0.9587, device='cuda:0')\n"
     ]
    },
    {
     "name": "stderr",
     "output_type": "stream",
     "text": [
      "\r",
      " 85%|████████▌ | 34/40 [16:27<02:53, 28.88s/it]"
     ]
    },
    {
     "name": "stdout",
     "output_type": "stream",
     "text": [
      "Epoch[34/40], Train Loss:2.4456, Train Acc:0.98\n",
      "1.2996799945831299 tensor(0.9596, device='cuda:0')\n"
     ]
    },
    {
     "name": "stderr",
     "output_type": "stream",
     "text": [
      "\r",
      " 88%|████████▊ | 35/40 [16:56<02:24, 28.83s/it]"
     ]
    },
    {
     "name": "stdout",
     "output_type": "stream",
     "text": [
      "Epoch[35/40], Train Loss:2.3034, Train Acc:0.98\n",
      "1.3436139300465584 tensor(0.9582, device='cuda:0')\n"
     ]
    },
    {
     "name": "stderr",
     "output_type": "stream",
     "text": [
      "\r",
      " 90%|█████████ | 36/40 [17:25<01:55, 28.79s/it]"
     ]
    },
    {
     "name": "stdout",
     "output_type": "stream",
     "text": [
      "Epoch[36/40], Train Loss:2.4162, Train Acc:0.98\n",
      "1.3798124939203262 tensor(0.9582, device='cuda:0')\n"
     ]
    },
    {
     "name": "stderr",
     "output_type": "stream",
     "text": [
      "\r",
      " 92%|█████████▎| 37/40 [17:53<01:26, 28.73s/it]"
     ]
    },
    {
     "name": "stdout",
     "output_type": "stream",
     "text": [
      "Epoch[37/40], Train Loss:2.3241, Train Acc:0.98\n",
      "1.4057519808411598 tensor(0.9572, device='cuda:0')\n"
     ]
    },
    {
     "name": "stderr",
     "output_type": "stream",
     "text": [
      "\r",
      " 95%|█████████▌| 38/40 [18:22<00:57, 28.71s/it]"
     ]
    },
    {
     "name": "stdout",
     "output_type": "stream",
     "text": [
      "Epoch[38/40], Train Loss:2.2766, Train Acc:0.98\n",
      "1.3401993587613106 tensor(0.9592, device='cuda:0')\n"
     ]
    },
    {
     "name": "stderr",
     "output_type": "stream",
     "text": [
      "\r",
      " 98%|█████████▊| 39/40 [18:51<00:28, 28.86s/it]"
     ]
    },
    {
     "name": "stdout",
     "output_type": "stream",
     "text": [
      "Epoch[39/40], Train Loss:2.2475, Train Acc:0.98\n",
      "1.3641681224107742 tensor(0.9581, device='cuda:0')\n"
     ]
    },
    {
     "name": "stderr",
     "output_type": "stream",
     "text": [
      "100%|██████████| 40/40 [19:20<00:00, 29.02s/it]"
     ]
    },
    {
     "name": "stdout",
     "output_type": "stream",
     "text": [
      "Epoch[40/40], Train Loss:2.1357, Train Acc:0.98\n",
      "1.4198737442493439 tensor(0.9588, device='cuda:0')\n"
     ]
    },
    {
     "name": "stderr",
     "output_type": "stream",
     "text": [
      "\n"
     ]
    },
    {
     "data": {
      "text/plain": [
       "1160.7241089344025"
      ]
     },
     "execution_count": 5,
     "metadata": {},
     "output_type": "execute_result"
    }
   ],
   "source": [
    "import time, tqdm\n",
    "batch_size = 1024\n",
    "train_loader = torch.utils.data.DataLoader(dataset=train_data,\n",
    "                                           batch_size=batch_size,\n",
    "                                           shuffle=True)\n",
    "\n",
    "valid_loader = torch.utils.data.DataLoader(dataset=valid_data,\n",
    "                                           batch_size=batch_size,\n",
    "                                           )\n",
    "\n",
    "model4 = MyNet(None, [1,1],52)\n",
    "model4.to(device)\n",
    "criterion = nn.CrossEntropyLoss()\n",
    "optimizer = torch.optim.Adam(model4.parameters(), lr=0.002)\n",
    "\n",
    "num_epochs = 40\n",
    "best_valid_loss = float('inf')\n",
    "best_epoch = 0\n",
    "start = time.time()\n",
    "trl = []\n",
    "tra = []\n",
    "vall =[]\n",
    "vala = []\n",
    "def get_lr(optimizer):\n",
    "    for param_group in optimizer.param_groups:\n",
    "        return param_group['lr']\n",
    "for epoch in tqdm.tqdm(range(num_epochs)):\n",
    "    train_loss, train_acc = train(model4, train_loader, optimizer, criterion)\n",
    "    valid_loss, valid_acc = valid(model4,valid_loader, criterion)\n",
    "#     trl.append(train_loss)\n",
    "#     tra.append(train_acc)\n",
    "#     vall.append(valid_loss)\n",
    "#     vala.append(valid_acc)\n",
    "#     if valid_loss < best_valid_loss:\n",
    "#         best_valid_loss = valid_loss\n",
    "#         best_epoch = epoch\n",
    "#         torch.save(model.state_dict(), \"./epoch_{}.pth\".format(epoch))\n",
    "\n",
    "    print(\"Epoch[{}/{}], Train Loss:{:.4f}, Train Acc:{:.2f}\".format(epoch+1, num_epochs, train_loss, train_acc))\n",
    "    print(valid_loss, valid_acc)\n",
    "end = time.time()\n",
    "end-start\n",
    "# 구글 vs 내컴 : 280 -> 195\n",
    "# 경량화 모델 : 93.5 valid\n",
    "# 16으로 줄였을때 : 93 valid\n",
    "# 32으로 줄였을때 : 95.38 valid\n",
    "# 32에서 128block 하나 추가했을 때 : 0.9590\n",
    "# 32에서 128block,256block 두개 추가했을 때 : 0.9590\n",
    "\n",
    "# 32에서 128block 하나 추가했을 때 + dropout(0.3) : 도달속도epoch 0.9368, 최고 0.9606\n",
    "# 32에서 128block 하나 추가했을 때 + dropout + regularizer  : 96.04\n",
    "# 32에서 128block 하나 추가했을 때 + dropout(0.2) : 도달속도 epcoh5 0.9362 최고 \n",
    "\n",
    "\n",
    "# 32에서 128block 하나 추가했을 때 + dropout : 0.9606 모델 0.001 vs 0.005 vs 0.002 vs 0.0005 -> 0.002 이 더 빠름\n",
    "# resnet 1,1은 너무 느림"
   ]
  },
  {
   "cell_type": "code",
   "execution_count": 105,
   "id": "bc1fd46d",
   "metadata": {},
   "outputs": [],
   "source": [
    "class MyNet(nn.Module):\n",
    "\n",
    "    def __init__(self, block, layers, num_classe):\n",
    "        super(MyNet, self).__init__()\n",
    "        self._norm_layer = nn.BatchNorm2d\n",
    "\n",
    "        self.dilation = 1\n",
    "        self.conv1 = nn.Conv2d(1, 32, kernel_size=7, stride=2, padding=3,\n",
    "                               bias=False)\n",
    "        \n",
    "        self.bn1 = nn.BatchNorm2d(32)\n",
    "        self.relu = nn.ReLU(inplace=True)\n",
    "        self.maxpool = nn.MaxPool2d(kernel_size=3, stride=2, padding=1)\n",
    "        self.conv2 = nn.Conv2d(32, 64, kernel_size=3, stride=2, padding=1,\n",
    "                               bias=False)\n",
    "        self.bn2 = nn.BatchNorm2d(64)\n",
    "        self.relu2 = nn.ReLU(inplace=True)\n",
    "        \n",
    "        self.conv3 = nn.Conv2d(64, 128, kernel_size=3, stride=2, padding=1,\n",
    "                               bias=False)\n",
    "        self.bn3 = nn.BatchNorm2d(128)\n",
    "        self.relu3 = nn.ReLU(inplace=True)\n",
    "\n",
    "        \n",
    "        self.downsample1 = nn.Sequential(\n",
    "                nn.Conv2d(32, 64, kernel_size=1, stride=2, bias=False),\n",
    "                nn.BatchNorm2d(64),\n",
    "            )\n",
    "        self.downsample2 = nn.Sequential(\n",
    "                nn.Conv2d(64, 128, kernel_size=1, stride=2, bias=False),\n",
    "                nn.BatchNorm2d(128),\n",
    "            )\n",
    "        self.dropout = nn.Dropout(0.3)\n",
    "        self.fc = nn.Linear(4608, num_classe)\n",
    "\n",
    "        for m in self.modules():\n",
    "            if isinstance(m, nn.Conv2d):\n",
    "                nn.init.kaiming_normal_(m.weight, mode='fan_out', nonlinearity='relu')\n",
    "            elif isinstance(m, (nn.BatchNorm2d, nn.GroupNorm)):\n",
    "                nn.init.constant_(m.weight, 1)\n",
    "                nn.init.constant_(m.bias, 0)\n",
    "\n",
    "    def _forward_impl(self, x):\n",
    "        x = self.conv1(x)\n",
    "        x = self.bn1(x)\n",
    "        x = self.relu(x)\n",
    "        x = self.maxpool(x)\n",
    "        ident = self.downsample1(x)\n",
    "        x = self.conv2(x)\n",
    "        x = self.bn2(x) + ident\n",
    "        x = self.relu2(x)\n",
    "        ident = self.downsample2(x)\n",
    "        x = self.conv3(x)\n",
    "        x = self.bn3(x) + ident\n",
    "        x = self.relu3(x)\n",
    "        \n",
    "        x = torch.flatten(x,1)\n",
    "#         print(x.shape)\n",
    "        x = self.dropout(x)\n",
    "        x = self.fc(x)\n",
    "\n",
    "        return x\n",
    "\n",
    "    def forward(self, x):\n",
    "        return self._forward_impl(x)\n"
   ]
  },
  {
   "cell_type": "code",
   "execution_count": 5,
   "id": "a441a975",
   "metadata": {
    "scrolled": false
   },
   "outputs": [
    {
     "name": "stderr",
     "output_type": "stream",
     "text": [
      "  0%|          | 0/5 [00:10<?, ?it/s]\n"
     ]
    },
    {
     "ename": "KeyboardInterrupt",
     "evalue": "",
     "output_type": "error",
     "traceback": [
      "\u001b[1;31m---------------------------------------------------------------------------\u001b[0m",
      "\u001b[1;31mKeyboardInterrupt\u001b[0m                         Traceback (most recent call last)",
      "\u001b[1;32m~\\AppData\\Local\\Temp/ipykernel_4484/2848892561.py\u001b[0m in \u001b[0;36m<module>\u001b[1;34m\u001b[0m\n\u001b[0;32m     23\u001b[0m \u001b[0mvala\u001b[0m \u001b[1;33m=\u001b[0m \u001b[1;33m[\u001b[0m\u001b[1;33m]\u001b[0m\u001b[1;33m\u001b[0m\u001b[1;33m\u001b[0m\u001b[0m\n\u001b[0;32m     24\u001b[0m \u001b[1;32mfor\u001b[0m \u001b[0mepoch\u001b[0m \u001b[1;32min\u001b[0m \u001b[0mtqdm\u001b[0m\u001b[1;33m.\u001b[0m\u001b[0mtqdm\u001b[0m\u001b[1;33m(\u001b[0m\u001b[0mrange\u001b[0m\u001b[1;33m(\u001b[0m\u001b[0mnum_epochs\u001b[0m\u001b[1;33m)\u001b[0m\u001b[1;33m)\u001b[0m\u001b[1;33m:\u001b[0m\u001b[1;33m\u001b[0m\u001b[1;33m\u001b[0m\u001b[0m\n\u001b[1;32m---> 25\u001b[1;33m     \u001b[0mtrain_loss\u001b[0m\u001b[1;33m,\u001b[0m \u001b[0mtrain_acc\u001b[0m \u001b[1;33m=\u001b[0m \u001b[0mtrain\u001b[0m\u001b[1;33m(\u001b[0m\u001b[0mmodel\u001b[0m\u001b[1;33m,\u001b[0m \u001b[0mtrain_loader\u001b[0m\u001b[1;33m,\u001b[0m \u001b[0moptimizer\u001b[0m\u001b[1;33m,\u001b[0m \u001b[0mcriterion\u001b[0m\u001b[1;33m)\u001b[0m\u001b[1;33m\u001b[0m\u001b[1;33m\u001b[0m\u001b[0m\n\u001b[0m\u001b[0;32m     26\u001b[0m \u001b[1;31m#     scheduler.step()\u001b[0m\u001b[1;33m\u001b[0m\u001b[1;33m\u001b[0m\u001b[1;33m\u001b[0m\u001b[0m\n\u001b[0;32m     27\u001b[0m     \u001b[0mvalid_loss\u001b[0m\u001b[1;33m,\u001b[0m \u001b[0mvalid_acc\u001b[0m \u001b[1;33m=\u001b[0m \u001b[0mvalid\u001b[0m\u001b[1;33m(\u001b[0m\u001b[0mmodel\u001b[0m\u001b[1;33m,\u001b[0m\u001b[0mvalid_loader\u001b[0m\u001b[1;33m,\u001b[0m \u001b[0mcriterion\u001b[0m\u001b[1;33m)\u001b[0m\u001b[1;33m\u001b[0m\u001b[1;33m\u001b[0m\u001b[0m\n",
      "\u001b[1;32m~\\AppData\\Local\\Temp/ipykernel_4484/3088433422.py\u001b[0m in \u001b[0;36mtrain\u001b[1;34m(model, train_loader, optimizer, criterion)\u001b[0m\n\u001b[0;32m      4\u001b[0m     \u001b[0mmodel\u001b[0m\u001b[1;33m.\u001b[0m\u001b[0mtrain\u001b[0m\u001b[1;33m(\u001b[0m\u001b[1;33m)\u001b[0m\u001b[1;33m\u001b[0m\u001b[1;33m\u001b[0m\u001b[0m\n\u001b[0;32m      5\u001b[0m \u001b[1;33m\u001b[0m\u001b[0m\n\u001b[1;32m----> 6\u001b[1;33m     \u001b[1;32mfor\u001b[0m \u001b[0mi\u001b[0m\u001b[1;33m,\u001b[0m \u001b[1;33m(\u001b[0m\u001b[0mimage\u001b[0m\u001b[1;33m,\u001b[0m \u001b[0mlabel\u001b[0m\u001b[1;33m)\u001b[0m \u001b[1;32min\u001b[0m \u001b[0menumerate\u001b[0m\u001b[1;33m(\u001b[0m\u001b[0mtrain_loader\u001b[0m\u001b[1;33m)\u001b[0m\u001b[1;33m:\u001b[0m\u001b[1;33m\u001b[0m\u001b[1;33m\u001b[0m\u001b[0m\n\u001b[0m\u001b[0;32m      7\u001b[0m         \u001b[0mimage\u001b[0m \u001b[1;33m=\u001b[0m \u001b[0mimage\u001b[0m\u001b[1;33m.\u001b[0m\u001b[0mto\u001b[0m\u001b[1;33m(\u001b[0m\u001b[0mdevice\u001b[0m\u001b[1;33m)\u001b[0m\u001b[1;33m\u001b[0m\u001b[1;33m\u001b[0m\u001b[0m\n\u001b[0;32m      8\u001b[0m         \u001b[0mlabel\u001b[0m \u001b[1;33m=\u001b[0m \u001b[0mlabel\u001b[0m\u001b[1;33m.\u001b[0m\u001b[0mto\u001b[0m\u001b[1;33m(\u001b[0m\u001b[0mdevice\u001b[0m\u001b[1;33m)\u001b[0m\u001b[1;33m\u001b[0m\u001b[1;33m\u001b[0m\u001b[0m\n",
      "\u001b[1;32m~\\anaconda3\\lib\\site-packages\\torch\\utils\\data\\dataloader.py\u001b[0m in \u001b[0;36m__next__\u001b[1;34m(self)\u001b[0m\n\u001b[0;32m    361\u001b[0m \u001b[1;33m\u001b[0m\u001b[0m\n\u001b[0;32m    362\u001b[0m     \u001b[1;32mdef\u001b[0m \u001b[0m__next__\u001b[0m\u001b[1;33m(\u001b[0m\u001b[0mself\u001b[0m\u001b[1;33m)\u001b[0m\u001b[1;33m:\u001b[0m\u001b[1;33m\u001b[0m\u001b[1;33m\u001b[0m\u001b[0m\n\u001b[1;32m--> 363\u001b[1;33m         \u001b[0mdata\u001b[0m \u001b[1;33m=\u001b[0m \u001b[0mself\u001b[0m\u001b[1;33m.\u001b[0m\u001b[0m_next_data\u001b[0m\u001b[1;33m(\u001b[0m\u001b[1;33m)\u001b[0m\u001b[1;33m\u001b[0m\u001b[1;33m\u001b[0m\u001b[0m\n\u001b[0m\u001b[0;32m    364\u001b[0m         \u001b[0mself\u001b[0m\u001b[1;33m.\u001b[0m\u001b[0m_num_yielded\u001b[0m \u001b[1;33m+=\u001b[0m \u001b[1;36m1\u001b[0m\u001b[1;33m\u001b[0m\u001b[1;33m\u001b[0m\u001b[0m\n\u001b[0;32m    365\u001b[0m         \u001b[1;32mif\u001b[0m \u001b[0mself\u001b[0m\u001b[1;33m.\u001b[0m\u001b[0m_dataset_kind\u001b[0m \u001b[1;33m==\u001b[0m \u001b[0m_DatasetKind\u001b[0m\u001b[1;33m.\u001b[0m\u001b[0mIterable\u001b[0m \u001b[1;32mand\u001b[0m\u001b[0;31m \u001b[0m\u001b[0;31m\\\u001b[0m\u001b[1;33m\u001b[0m\u001b[1;33m\u001b[0m\u001b[0m\n",
      "\u001b[1;32m~\\anaconda3\\lib\\site-packages\\torch\\utils\\data\\dataloader.py\u001b[0m in \u001b[0;36m_next_data\u001b[1;34m(self)\u001b[0m\n\u001b[0;32m    401\u001b[0m     \u001b[1;32mdef\u001b[0m \u001b[0m_next_data\u001b[0m\u001b[1;33m(\u001b[0m\u001b[0mself\u001b[0m\u001b[1;33m)\u001b[0m\u001b[1;33m:\u001b[0m\u001b[1;33m\u001b[0m\u001b[1;33m\u001b[0m\u001b[0m\n\u001b[0;32m    402\u001b[0m         \u001b[0mindex\u001b[0m \u001b[1;33m=\u001b[0m \u001b[0mself\u001b[0m\u001b[1;33m.\u001b[0m\u001b[0m_next_index\u001b[0m\u001b[1;33m(\u001b[0m\u001b[1;33m)\u001b[0m  \u001b[1;31m# may raise StopIteration\u001b[0m\u001b[1;33m\u001b[0m\u001b[1;33m\u001b[0m\u001b[0m\n\u001b[1;32m--> 403\u001b[1;33m         \u001b[0mdata\u001b[0m \u001b[1;33m=\u001b[0m \u001b[0mself\u001b[0m\u001b[1;33m.\u001b[0m\u001b[0m_dataset_fetcher\u001b[0m\u001b[1;33m.\u001b[0m\u001b[0mfetch\u001b[0m\u001b[1;33m(\u001b[0m\u001b[0mindex\u001b[0m\u001b[1;33m)\u001b[0m  \u001b[1;31m# may raise StopIteration\u001b[0m\u001b[1;33m\u001b[0m\u001b[1;33m\u001b[0m\u001b[0m\n\u001b[0m\u001b[0;32m    404\u001b[0m         \u001b[1;32mif\u001b[0m \u001b[0mself\u001b[0m\u001b[1;33m.\u001b[0m\u001b[0m_pin_memory\u001b[0m\u001b[1;33m:\u001b[0m\u001b[1;33m\u001b[0m\u001b[1;33m\u001b[0m\u001b[0m\n\u001b[0;32m    405\u001b[0m             \u001b[0mdata\u001b[0m \u001b[1;33m=\u001b[0m \u001b[0m_utils\u001b[0m\u001b[1;33m.\u001b[0m\u001b[0mpin_memory\u001b[0m\u001b[1;33m.\u001b[0m\u001b[0mpin_memory\u001b[0m\u001b[1;33m(\u001b[0m\u001b[0mdata\u001b[0m\u001b[1;33m)\u001b[0m\u001b[1;33m\u001b[0m\u001b[1;33m\u001b[0m\u001b[0m\n",
      "\u001b[1;32m~\\anaconda3\\lib\\site-packages\\torch\\utils\\data\\_utils\\fetch.py\u001b[0m in \u001b[0;36mfetch\u001b[1;34m(self, possibly_batched_index)\u001b[0m\n\u001b[0;32m     42\u001b[0m     \u001b[1;32mdef\u001b[0m \u001b[0mfetch\u001b[0m\u001b[1;33m(\u001b[0m\u001b[0mself\u001b[0m\u001b[1;33m,\u001b[0m \u001b[0mpossibly_batched_index\u001b[0m\u001b[1;33m)\u001b[0m\u001b[1;33m:\u001b[0m\u001b[1;33m\u001b[0m\u001b[1;33m\u001b[0m\u001b[0m\n\u001b[0;32m     43\u001b[0m         \u001b[1;32mif\u001b[0m \u001b[0mself\u001b[0m\u001b[1;33m.\u001b[0m\u001b[0mauto_collation\u001b[0m\u001b[1;33m:\u001b[0m\u001b[1;33m\u001b[0m\u001b[1;33m\u001b[0m\u001b[0m\n\u001b[1;32m---> 44\u001b[1;33m             \u001b[0mdata\u001b[0m \u001b[1;33m=\u001b[0m \u001b[1;33m[\u001b[0m\u001b[0mself\u001b[0m\u001b[1;33m.\u001b[0m\u001b[0mdataset\u001b[0m\u001b[1;33m[\u001b[0m\u001b[0midx\u001b[0m\u001b[1;33m]\u001b[0m \u001b[1;32mfor\u001b[0m \u001b[0midx\u001b[0m \u001b[1;32min\u001b[0m \u001b[0mpossibly_batched_index\u001b[0m\u001b[1;33m]\u001b[0m\u001b[1;33m\u001b[0m\u001b[1;33m\u001b[0m\u001b[0m\n\u001b[0m\u001b[0;32m     45\u001b[0m         \u001b[1;32melse\u001b[0m\u001b[1;33m:\u001b[0m\u001b[1;33m\u001b[0m\u001b[1;33m\u001b[0m\u001b[0m\n\u001b[0;32m     46\u001b[0m             \u001b[0mdata\u001b[0m \u001b[1;33m=\u001b[0m \u001b[0mself\u001b[0m\u001b[1;33m.\u001b[0m\u001b[0mdataset\u001b[0m\u001b[1;33m[\u001b[0m\u001b[0mpossibly_batched_index\u001b[0m\u001b[1;33m]\u001b[0m\u001b[1;33m\u001b[0m\u001b[1;33m\u001b[0m\u001b[0m\n",
      "\u001b[1;32m~\\anaconda3\\lib\\site-packages\\torch\\utils\\data\\_utils\\fetch.py\u001b[0m in \u001b[0;36m<listcomp>\u001b[1;34m(.0)\u001b[0m\n\u001b[0;32m     42\u001b[0m     \u001b[1;32mdef\u001b[0m \u001b[0mfetch\u001b[0m\u001b[1;33m(\u001b[0m\u001b[0mself\u001b[0m\u001b[1;33m,\u001b[0m \u001b[0mpossibly_batched_index\u001b[0m\u001b[1;33m)\u001b[0m\u001b[1;33m:\u001b[0m\u001b[1;33m\u001b[0m\u001b[1;33m\u001b[0m\u001b[0m\n\u001b[0;32m     43\u001b[0m         \u001b[1;32mif\u001b[0m \u001b[0mself\u001b[0m\u001b[1;33m.\u001b[0m\u001b[0mauto_collation\u001b[0m\u001b[1;33m:\u001b[0m\u001b[1;33m\u001b[0m\u001b[1;33m\u001b[0m\u001b[0m\n\u001b[1;32m---> 44\u001b[1;33m             \u001b[0mdata\u001b[0m \u001b[1;33m=\u001b[0m \u001b[1;33m[\u001b[0m\u001b[0mself\u001b[0m\u001b[1;33m.\u001b[0m\u001b[0mdataset\u001b[0m\u001b[1;33m[\u001b[0m\u001b[0midx\u001b[0m\u001b[1;33m]\u001b[0m \u001b[1;32mfor\u001b[0m \u001b[0midx\u001b[0m \u001b[1;32min\u001b[0m \u001b[0mpossibly_batched_index\u001b[0m\u001b[1;33m]\u001b[0m\u001b[1;33m\u001b[0m\u001b[1;33m\u001b[0m\u001b[0m\n\u001b[0m\u001b[0;32m     45\u001b[0m         \u001b[1;32melse\u001b[0m\u001b[1;33m:\u001b[0m\u001b[1;33m\u001b[0m\u001b[1;33m\u001b[0m\u001b[0m\n\u001b[0;32m     46\u001b[0m             \u001b[0mdata\u001b[0m \u001b[1;33m=\u001b[0m \u001b[0mself\u001b[0m\u001b[1;33m.\u001b[0m\u001b[0mdataset\u001b[0m\u001b[1;33m[\u001b[0m\u001b[0mpossibly_batched_index\u001b[0m\u001b[1;33m]\u001b[0m\u001b[1;33m\u001b[0m\u001b[1;33m\u001b[0m\u001b[0m\n",
      "\u001b[1;32m~\\AppData\\Local\\Temp/ipykernel_4484/3994827780.py\u001b[0m in \u001b[0;36m__getitem__\u001b[1;34m(self, index)\u001b[0m\n\u001b[0;32m     22\u001b[0m         \u001b[1;31m# load data\u001b[0m\u001b[1;33m\u001b[0m\u001b[1;33m\u001b[0m\u001b[1;33m\u001b[0m\u001b[0m\n\u001b[0;32m     23\u001b[0m         \u001b[0msingle_data_path\u001b[0m \u001b[1;33m=\u001b[0m \u001b[0mself\u001b[0m\u001b[1;33m.\u001b[0m\u001b[0mnpy_path\u001b[0m\u001b[1;33m[\u001b[0m\u001b[0mindex\u001b[0m\u001b[1;33m]\u001b[0m\u001b[1;33m\u001b[0m\u001b[1;33m\u001b[0m\u001b[0m\n\u001b[1;32m---> 24\u001b[1;33m         \u001b[0mdata\u001b[0m \u001b[1;33m=\u001b[0m \u001b[0mnp\u001b[0m\u001b[1;33m.\u001b[0m\u001b[0mload\u001b[0m\u001b[1;33m(\u001b[0m\u001b[0msingle_data_path\u001b[0m\u001b[1;33m,\u001b[0m \u001b[0mallow_pickle\u001b[0m\u001b[1;33m=\u001b[0m\u001b[1;32mTrue\u001b[0m\u001b[1;33m)\u001b[0m\u001b[1;33m\u001b[0m\u001b[1;33m\u001b[0m\u001b[0m\n\u001b[0m\u001b[0;32m     25\u001b[0m \u001b[1;33m\u001b[0m\u001b[0m\n\u001b[0;32m     26\u001b[0m         \u001b[0mimage\u001b[0m \u001b[1;33m=\u001b[0m \u001b[0mImage\u001b[0m\u001b[1;33m.\u001b[0m\u001b[0mfromarray\u001b[0m\u001b[1;33m(\u001b[0m\u001b[0mdata\u001b[0m\u001b[1;33m[\u001b[0m\u001b[1;36m0\u001b[0m\u001b[1;33m]\u001b[0m\u001b[1;33m)\u001b[0m\u001b[1;33m\u001b[0m\u001b[1;33m\u001b[0m\u001b[0m\n",
      "\u001b[1;32m~\\anaconda3\\lib\\site-packages\\numpy\\lib\\npyio.py\u001b[0m in \u001b[0;36mload\u001b[1;34m(file, mmap_mode, allow_pickle, fix_imports, encoding)\u001b[0m\n\u001b[0;32m    414\u001b[0m             \u001b[0mown_fid\u001b[0m \u001b[1;33m=\u001b[0m \u001b[1;32mFalse\u001b[0m\u001b[1;33m\u001b[0m\u001b[1;33m\u001b[0m\u001b[0m\n\u001b[0;32m    415\u001b[0m         \u001b[1;32melse\u001b[0m\u001b[1;33m:\u001b[0m\u001b[1;33m\u001b[0m\u001b[1;33m\u001b[0m\u001b[0m\n\u001b[1;32m--> 416\u001b[1;33m             \u001b[0mfid\u001b[0m \u001b[1;33m=\u001b[0m \u001b[0mstack\u001b[0m\u001b[1;33m.\u001b[0m\u001b[0menter_context\u001b[0m\u001b[1;33m(\u001b[0m\u001b[0mopen\u001b[0m\u001b[1;33m(\u001b[0m\u001b[0mos_fspath\u001b[0m\u001b[1;33m(\u001b[0m\u001b[0mfile\u001b[0m\u001b[1;33m)\u001b[0m\u001b[1;33m,\u001b[0m \u001b[1;34m\"rb\"\u001b[0m\u001b[1;33m)\u001b[0m\u001b[1;33m)\u001b[0m\u001b[1;33m\u001b[0m\u001b[1;33m\u001b[0m\u001b[0m\n\u001b[0m\u001b[0;32m    417\u001b[0m             \u001b[0mown_fid\u001b[0m \u001b[1;33m=\u001b[0m \u001b[1;32mTrue\u001b[0m\u001b[1;33m\u001b[0m\u001b[1;33m\u001b[0m\u001b[0m\n\u001b[0;32m    418\u001b[0m \u001b[1;33m\u001b[0m\u001b[0m\n",
      "\u001b[1;31mKeyboardInterrupt\u001b[0m: "
     ]
    }
   ],
   "source": [
    "import time, tqdm\n",
    "batch_size = 1024\n",
    "train_loader = torch.utils.data.DataLoader(dataset=train_data,\n",
    "                                           batch_size=batch_size,\n",
    "                                           shuffle=True)\n",
    "\n",
    "valid_loader = torch.utils.data.DataLoader(dataset=valid_data,\n",
    "                                           batch_size=batch_size,\n",
    "                                           )\n",
    "\n",
    "model = MyNet(Block, [1,1],52)\n",
    "model.to(device)\n",
    "criterion = nn.CrossEntropyLoss()\n",
    "optimizer = torch.optim.Adam(model.parameters(), lr=0.001)\n",
    "\n",
    "num_epochs = 5\n",
    "best_valid_loss = float('inf')\n",
    "best_epoch = 0\n",
    "start = time.time()\n",
    "trl = []\n",
    "tra = []\n",
    "vall =[]\n",
    "vala = []\n",
    "for epoch in tqdm.tqdm(range(num_epochs)):\n",
    "    train_loss, train_acc = train(model, train_loader, optimizer, criterion)\n",
    "#     scheduler.step()\n",
    "    valid_loss, valid_acc = valid(model,valid_loader, criterion)\n",
    "#     trl.append(train_loss)\n",
    "#     tra.append(train_acc)\n",
    "#     vall.append(valid_loss)\n",
    "#     vala.append(valid_acc)\n",
    "#     if valid_loss < best_valid_loss:\n",
    "#         best_valid_loss = valid_loss\n",
    "#         best_epoch = epoch\n",
    "#         torch.save(model.state_dict(), \"./epoch_{}.pth\".format(epoch))\n",
    "\n",
    "    print(\"Epoch[{}/{}], Train Loss:{:.4f}, Train Acc:{:.2f}\".format(epoch+1, num_epochs, train_loss, train_acc))\n",
    "    print(valid_loss, valid_acc)\n",
    "end = time.time()\n",
    "end-start"
   ]
  },
  {
   "cell_type": "code",
   "execution_count": 96,
   "id": "46b596c9",
   "metadata": {},
   "outputs": [],
   "source": [
    "import copy\n",
    "model1 = copy.deepcopy(model)\n",
    "model2 = copy.deepcopy(model)\n",
    "model3 = copy.deepcopy(model)"
   ]
  },
  {
   "cell_type": "code",
   "execution_count": 97,
   "id": "99770265",
   "metadata": {},
   "outputs": [
    {
     "name": "stderr",
     "output_type": "stream",
     "text": [
      "\r",
      "  0%|          | 0/5 [00:00<?, ?it/s]"
     ]
    },
    {
     "name": "stdout",
     "output_type": "stream",
     "text": [
      "torch.Size([1024, 1, 90, 90])\n",
      "torch.Size([1024])\n",
      "torch.Size([1024, 52])\n"
     ]
    },
    {
     "name": "stderr",
     "output_type": "stream",
     "text": [
      "\r",
      " 20%|██        | 1/5 [00:27<01:49, 27.46s/it]"
     ]
    },
    {
     "name": "stdout",
     "output_type": "stream",
     "text": [
      "Epoch[1/5], Train Loss:9.7468, Train Acc:0.93\n",
      "2.358025684952736 tensor(0.9268, device='cuda:0')\n",
      "torch.Size([1024, 1, 90, 90])\n",
      "torch.Size([1024])\n",
      "torch.Size([1024, 52])\n"
     ]
    },
    {
     "name": "stderr",
     "output_type": "stream",
     "text": [
      "\r",
      " 40%|████      | 2/5 [00:54<01:22, 27.45s/it]"
     ]
    },
    {
     "name": "stdout",
     "output_type": "stream",
     "text": [
      "Epoch[2/5], Train Loss:9.8106, Train Acc:0.93\n",
      "2.3581302762031555 tensor(0.9269, device='cuda:0')\n",
      "torch.Size([1024, 1, 90, 90])\n",
      "torch.Size([1024])\n",
      "torch.Size([1024, 52])\n"
     ]
    },
    {
     "name": "stderr",
     "output_type": "stream",
     "text": [
      "\r",
      " 60%|██████    | 3/5 [01:22<00:54, 27.48s/it]"
     ]
    },
    {
     "name": "stdout",
     "output_type": "stream",
     "text": [
      "Epoch[3/5], Train Loss:9.6612, Train Acc:0.93\n",
      "2.3587816655635834 tensor(0.9267, device='cuda:0')\n",
      "torch.Size([1024, 1, 90, 90])\n",
      "torch.Size([1024])\n",
      "torch.Size([1024, 52])\n"
     ]
    },
    {
     "name": "stderr",
     "output_type": "stream",
     "text": [
      "\r",
      " 80%|████████  | 4/5 [01:49<00:27, 27.49s/it]"
     ]
    },
    {
     "name": "stdout",
     "output_type": "stream",
     "text": [
      "Epoch[4/5], Train Loss:9.6990, Train Acc:0.93\n",
      "2.3575128614902496 tensor(0.9269, device='cuda:0')\n",
      "torch.Size([1024, 1, 90, 90])\n",
      "torch.Size([1024])\n",
      "torch.Size([1024, 52])\n"
     ]
    },
    {
     "name": "stderr",
     "output_type": "stream",
     "text": [
      " 80%|████████  | 4/5 [01:56<00:29, 29.03s/it]\n"
     ]
    },
    {
     "ename": "KeyboardInterrupt",
     "evalue": "",
     "output_type": "error",
     "traceback": [
      "\u001b[1;31m---------------------------------------------------------------------------\u001b[0m",
      "\u001b[1;31mKeyboardInterrupt\u001b[0m                         Traceback (most recent call last)",
      "\u001b[1;32m~\\AppData\\Local\\Temp/ipykernel_33356/79924870.py\u001b[0m in \u001b[0;36m<module>\u001b[1;34m\u001b[0m\n\u001b[0;32m     20\u001b[0m \u001b[0mvala\u001b[0m \u001b[1;33m=\u001b[0m \u001b[1;33m[\u001b[0m\u001b[1;33m]\u001b[0m\u001b[1;33m\u001b[0m\u001b[1;33m\u001b[0m\u001b[0m\n\u001b[0;32m     21\u001b[0m \u001b[1;32mfor\u001b[0m \u001b[0mepoch\u001b[0m \u001b[1;32min\u001b[0m \u001b[0mtqdm\u001b[0m\u001b[1;33m.\u001b[0m\u001b[0mtqdm\u001b[0m\u001b[1;33m(\u001b[0m\u001b[0mrange\u001b[0m\u001b[1;33m(\u001b[0m\u001b[0mnum_epochs\u001b[0m\u001b[1;33m)\u001b[0m\u001b[1;33m)\u001b[0m\u001b[1;33m:\u001b[0m\u001b[1;33m\u001b[0m\u001b[1;33m\u001b[0m\u001b[0m\n\u001b[1;32m---> 22\u001b[1;33m     \u001b[0mtrain_loss\u001b[0m\u001b[1;33m,\u001b[0m \u001b[0mtrain_acc\u001b[0m \u001b[1;33m=\u001b[0m \u001b[0mtrain\u001b[0m\u001b[1;33m(\u001b[0m\u001b[0mmodel3\u001b[0m\u001b[1;33m,\u001b[0m \u001b[0mtrain_loader\u001b[0m\u001b[1;33m,\u001b[0m \u001b[0moptimizer2\u001b[0m\u001b[1;33m,\u001b[0m \u001b[0mcriterion\u001b[0m\u001b[1;33m)\u001b[0m\u001b[1;33m\u001b[0m\u001b[1;33m\u001b[0m\u001b[0m\n\u001b[0m\u001b[0;32m     23\u001b[0m     \u001b[0mvalid_loss\u001b[0m\u001b[1;33m,\u001b[0m \u001b[0mvalid_acc\u001b[0m \u001b[1;33m=\u001b[0m \u001b[0mvalid\u001b[0m\u001b[1;33m(\u001b[0m\u001b[0mmodel3\u001b[0m\u001b[1;33m,\u001b[0m\u001b[0mvalid_loader\u001b[0m\u001b[1;33m,\u001b[0m \u001b[0mcriterion\u001b[0m\u001b[1;33m)\u001b[0m\u001b[1;33m\u001b[0m\u001b[1;33m\u001b[0m\u001b[0m\n\u001b[0;32m     24\u001b[0m     \u001b[0mprint\u001b[0m\u001b[1;33m(\u001b[0m\u001b[1;34m\"Epoch[{}/{}], Train Loss:{:.4f}, Train Acc:{:.2f}\"\u001b[0m\u001b[1;33m.\u001b[0m\u001b[0mformat\u001b[0m\u001b[1;33m(\u001b[0m\u001b[0mepoch\u001b[0m\u001b[1;33m+\u001b[0m\u001b[1;36m1\u001b[0m\u001b[1;33m,\u001b[0m \u001b[0mnum_epochs\u001b[0m\u001b[1;33m,\u001b[0m \u001b[0mtrain_loss\u001b[0m\u001b[1;33m,\u001b[0m \u001b[0mtrain_acc\u001b[0m\u001b[1;33m)\u001b[0m\u001b[1;33m)\u001b[0m\u001b[1;33m\u001b[0m\u001b[1;33m\u001b[0m\u001b[0m\n",
      "\u001b[1;32m~\\AppData\\Local\\Temp/ipykernel_33356/1999072226.py\u001b[0m in \u001b[0;36mtrain\u001b[1;34m(model, train_loader, optimizer, criterion)\u001b[0m\n\u001b[0;32m      4\u001b[0m     \u001b[0mmodel\u001b[0m\u001b[1;33m.\u001b[0m\u001b[0mtrain\u001b[0m\u001b[1;33m(\u001b[0m\u001b[1;33m)\u001b[0m\u001b[1;33m\u001b[0m\u001b[1;33m\u001b[0m\u001b[0m\n\u001b[0;32m      5\u001b[0m \u001b[1;33m\u001b[0m\u001b[0m\n\u001b[1;32m----> 6\u001b[1;33m     \u001b[1;32mfor\u001b[0m \u001b[0mi\u001b[0m\u001b[1;33m,\u001b[0m \u001b[1;33m(\u001b[0m\u001b[0mimage\u001b[0m\u001b[1;33m,\u001b[0m \u001b[0mlabel\u001b[0m\u001b[1;33m)\u001b[0m \u001b[1;32min\u001b[0m \u001b[0menumerate\u001b[0m\u001b[1;33m(\u001b[0m\u001b[0mtrain_loader\u001b[0m\u001b[1;33m)\u001b[0m\u001b[1;33m:\u001b[0m\u001b[1;33m\u001b[0m\u001b[1;33m\u001b[0m\u001b[0m\n\u001b[0m\u001b[0;32m      7\u001b[0m         \u001b[0mimage\u001b[0m \u001b[1;33m=\u001b[0m \u001b[0mimage\u001b[0m\u001b[1;33m.\u001b[0m\u001b[0mto\u001b[0m\u001b[1;33m(\u001b[0m\u001b[0mdevice\u001b[0m\u001b[1;33m)\u001b[0m\u001b[1;33m\u001b[0m\u001b[1;33m\u001b[0m\u001b[0m\n\u001b[0;32m      8\u001b[0m         \u001b[0mlabel\u001b[0m \u001b[1;33m=\u001b[0m \u001b[0mlabel\u001b[0m\u001b[1;33m.\u001b[0m\u001b[0mto\u001b[0m\u001b[1;33m(\u001b[0m\u001b[0mdevice\u001b[0m\u001b[1;33m)\u001b[0m\u001b[1;33m\u001b[0m\u001b[1;33m\u001b[0m\u001b[0m\n",
      "\u001b[1;32m~\\anaconda3\\lib\\site-packages\\torch\\utils\\data\\dataloader.py\u001b[0m in \u001b[0;36m__next__\u001b[1;34m(self)\u001b[0m\n\u001b[0;32m    361\u001b[0m \u001b[1;33m\u001b[0m\u001b[0m\n\u001b[0;32m    362\u001b[0m     \u001b[1;32mdef\u001b[0m \u001b[0m__next__\u001b[0m\u001b[1;33m(\u001b[0m\u001b[0mself\u001b[0m\u001b[1;33m)\u001b[0m\u001b[1;33m:\u001b[0m\u001b[1;33m\u001b[0m\u001b[1;33m\u001b[0m\u001b[0m\n\u001b[1;32m--> 363\u001b[1;33m         \u001b[0mdata\u001b[0m \u001b[1;33m=\u001b[0m \u001b[0mself\u001b[0m\u001b[1;33m.\u001b[0m\u001b[0m_next_data\u001b[0m\u001b[1;33m(\u001b[0m\u001b[1;33m)\u001b[0m\u001b[1;33m\u001b[0m\u001b[1;33m\u001b[0m\u001b[0m\n\u001b[0m\u001b[0;32m    364\u001b[0m         \u001b[0mself\u001b[0m\u001b[1;33m.\u001b[0m\u001b[0m_num_yielded\u001b[0m \u001b[1;33m+=\u001b[0m \u001b[1;36m1\u001b[0m\u001b[1;33m\u001b[0m\u001b[1;33m\u001b[0m\u001b[0m\n\u001b[0;32m    365\u001b[0m         \u001b[1;32mif\u001b[0m \u001b[0mself\u001b[0m\u001b[1;33m.\u001b[0m\u001b[0m_dataset_kind\u001b[0m \u001b[1;33m==\u001b[0m \u001b[0m_DatasetKind\u001b[0m\u001b[1;33m.\u001b[0m\u001b[0mIterable\u001b[0m \u001b[1;32mand\u001b[0m\u001b[0;31m \u001b[0m\u001b[0;31m\\\u001b[0m\u001b[1;33m\u001b[0m\u001b[1;33m\u001b[0m\u001b[0m\n",
      "\u001b[1;32m~\\anaconda3\\lib\\site-packages\\torch\\utils\\data\\dataloader.py\u001b[0m in \u001b[0;36m_next_data\u001b[1;34m(self)\u001b[0m\n\u001b[0;32m    401\u001b[0m     \u001b[1;32mdef\u001b[0m \u001b[0m_next_data\u001b[0m\u001b[1;33m(\u001b[0m\u001b[0mself\u001b[0m\u001b[1;33m)\u001b[0m\u001b[1;33m:\u001b[0m\u001b[1;33m\u001b[0m\u001b[1;33m\u001b[0m\u001b[0m\n\u001b[0;32m    402\u001b[0m         \u001b[0mindex\u001b[0m \u001b[1;33m=\u001b[0m \u001b[0mself\u001b[0m\u001b[1;33m.\u001b[0m\u001b[0m_next_index\u001b[0m\u001b[1;33m(\u001b[0m\u001b[1;33m)\u001b[0m  \u001b[1;31m# may raise StopIteration\u001b[0m\u001b[1;33m\u001b[0m\u001b[1;33m\u001b[0m\u001b[0m\n\u001b[1;32m--> 403\u001b[1;33m         \u001b[0mdata\u001b[0m \u001b[1;33m=\u001b[0m \u001b[0mself\u001b[0m\u001b[1;33m.\u001b[0m\u001b[0m_dataset_fetcher\u001b[0m\u001b[1;33m.\u001b[0m\u001b[0mfetch\u001b[0m\u001b[1;33m(\u001b[0m\u001b[0mindex\u001b[0m\u001b[1;33m)\u001b[0m  \u001b[1;31m# may raise StopIteration\u001b[0m\u001b[1;33m\u001b[0m\u001b[1;33m\u001b[0m\u001b[0m\n\u001b[0m\u001b[0;32m    404\u001b[0m         \u001b[1;32mif\u001b[0m \u001b[0mself\u001b[0m\u001b[1;33m.\u001b[0m\u001b[0m_pin_memory\u001b[0m\u001b[1;33m:\u001b[0m\u001b[1;33m\u001b[0m\u001b[1;33m\u001b[0m\u001b[0m\n\u001b[0;32m    405\u001b[0m             \u001b[0mdata\u001b[0m \u001b[1;33m=\u001b[0m \u001b[0m_utils\u001b[0m\u001b[1;33m.\u001b[0m\u001b[0mpin_memory\u001b[0m\u001b[1;33m.\u001b[0m\u001b[0mpin_memory\u001b[0m\u001b[1;33m(\u001b[0m\u001b[0mdata\u001b[0m\u001b[1;33m)\u001b[0m\u001b[1;33m\u001b[0m\u001b[1;33m\u001b[0m\u001b[0m\n",
      "\u001b[1;32m~\\anaconda3\\lib\\site-packages\\torch\\utils\\data\\_utils\\fetch.py\u001b[0m in \u001b[0;36mfetch\u001b[1;34m(self, possibly_batched_index)\u001b[0m\n\u001b[0;32m     42\u001b[0m     \u001b[1;32mdef\u001b[0m \u001b[0mfetch\u001b[0m\u001b[1;33m(\u001b[0m\u001b[0mself\u001b[0m\u001b[1;33m,\u001b[0m \u001b[0mpossibly_batched_index\u001b[0m\u001b[1;33m)\u001b[0m\u001b[1;33m:\u001b[0m\u001b[1;33m\u001b[0m\u001b[1;33m\u001b[0m\u001b[0m\n\u001b[0;32m     43\u001b[0m         \u001b[1;32mif\u001b[0m \u001b[0mself\u001b[0m\u001b[1;33m.\u001b[0m\u001b[0mauto_collation\u001b[0m\u001b[1;33m:\u001b[0m\u001b[1;33m\u001b[0m\u001b[1;33m\u001b[0m\u001b[0m\n\u001b[1;32m---> 44\u001b[1;33m             \u001b[0mdata\u001b[0m \u001b[1;33m=\u001b[0m \u001b[1;33m[\u001b[0m\u001b[0mself\u001b[0m\u001b[1;33m.\u001b[0m\u001b[0mdataset\u001b[0m\u001b[1;33m[\u001b[0m\u001b[0midx\u001b[0m\u001b[1;33m]\u001b[0m \u001b[1;32mfor\u001b[0m \u001b[0midx\u001b[0m \u001b[1;32min\u001b[0m \u001b[0mpossibly_batched_index\u001b[0m\u001b[1;33m]\u001b[0m\u001b[1;33m\u001b[0m\u001b[1;33m\u001b[0m\u001b[0m\n\u001b[0m\u001b[0;32m     45\u001b[0m         \u001b[1;32melse\u001b[0m\u001b[1;33m:\u001b[0m\u001b[1;33m\u001b[0m\u001b[1;33m\u001b[0m\u001b[0m\n\u001b[0;32m     46\u001b[0m             \u001b[0mdata\u001b[0m \u001b[1;33m=\u001b[0m \u001b[0mself\u001b[0m\u001b[1;33m.\u001b[0m\u001b[0mdataset\u001b[0m\u001b[1;33m[\u001b[0m\u001b[0mpossibly_batched_index\u001b[0m\u001b[1;33m]\u001b[0m\u001b[1;33m\u001b[0m\u001b[1;33m\u001b[0m\u001b[0m\n",
      "\u001b[1;32m~\\anaconda3\\lib\\site-packages\\torch\\utils\\data\\_utils\\fetch.py\u001b[0m in \u001b[0;36m<listcomp>\u001b[1;34m(.0)\u001b[0m\n\u001b[0;32m     42\u001b[0m     \u001b[1;32mdef\u001b[0m \u001b[0mfetch\u001b[0m\u001b[1;33m(\u001b[0m\u001b[0mself\u001b[0m\u001b[1;33m,\u001b[0m \u001b[0mpossibly_batched_index\u001b[0m\u001b[1;33m)\u001b[0m\u001b[1;33m:\u001b[0m\u001b[1;33m\u001b[0m\u001b[1;33m\u001b[0m\u001b[0m\n\u001b[0;32m     43\u001b[0m         \u001b[1;32mif\u001b[0m \u001b[0mself\u001b[0m\u001b[1;33m.\u001b[0m\u001b[0mauto_collation\u001b[0m\u001b[1;33m:\u001b[0m\u001b[1;33m\u001b[0m\u001b[1;33m\u001b[0m\u001b[0m\n\u001b[1;32m---> 44\u001b[1;33m             \u001b[0mdata\u001b[0m \u001b[1;33m=\u001b[0m \u001b[1;33m[\u001b[0m\u001b[0mself\u001b[0m\u001b[1;33m.\u001b[0m\u001b[0mdataset\u001b[0m\u001b[1;33m[\u001b[0m\u001b[0midx\u001b[0m\u001b[1;33m]\u001b[0m \u001b[1;32mfor\u001b[0m \u001b[0midx\u001b[0m \u001b[1;32min\u001b[0m \u001b[0mpossibly_batched_index\u001b[0m\u001b[1;33m]\u001b[0m\u001b[1;33m\u001b[0m\u001b[1;33m\u001b[0m\u001b[0m\n\u001b[0m\u001b[0;32m     45\u001b[0m         \u001b[1;32melse\u001b[0m\u001b[1;33m:\u001b[0m\u001b[1;33m\u001b[0m\u001b[1;33m\u001b[0m\u001b[0m\n\u001b[0;32m     46\u001b[0m             \u001b[0mdata\u001b[0m \u001b[1;33m=\u001b[0m \u001b[0mself\u001b[0m\u001b[1;33m.\u001b[0m\u001b[0mdataset\u001b[0m\u001b[1;33m[\u001b[0m\u001b[0mpossibly_batched_index\u001b[0m\u001b[1;33m]\u001b[0m\u001b[1;33m\u001b[0m\u001b[1;33m\u001b[0m\u001b[0m\n",
      "\u001b[1;32m~\\AppData\\Local\\Temp/ipykernel_33356/3994827780.py\u001b[0m in \u001b[0;36m__getitem__\u001b[1;34m(self, index)\u001b[0m\n\u001b[0;32m     22\u001b[0m         \u001b[1;31m# load data\u001b[0m\u001b[1;33m\u001b[0m\u001b[1;33m\u001b[0m\u001b[1;33m\u001b[0m\u001b[0m\n\u001b[0;32m     23\u001b[0m         \u001b[0msingle_data_path\u001b[0m \u001b[1;33m=\u001b[0m \u001b[0mself\u001b[0m\u001b[1;33m.\u001b[0m\u001b[0mnpy_path\u001b[0m\u001b[1;33m[\u001b[0m\u001b[0mindex\u001b[0m\u001b[1;33m]\u001b[0m\u001b[1;33m\u001b[0m\u001b[1;33m\u001b[0m\u001b[0m\n\u001b[1;32m---> 24\u001b[1;33m         \u001b[0mdata\u001b[0m \u001b[1;33m=\u001b[0m \u001b[0mnp\u001b[0m\u001b[1;33m.\u001b[0m\u001b[0mload\u001b[0m\u001b[1;33m(\u001b[0m\u001b[0msingle_data_path\u001b[0m\u001b[1;33m,\u001b[0m \u001b[0mallow_pickle\u001b[0m\u001b[1;33m=\u001b[0m\u001b[1;32mTrue\u001b[0m\u001b[1;33m)\u001b[0m\u001b[1;33m\u001b[0m\u001b[1;33m\u001b[0m\u001b[0m\n\u001b[0m\u001b[0;32m     25\u001b[0m \u001b[1;33m\u001b[0m\u001b[0m\n\u001b[0;32m     26\u001b[0m         \u001b[0mimage\u001b[0m \u001b[1;33m=\u001b[0m \u001b[0mImage\u001b[0m\u001b[1;33m.\u001b[0m\u001b[0mfromarray\u001b[0m\u001b[1;33m(\u001b[0m\u001b[0mdata\u001b[0m\u001b[1;33m[\u001b[0m\u001b[1;36m0\u001b[0m\u001b[1;33m]\u001b[0m\u001b[1;33m)\u001b[0m\u001b[1;33m\u001b[0m\u001b[1;33m\u001b[0m\u001b[0m\n",
      "\u001b[1;32m~\\anaconda3\\lib\\site-packages\\numpy\\lib\\npyio.py\u001b[0m in \u001b[0;36mload\u001b[1;34m(file, mmap_mode, allow_pickle, fix_imports, encoding)\u001b[0m\n\u001b[0;32m    414\u001b[0m             \u001b[0mown_fid\u001b[0m \u001b[1;33m=\u001b[0m \u001b[1;32mFalse\u001b[0m\u001b[1;33m\u001b[0m\u001b[1;33m\u001b[0m\u001b[0m\n\u001b[0;32m    415\u001b[0m         \u001b[1;32melse\u001b[0m\u001b[1;33m:\u001b[0m\u001b[1;33m\u001b[0m\u001b[1;33m\u001b[0m\u001b[0m\n\u001b[1;32m--> 416\u001b[1;33m             \u001b[0mfid\u001b[0m \u001b[1;33m=\u001b[0m \u001b[0mstack\u001b[0m\u001b[1;33m.\u001b[0m\u001b[0menter_context\u001b[0m\u001b[1;33m(\u001b[0m\u001b[0mopen\u001b[0m\u001b[1;33m(\u001b[0m\u001b[0mos_fspath\u001b[0m\u001b[1;33m(\u001b[0m\u001b[0mfile\u001b[0m\u001b[1;33m)\u001b[0m\u001b[1;33m,\u001b[0m \u001b[1;34m\"rb\"\u001b[0m\u001b[1;33m)\u001b[0m\u001b[1;33m)\u001b[0m\u001b[1;33m\u001b[0m\u001b[1;33m\u001b[0m\u001b[0m\n\u001b[0m\u001b[0;32m    417\u001b[0m             \u001b[0mown_fid\u001b[0m \u001b[1;33m=\u001b[0m \u001b[1;32mTrue\u001b[0m\u001b[1;33m\u001b[0m\u001b[1;33m\u001b[0m\u001b[0m\n\u001b[0;32m    418\u001b[0m \u001b[1;33m\u001b[0m\u001b[0m\n",
      "\u001b[1;31mKeyboardInterrupt\u001b[0m: "
     ]
    }
   ],
   "source": [
    "\n",
    "import time, tqdm\n",
    "batch_size = 1024\n",
    "train_loader = torch.utils.data.DataLoader(dataset=train_data,\n",
    "                                           batch_size=batch_size,\n",
    "                                           shuffle=True)\n",
    "\n",
    "valid_loader = torch.utils.data.DataLoader(dataset=valid_data,\n",
    "                                           batch_size=batch_size,\n",
    "                                           )\n",
    "criterion = nn.CrossEntropyLoss()\n",
    "optimizer2 = torch.optim.Adam(model.parameters(), lr=0.00001)\n",
    "\n",
    "num_epochs = 5\n",
    "best_valid_loss = float('inf')\n",
    "best_epoch = 0\n",
    "start = time.time()\n",
    "trl = []\n",
    "tra = []\n",
    "vall =[]\n",
    "vala = []\n",
    "for epoch in tqdm.tqdm(range(num_epochs)):\n",
    "    train_loss, train_acc = train(model3, train_loader, optimizer2, criterion)\n",
    "    valid_loss, valid_acc = valid(model3,valid_loader, criterion)\n",
    "    print(\"Epoch[{}/{}], Train Loss:{:.4f}, Train Acc:{:.2f}\".format(epoch+1, num_epochs, train_loss, train_acc))\n",
    "    print(valid_loss, valid_acc)\n",
    "end = time.time()\n",
    "end-start"
   ]
  },
  {
   "cell_type": "code",
   "execution_count": null,
   "id": "648cb283",
   "metadata": {},
   "outputs": [],
   "source": [
    "class Block(nn.Module):\n",
    "    def __init__(self, inplanes, planes, stride):\n",
    "        super(Block, self).__init__()\n",
    "        norm_layer = nn.BatchNorm2d\n",
    "        self.conv1 =  nn.Conv2d(inplanes, planes, kernel_size=3,stride=stride,bias=False,padding=1)\n",
    "        self.bn1 = norm_layer(planes)\n",
    "        self.relu = nn.ReLU(inplace=True)\n",
    "        self.conv2 = nn.Conv2d(planes, planes, kernel_size=3,stride=stride,bias=False,padding=1)\n",
    "        self.bn2 = norm_layer(planes)\n",
    "        self.downsample = None\n",
    "        if stride != 1 or inplanes != planes:\n",
    "            self.downsample = nn.Sequential(\n",
    "                nn.Conv2d(inplanes, planes, kernel_size=1, stride=stride, bias=False),\n",
    "                norm_layer(planes),\n",
    "            )\n",
    "\n",
    "    def forward(self, x):\n",
    "        identity = x\n",
    "        out = self.conv1(x)\n",
    "        out = self.bn1(out)\n",
    "        out = self.relu(out)\n",
    "        out = self.conv2(out)\n",
    "        out = self.bn2(out)\n",
    "        if self.downsample:\n",
    "            identity = self.downsample(x)\n",
    "        out += identity\n",
    "        out = self.relu(out)\n",
    "        return out\n",
    "\n",
    "\n",
    "class MyNet(nn.Module):\n",
    "\n",
    "    def __init__(self, block, layers, num_classe):\n",
    "        super(MyNet, self).__init__()\n",
    "        self._norm_layer = nn.BatchNorm2d\n",
    "\n",
    "        self.inplanes = 64\n",
    "        self.dilation = 1\n",
    "        self.conv1 = nn.Conv2d(1, self.inplanes, kernel_size=7, stride=2, padding=3,\n",
    "                               bias=False)\n",
    "        self.bn1 = nn.BatchNorm2d(self.inplanes)\n",
    "        self.relu = nn.ReLU(inplace=True)\n",
    "        self.maxpool = nn.MaxPool2d(kernel_size=3, stride=2, padding=1)\n",
    "        self.layer1 = self._make_layer(block, 128, layers[0], stride=1)\n",
    "        self.layer2 = self._make_layer(block, 256, layers[1], stride=1)\n",
    "        self.avgpool = nn.AdaptiveAvgPool2d((1, 1))\n",
    "        self.fc = nn.Linear(256, num_classe)\n",
    "\n",
    "        for m in self.modules():\n",
    "            if isinstance(m, nn.Conv2d):\n",
    "                nn.init.kaiming_normal_(m.weight, mode='fan_out', nonlinearity='relu')\n",
    "            elif isinstance(m, (nn.BatchNorm2d, nn.GroupNorm)):\n",
    "                nn.init.constant_(m.weight, 1)\n",
    "                nn.init.constant_(m.bias, 0)\n",
    "\n",
    "    def _make_layer(self, block, planes, blocks,stride):\n",
    "        norm_layer = self._norm_layer\n",
    "        layers = []\n",
    "        layers.append(block(self.inplanes, planes, stride))\n",
    "        self.inplanes = planes\n",
    "        for _ in range(1, blocks):\n",
    "            layers.append(block(self.inplanes, planes, stride))\n",
    "\n",
    "        return nn.Sequential(*layers)\n",
    "\n",
    "    def _forward_impl(self, x):\n",
    "        x = self.conv1(x)\n",
    "        x = self.bn1(x)\n",
    "        x = self.relu(x)\n",
    "        x = self.maxpool(x)\n",
    "\n",
    "        x = self.layer1(x)\n",
    "        x = self.layer2(x)\n",
    "\n",
    "        x = self.avgpool(x)\n",
    "        x = torch.flatten(x, 1)\n",
    "        x = self.fc(x)\n",
    "\n",
    "        return x\n",
    "\n",
    "    def forward(self, x):\n",
    "        return self._forward_impl(x)\n"
   ]
  },
  {
   "cell_type": "code",
   "execution_count": 3,
   "id": "fccf37bc",
   "metadata": {},
   "outputs": [],
   "source": [
    "class Block(nn.Module):\n",
    "    def __init__(self, inplanes, planes, stride):\n",
    "        super(Block, self).__init__()\n",
    "        norm_layer = nn.BatchNorm2d\n",
    "        self.conv1 =  nn.Conv2d(inplanes, planes, kernel_size=3,stride=stride,bias=False,padding=1)\n",
    "        self.bn1 = norm_layer(planes)\n",
    "        self.relu = nn.ReLU(inplace=True)\n",
    "        self.downsample = None\n",
    "        if stride != 1 or inplanes != planes:\n",
    "            self.downsample = nn.Sequential(\n",
    "                nn.Conv2d(inplanes, planes, kernel_size=1, stride=stride, bias=False),\n",
    "                norm_layer(planes),\n",
    "            )\n",
    "\n",
    "    def forward(self, x):\n",
    "        identity = x\n",
    "        out = self.conv1(x)\n",
    "        out = self.bn1(out)\n",
    "        out = self.relu(out)\n",
    "        if self.downsample:\n",
    "            identity = self.downsample(x)\n",
    "        out += identity\n",
    "        out = self.relu(out)\n",
    "        return out\n",
    "\n",
    "\n",
    "class MyNet(nn.Module):\n",
    "\n",
    "    def __init__(self, block, layers, num_classe):\n",
    "        super(MyNet, self).__init__()\n",
    "        self._norm_layer = nn.BatchNorm2d\n",
    "\n",
    "        self.inplanes = 64\n",
    "        self.dilation = 1\n",
    "        self.conv1 = nn.Conv2d(1, self.inplanes, kernel_size=7, stride=2, padding=3,\n",
    "                               bias=False)\n",
    "        self.bn1 = nn.BatchNorm2d(self.inplanes)\n",
    "        self.relu = nn.ReLU(inplace=True)\n",
    "        self.maxpool = nn.MaxPool2d(kernel_size=3, stride=2, padding=1)\n",
    "        self.layer1 = self._make_layer(block, 128, layers[0], stride=1)\n",
    "        self.layer2 = self._make_layer(block, 256, layers[1], stride=1)\n",
    "        self.avgpool = nn.AdaptiveAvgPool2d((1, 1))\n",
    "        self.fc = nn.Linear(256, num_classe)\n",
    "\n",
    "        for m in self.modules():\n",
    "            if isinstance(m, nn.Conv2d):\n",
    "                nn.init.kaiming_normal_(m.weight, mode='fan_out', nonlinearity='relu')\n",
    "            elif isinstance(m, (nn.BatchNorm2d, nn.GroupNorm)):\n",
    "                nn.init.constant_(m.weight, 1)\n",
    "                nn.init.constant_(m.bias, 0)\n",
    "\n",
    "    def _make_layer(self, block, planes, blocks,stride):\n",
    "        norm_layer = self._norm_layer\n",
    "        layers = []\n",
    "        layers.append(block(self.inplanes, planes, stride))\n",
    "        self.inplanes = planes\n",
    "        for _ in range(1, blocks):\n",
    "            layers.append(block(self.inplanes, planes, stride))\n",
    "\n",
    "        return nn.Sequential(*layers)\n",
    "\n",
    "    def _forward_impl(self, x):\n",
    "        x = self.conv1(x)\n",
    "        x = self.bn1(x)\n",
    "        x = self.relu(x)\n",
    "        x = self.maxpool(x)\n",
    "\n",
    "        x = self.layer1(x)\n",
    "        x = self.layer2(x)\n",
    "\n",
    "        x = self.avgpool(x)\n",
    "        x = torch.flatten(x, 1)\n",
    "        x = self.fc(x)\n",
    "\n",
    "        return x\n",
    "\n",
    "    def forward(self, x):\n",
    "        return self._forward_impl(x)\n"
   ]
  },
  {
   "cell_type": "code",
   "execution_count": null,
   "id": "6883577a",
   "metadata": {},
   "outputs": [],
   "source": [
    "def train(model, train_loader, optimizer, criterion,sche):\n",
    "    epoch_loss, acc = 0, 0\n",
    "    total = 0\n",
    "    model.train()\n",
    "\n",
    "    for i, (image, label) in enumerate(train_loader):\n",
    "        image = image.to(device)\n",
    "        label = label.to(device)\n",
    "\n",
    "        out = model(image)\n",
    "        if i ==0:\n",
    "            print(image.shape)\n",
    "            print(label.shape)\n",
    "            print(out.shape)\n",
    "        loss = criterion(out, label)\n",
    "\n",
    "        optimizer.zero_grad()\n",
    "        loss.backward()\n",
    "        optimizer.step()\n",
    "\n",
    "        _, pred = torch.max(out.data, 1)\n",
    "        acc += (pred==label).sum()\n",
    "        epoch_loss += loss.item()\n",
    "        total += float(len(image))\n",
    "\n",
    "    return epoch_loss, acc /total\n",
    "\n",
    "def valid(model, data_loader, criterion):\n",
    "    epoch_loss, acc = 0, 0\n",
    "    total = 0\n",
    "    model.eval()\n",
    "\n",
    "    with torch.no_grad():\n",
    "        for i, (image, label) in enumerate(data_loader):\n",
    "            image = image.to(device)\n",
    "            label = label.to(device)\n",
    "\n",
    "            out = model(image)\n",
    "            loss = criterion(out, label)\n",
    "            _, pred = torch.max(out.data, 1)\n",
    "            acc += (pred==label).sum()\n",
    "            epoch_loss += loss.item()\n",
    "            total += float(len(image))\n",
    "\n",
    "    return epoch_loss, acc /total"
   ]
  },
  {
   "cell_type": "code",
   "execution_count": null,
   "id": "3560d799",
   "metadata": {},
   "outputs": [],
   "source": [
    "class MyNet(nn.Module):\n",
    "\n",
    "    def __init__(self, block, layers, num_classe):\n",
    "        super(MyNet, self).__init__()\n",
    "        self._norm_layer = nn.BatchNorm2d\n",
    "\n",
    "        self.inplanes = 64\n",
    "        self.dilation = 1\n",
    "        self.conv1 = nn.Conv2d(1, 64, kernel_size=7, stride=2, padding=3,\n",
    "                               bias=False)\n",
    "        \n",
    "        self.bn1 = nn.BatchNorm2d(self.inplanes)\n",
    "        self.relu = nn.ReLU(inplace=True)\n",
    "        self.maxpool = nn.MaxPool2d(kernel_size=3, stride=2, padding=1)\n",
    "        self.conv2 = nn.Conv2d(64, 128, kernel_size=3, stride=2, padding=1,\n",
    "                               bias=False)\n",
    "        self.downsample = nn.Sequential(\n",
    "                nn.Conv2d(64, 128, kernel_size=1, stride=2, bias=False),\n",
    "                nn.BatchNorm2d(128),\n",
    "            )\n",
    "        self.bn2 = nn.BatchNorm2d(128)\n",
    "        self.relu2 = nn.ReLU(inplace=True)\n",
    "        self.fc = nn.Linear(18432, num_classe)\n",
    "\n",
    "        for m in self.modules():\n",
    "            if isinstance(m, nn.Conv2d):\n",
    "                nn.init.kaiming_normal_(m.weight, mode='fan_out', nonlinearity='relu')\n",
    "            elif isinstance(m, (nn.BatchNorm2d, nn.GroupNorm)):\n",
    "                nn.init.constant_(m.weight, 1)\n",
    "                nn.init.constant_(m.bias, 0)\n",
    "\n",
    "    def _forward_impl(self, x):\n",
    "        x = self.conv1(x)\n",
    "        x = self.bn1(x)\n",
    "        x = self.relu(x)\n",
    "        x = self.maxpool(x)\n",
    "        ident = self.downsample(x)\n",
    "        x = self.conv2(x)\n",
    "        x = self.bn2(x) + ident\n",
    "        x = self.relu2(x)\n",
    "        x = torch.flatten(x, 1)\n",
    "        x = self.fc(x)\n",
    "\n",
    "        return x\n",
    "\n",
    "    def forward(self, x):\n",
    "        return self._forward_impl(x)"
   ]
  },
  {
   "cell_type": "code",
   "execution_count": 4,
   "id": "885523f5",
   "metadata": {},
   "outputs": [],
   "source": [
    "import numpy as np\n",
    "import torch\n",
    "import os\n",
    "import glob\n",
    "import torchvision.transforms as transforms\n",
    "import torchvision\n",
    "import time\n",
    "from torchvision import transforms\n",
    "from torch.utils.data import Dataset\n",
    "from torch import nn\n",
    "device = torch.device('cuda' if torch.cuda.is_available() else 'cpu')\n",
    "\n",
    "\n",
    "\n",
    "class MyNet(nn.Module):\n",
    "\n",
    "    def __init__(self, block, layers, num_classe):\n",
    "        super(MyNet, self).__init__()\n",
    "        self._norm_layer = nn.BatchNorm2d\n",
    "\n",
    "        self.inplanes = 64\n",
    "        self.dilation = 1\n",
    "        self.conv1 = nn.Conv2d(1, 64, kernel_size=7, stride=2, padding=3,\n",
    "                               bias=False)\n",
    "        self.bn1 = nn.BatchNorm2d(self.inplanes)\n",
    "        self.relu = nn.ReLU(inplace=True)\n",
    "        self.maxpool = nn.MaxPool2d(kernel_size=3, stride=2, padding=1)\n",
    "        self.conv2 = nn.Conv2d(64, 128, kernel_size=3, stride=2, padding=1,\n",
    "                               bias=False)\n",
    "        self.downsample = nn.Sequential(\n",
    "                nn.Conv2d(64, 128, kernel_size=1, stride=2, bias=False),\n",
    "                nn.BatchNorm2d(128),\n",
    "            )\n",
    "        self.bn2 = nn.BatchNorm2d(128)\n",
    "        self.relu2 = nn.ReLU(inplace=True)\n",
    "        self.fc = nn.Linear(18432, num_classe)\n",
    "\n",
    "        for m in self.modules():\n",
    "            if isinstance(m, nn.Conv2d):\n",
    "                nn.init.kaiming_normal_(m.weight, mode='fan_out', nonlinearity='relu')\n",
    "            elif isinstance(m, (nn.BatchNorm2d, nn.GroupNorm)):\n",
    "                nn.init.constant_(m.weight, 1)\n",
    "                nn.init.constant_(m.bias, 0)\n",
    "\n",
    "    def _forward_impl(self, x):\n",
    "        x = self.conv1(x)\n",
    "        x = self.bn1(x)\n",
    "        x = self.relu(x)\n",
    "        x = self.maxpool(x)\n",
    "        ident = self.downsample(x)\n",
    "        x = self.conv2(x)\n",
    "        x = self.bn2(x) + ident\n",
    "        x = self.relu2(x)\n",
    "        x = torch.flatten(x, 1)\n",
    "        x = self.fc(x)\n",
    "\n",
    "        return x\n",
    "\n",
    "    def forward(self, x):\n",
    "        return self._forward_impl(x)\n",
    "\n",
    "class MyDataset(Dataset):\n",
    "    def __init__(self, npy_dir,tfms=None):\n",
    "        self.dir_path = npy_dir\n",
    "        self.to_tensor = transforms.ToTensor()\n",
    "\n",
    "        # all npy path\n",
    "        self.npy_path = glob.glob(os.path.join(npy_dir, '*','*.npy')) \n",
    "        self.tfms = tfms\n",
    "    def __getitem__(self, index):\n",
    "        # load data\n",
    "        single_data_path = self.npy_path[index]\n",
    "        data = np.load(single_data_path, allow_pickle=True)\n",
    "        \n",
    "        image = data[0]\n",
    "        if self.tfms:\n",
    "            image = self.tfms(image)\n",
    "        else:\n",
    "            image = self.to_tensor(image)\n",
    "        label = data[1]\n",
    "       \n",
    "        return (image, label)\n",
    "\n",
    "    def __len__(self):\n",
    "        return len(self.npy_path)\n",
    "\n",
    "def train(model, train_loader, optimizer, criterion):\n",
    "    epoch_loss, acc = 0, 0\n",
    "    total = 0\n",
    "    model.train()\n",
    "\n",
    "    for i, (image, label) in enumerate(train_loader):\n",
    "        image = image.to(device)\n",
    "        label = label.to(device)\n",
    "\n",
    "        out = model(image)\n",
    "        if i ==0:\n",
    "            print(image.shape)\n",
    "            print(label.shape)\n",
    "            print(out.shape)\n",
    "        loss = criterion(out, label)\n",
    "\n",
    "        optimizer.zero_grad()\n",
    "        loss.backward()\n",
    "        optimizer.step()\n",
    "\n",
    "        _, pred = torch.max(out.data, 1)\n",
    "        acc += (pred==label).sum()\n",
    "        epoch_loss += loss.item()\n",
    "        total += float(len(image))\n",
    "\n",
    "    return epoch_loss, acc /total\n",
    "\n",
    "def valid(model, data_loader, criterion):\n",
    "    epoch_loss, acc = 0, 0\n",
    "    total = 0\n",
    "    model.eval()\n",
    "\n",
    "    with torch.no_grad():\n",
    "        for i, (image, label) in enumerate(data_loader):\n",
    "            image = image.to(device)\n",
    "            label = label.to(device)\n",
    "\n",
    "            out = model(image)\n",
    "            loss = criterion(out, label)\n",
    "            _, pred = torch.max(out.data, 1)\n",
    "            acc += (pred==label).sum()\n",
    "            epoch_loss += loss.item()\n",
    "            total += float(len(image))\n",
    "\n",
    "    return epoch_loss, acc /total\n",
    "tfm = transforms.Compose([\n",
    "                    transforms.ToTensor(),\n",
    "                    transforms.Normalize((0.5), (0.497))])\n",
    "# load dataset \n",
    "train_data = MyDataset(\"./Font_npy_90_train\",tfm)\n",
    "valid_data = MyDataset(\"./Font_npy_90_val\",tfm)\n"
   ]
  },
  {
   "cell_type": "code",
   "execution_count": null,
   "id": "f258d3dc",
   "metadata": {
    "scrolled": true
   },
   "outputs": [],
   "source": [
    "import time, tqdm\n",
    "batch_size = 1024\n",
    "train_loader = torch.utils.data.DataLoader(dataset=train_data,\n",
    "                                           batch_size=batch_size,\n",
    "                                           shuffle=True)\n",
    "\n",
    "valid_loader = torch.utils.data.DataLoader(dataset=valid_data,\n",
    "                                           batch_size=batch_size,\n",
    "                                           )\n",
    "\n",
    "model = MyNet(Block, [1,1],52)\n",
    "model.to(device)\n",
    "criterion = nn.CrossEntropyLoss()\n",
    "optimizer = torch.optim.Adam(model.parameters(), lr=0.0001)\n",
    "# scheduler = torch.optim.lr_scheduler.StepLR(optimizer, step_size=1, gamma=0.25)\n",
    "num_epochs = 10\n",
    "best_valid_loss = float('inf')\n",
    "best_epoch = 0\n",
    "start = time.time()\n",
    "trl = []\n",
    "tra = []\n",
    "vall =[]\n",
    "vala = []\n",
    "for epoch in tqdm.tqdm(range(num_epochs)):\n",
    "    train_loss, train_acc = train(model, train_loader, optimizer, criterion)\n",
    "    valid_loss, valid_acc = valid(model,valid_loader, criterion)\n",
    "\n",
    "    print(\"Epoch[{}/{}], Train Loss:{:.4f}, Train Acc:{:.2f}, Valid Loss:{:.4f}, Valid Acc:{:.2f}\".format(epoch+1, num_epochs, train_loss, train_acc, valid_loss, valid_acc))\n",
    "end = time.time()\n",
    "end-start"
   ]
  },
  {
   "cell_type": "code",
   "execution_count": null,
   "id": "aef9cda0",
   "metadata": {},
   "outputs": [],
   "source": []
  },
  {
   "cell_type": "code",
   "execution_count": 5,
   "id": "0dcabd50",
   "metadata": {},
   "outputs": [],
   "source": [
    "# define dataloader\n",
    "batch_size = 1024\n",
    "train_loader = torch.utils.data.DataLoader(dataset=train_data,\n",
    "                                           batch_size=batch_size,\n",
    "                                           shuffle=True)\n",
    "\n",
    "valid_loader = torch.utils.data.DataLoader(dataset=valid_data,\n",
    "                                           batch_size=128,\n",
    "                                           )\n",
    "\n",
    "\n",
    "model = MyNet(_,_,52)\n",
    "model.to(device)\n",
    "criterion = nn.CrossEntropyLoss()\n",
    "optimizer = torch.optim.Adam(model.parameters(), lr=0.0005)\n"
   ]
  },
  {
   "cell_type": "code",
   "execution_count": 6,
   "id": "f2d83dc9",
   "metadata": {},
   "outputs": [
    {
     "name": "stdout",
     "output_type": "stream",
     "text": [
      "torch.Size([1024, 1, 90, 90])\n",
      "torch.Size([1024])\n",
      "torch.Size([1024, 52])\n",
      "45.24637711048126 tensor(0.7123, device='cuda:0') 58.95290967822075 tensor(0.8004, device='cuda:0')\n",
      "torch.Size([1024, 1, 90, 90])\n",
      "torch.Size([1024])\n",
      "torch.Size([1024, 52])\n",
      "13.31800439953804 tensor(0.9133, device='cuda:0') 22.97098308801651 tensor(0.9060, device='cuda:0')\n",
      "torch.Size([1024, 1, 90, 90])\n",
      "torch.Size([1024])\n",
      "torch.Size([1024, 52])\n",
      "8.013523355126381 tensor(0.9460, device='cuda:0') 18.601570542901754 tensor(0.9187, device='cuda:0')\n",
      "torch.Size([1024, 1, 90, 90])\n",
      "torch.Size([1024])\n",
      "torch.Size([1024, 52])\n",
      "5.2809059247374535 tensor(0.9626, device='cuda:0') 16.429806185886264 tensor(0.9277, device='cuda:0')\n",
      "torch.Size([1024, 1, 90, 90])\n",
      "torch.Size([1024])\n",
      "torch.Size([1024, 52])\n",
      "3.9289811849594116 tensor(0.9731, device='cuda:0') 15.395060632377863 tensor(0.9337, device='cuda:0')\n",
      "torch.Size([1024, 1, 90, 90])\n",
      "torch.Size([1024])\n",
      "torch.Size([1024, 52])\n",
      "2.9624998569488525 tensor(0.9800, device='cuda:0') 16.003679420799017 tensor(0.9328, device='cuda:0')\n",
      "torch.Size([1024, 1, 90, 90])\n",
      "torch.Size([1024])\n",
      "torch.Size([1024, 52])\n",
      "2.803067624568939 tensor(0.9804, device='cuda:0') 15.127574482001364 tensor(0.9372, device='cuda:0')\n",
      "torch.Size([1024, 1, 90, 90])\n",
      "torch.Size([1024])\n",
      "torch.Size([1024, 52])\n",
      "2.3653817251324654 tensor(0.9830, device='cuda:0') 15.826501282863319 tensor(0.9374, device='cuda:0')\n",
      "torch.Size([1024, 1, 90, 90])\n",
      "torch.Size([1024])\n",
      "torch.Size([1024, 52])\n",
      "2.1271196864545345 tensor(0.9844, device='cuda:0') 15.779200823511928 tensor(0.9363, device='cuda:0')\n",
      "torch.Size([1024, 1, 90, 90])\n",
      "torch.Size([1024])\n",
      "torch.Size([1024, 52])\n",
      "1.911558659747243 tensor(0.9868, device='cuda:0') 17.256100508384407 tensor(0.9329, device='cuda:0')\n",
      "torch.Size([1024, 1, 90, 90])\n",
      "torch.Size([1024])\n",
      "torch.Size([1024, 52])\n",
      "2.031828135251999 tensor(0.9854, device='cuda:0') 15.283095813822001 tensor(0.9392, device='cuda:0')\n",
      "torch.Size([1024, 1, 90, 90])\n",
      "torch.Size([1024])\n",
      "torch.Size([1024, 52])\n",
      "2.045758556574583 tensor(0.9860, device='cuda:0') 17.11366183264181 tensor(0.9364, device='cuda:0')\n",
      "torch.Size([1024, 1, 90, 90])\n",
      "torch.Size([1024])\n",
      "torch.Size([1024, 52])\n",
      "1.9366309456527233 tensor(0.9864, device='cuda:0') 17.198922836221755 tensor(0.9386, device='cuda:0')\n",
      "torch.Size([1024, 1, 90, 90])\n",
      "torch.Size([1024])\n",
      "torch.Size([1024, 52])\n",
      "1.8572444207966328 tensor(0.9864, device='cuda:0') 18.548473802395165 tensor(0.9337, device='cuda:0')\n",
      "torch.Size([1024, 1, 90, 90])\n",
      "torch.Size([1024])\n",
      "torch.Size([1024, 52])\n",
      "1.6884345076978207 tensor(0.9877, device='cuda:0') 17.90728289494291 tensor(0.9367, device='cuda:0')\n",
      "torch.Size([1024, 1, 90, 90])\n",
      "torch.Size([1024])\n",
      "torch.Size([1024, 52])\n",
      "1.724695235490799 tensor(0.9874, device='cuda:0') 17.04761801660061 tensor(0.9371, device='cuda:0')\n",
      "torch.Size([1024, 1, 90, 90])\n",
      "torch.Size([1024])\n",
      "torch.Size([1024, 52])\n",
      "1.6122588980942965 tensor(0.9885, device='cuda:0') 17.216065711108968 tensor(0.9404, device='cuda:0')\n",
      "torch.Size([1024, 1, 90, 90])\n",
      "torch.Size([1024])\n",
      "torch.Size([1024, 52])\n",
      "1.7220695354044437 tensor(0.9884, device='cuda:0') 18.14622380398214 tensor(0.9347, device='cuda:0')\n",
      "torch.Size([1024, 1, 90, 90])\n",
      "torch.Size([1024])\n",
      "torch.Size([1024, 52])\n",
      "1.816275954246521 tensor(0.9871, device='cuda:0') 18.175127782858908 tensor(0.9329, device='cuda:0')\n",
      "torch.Size([1024, 1, 90, 90])\n",
      "torch.Size([1024])\n",
      "torch.Size([1024, 52])\n",
      "1.7230438310652971 tensor(0.9878, device='cuda:0') 17.348888791166246 tensor(0.9391, device='cuda:0')\n",
      "451.2704391479492\n"
     ]
    }
   ],
   "source": [
    "num_epochs = 20\n",
    "best_valid_loss = float('inf')\n",
    "best_epoch = 0\n",
    "\n",
    "trl = []\n",
    "tra = []\n",
    "vall =[]\n",
    "vala = []\n",
    "start = time.time()\n",
    "for epoch in range(num_epochs):\n",
    "    train_loss, train_acc = train(model, train_loader, optimizer, criterion)\n",
    "    valid_loss, valid_acc = valid(model,valid_loader, criterion)\n",
    "    print(train_loss,train_acc,valid_loss,valid_acc)\n",
    "    trl.append(train_loss)\n",
    "    tra.append(train_acc)\n",
    "    vall.append(valid_loss)\n",
    "    vala.append(valid_acc)\n",
    "end = time.time()  \n",
    "torch.save(model.state_dict(), \"./20140269.pth\")\n",
    "print(end-start)\n"
   ]
  },
  {
   "cell_type": "code",
   "execution_count": 35,
   "id": "e10a52d6",
   "metadata": {},
   "outputs": [],
   "source": [
    "torch.save(model.state_dict(), \"./mymodel.pth\")"
   ]
  },
  {
   "cell_type": "code",
   "execution_count": 15,
   "id": "639da8f3",
   "metadata": {},
   "outputs": [
    {
     "data": {
      "text/plain": [
       "Text(0.5, 1.0, 'loss')"
      ]
     },
     "execution_count": 15,
     "metadata": {},
     "output_type": "execute_result"
    },
    {
     "data": {
      "image/png": "[encoded data removed]",
      "text/plain": [
       "<Figure size 432x288 with 1 Axes>"
      ]
     },
     "metadata": {},
     "output_type": "display_data"
    }
   ],
   "source": [
    "import matplotlib.pyplot as plt\n",
    "plt.plot(vall,label='val')\n",
    "plt.plot(trl,label='train')\n",
    "plt.legend()\n",
    "plt.title('loss')"
   ]
  },
  {
   "cell_type": "code",
   "execution_count": 32,
   "id": "c04801dc",
   "metadata": {},
   "outputs": [
    {
     "data": {
      "text/plain": [
       "[11.400879357956,\n",
       " 13.581956744688796,\n",
       " 12.546932196477428,\n",
       " 14.548767038213555,\n",
       " 11.975597213197034,\n",
       " 12.002720617703744,\n",
       " 10.600452343554934,\n",
       " 9.413485810364364,\n",
       " 11.728474826726597,\n",
       " 10.704889101718436]"
      ]
     },
     "execution_count": 32,
     "metadata": {},
     "output_type": "execute_result"
    }
   ],
   "source": [
    "vall"
   ]
  },
  {
   "cell_type": "code",
   "execution_count": 16,
   "id": "4efe6929",
   "metadata": {},
   "outputs": [
    {
     "data": {
      "text/plain": [
       "<matplotlib.legend.Legend at 0x27d52ddff10>"
      ]
     },
     "execution_count": 16,
     "metadata": {},
     "output_type": "execute_result"
    },
    {
     "data": {
      "image/png": "[encoded data removed]",
      "text/plain": [
       "<Figure size 432x288 with 1 Axes>"
      ]
     },
     "metadata": {},
     "output_type": "display_data"
    }
   ],
   "source": [
    "plt.plot(vala,label='val')\n",
    "plt.plot(tra,label='train')\n",
    "plt.title('acc')\n",
    "plt.legend()"
   ]
  },
  {
   "cell_type": "code",
   "execution_count": 34,
   "id": "89c9f2b0",
   "metadata": {},
   "outputs": [
    {
     "data": {
      "text/plain": [
       "[tensor(0.9857, device='cuda:0'),\n",
       " tensor(0.9864, device='cuda:0'),\n",
       " tensor(0.9861, device='cuda:0'),\n",
       " tensor(0.9856, device='cuda:0'),\n",
       " tensor(0.9869, device='cuda:0'),\n",
       " tensor(0.9871, device='cuda:0'),\n",
       " tensor(0.9874, device='cuda:0'),\n",
       " tensor(0.9884, device='cuda:0'),\n",
       " tensor(0.9880, device='cuda:0'),\n",
       " tensor(0.9887, device='cuda:0')]"
      ]
     },
     "execution_count": 34,
     "metadata": {},
     "output_type": "execute_result"
    }
   ],
   "source": [
    "tra"
   ]
  },
  {
   "cell_type": "code",
   "execution_count": 33,
   "id": "230d6381",
   "metadata": {},
   "outputs": [
    {
     "data": {
      "text/plain": [
       "[tensor(0.9897, device='cuda:0'),\n",
       " tensor(0.9870, device='cuda:0'),\n",
       " tensor(0.9893, device='cuda:0'),\n",
       " tensor(0.9868, device='cuda:0'),\n",
       " tensor(0.9886, device='cuda:0'),\n",
       " tensor(0.9895, device='cuda:0'),\n",
       " tensor(0.9894, device='cuda:0'),\n",
       " tensor(0.9912, device='cuda:0'),\n",
       " tensor(0.9898, device='cuda:0'),\n",
       " tensor(0.9901, device='cuda:0')]"
      ]
     },
     "execution_count": 33,
     "metadata": {},
     "output_type": "execute_result"
    }
   ],
   "source": [
    "vala"
   ]
  },
  {
   "cell_type": "code",
   "execution_count": 42,
   "id": "c6bf2ef6",
   "metadata": {},
   "outputs": [
    {
     "name": "stdout",
     "output_type": "stream",
     "text": [
      "Overwriting train.py\n"
     ]
    }
   ],
   "source": [
    "%%writefile train.py\n",
    "import numpy as np\n",
    "import torch\n",
    "import os\n",
    "import glob\n",
    "import torchvision.transforms as transforms\n",
    "import torchvision\n",
    "import time\n",
    "from torchvision import transforms\n",
    "from torch.utils.data import Dataset\n",
    "from torch import nn\n",
    "device = torch.device('cuda' if torch.cuda.is_available() else 'cpu')\n",
    "\n",
    "class MyNet(nn.Module):\n",
    "\n",
    "    def __init__(self, block, layers, num_classe):\n",
    "        super(MyNet, self).__init__()\n",
    "        self._norm_layer = nn.BatchNorm2d\n",
    "\n",
    "        self.inplanes = 64\n",
    "        self.dilation = 1\n",
    "        self.conv1 = nn.Conv2d(1, 64, kernel_size=7, stride=2, padding=3,\n",
    "                               bias=False)\n",
    "        self.bn1 = nn.BatchNorm2d(self.inplanes)\n",
    "        self.relu = nn.ReLU(inplace=True)\n",
    "        self.maxpool = nn.MaxPool2d(kernel_size=3, stride=2, padding=1)\n",
    "        self.conv2 = nn.Conv2d(64, 128, kernel_size=3, stride=2, padding=1,\n",
    "                               bias=False)\n",
    "        self.downsample = nn.Sequential(\n",
    "                nn.Conv2d(64, 128, kernel_size=1, stride=2, bias=False),\n",
    "                nn.BatchNorm2d(128),\n",
    "            )\n",
    "        self.bn2 = nn.BatchNorm2d(128)\n",
    "        self.relu2 = nn.ReLU(inplace=True)\n",
    "        self.fc = nn.Linear(18432, num_classe)\n",
    "\n",
    "        for m in self.modules():\n",
    "            if isinstance(m, nn.Conv2d):\n",
    "                nn.init.kaiming_normal_(m.weight, mode='fan_out', nonlinearity='relu')\n",
    "            elif isinstance(m, (nn.BatchNorm2d, nn.GroupNorm)):\n",
    "                nn.init.constant_(m.weight, 1)\n",
    "                nn.init.constant_(m.bias, 0)\n",
    "\n",
    "    def _forward_impl(self, x):\n",
    "        x = self.conv1(x)\n",
    "        x = self.bn1(x)\n",
    "        x = self.relu(x)\n",
    "        x = self.maxpool(x)\n",
    "        ident = self.downsample(x)\n",
    "        x = self.conv2(x)\n",
    "        x = self.bn2(x) + ident\n",
    "        x = self.relu2(x)\n",
    "        x = torch.flatten(x, 1)\n",
    "        x = self.fc(x)\n",
    "\n",
    "        return x\n",
    "\n",
    "    def forward(self, x):\n",
    "        return self._forward_impl(x)\n",
    "\n",
    "class MyDataset(Dataset):\n",
    "    def __init__(self, npy_dir,tfms=None):\n",
    "        self.dir_path = npy_dir\n",
    "        self.to_tensor = transforms.ToTensor()\n",
    "\n",
    "        # all npy path\n",
    "        self.npy_path = glob.glob(os.path.join(npy_dir, '*','*.npy')) \n",
    "        self.tfms = tfms\n",
    "    def __getitem__(self, index):\n",
    "        # load data\n",
    "        single_data_path = self.npy_path[index]\n",
    "        data = np.load(single_data_path, allow_pickle=True)\n",
    "        \n",
    "        image = data[0]\n",
    "        if self.tfms:\n",
    "            image = self.tfms(image)\n",
    "        else:\n",
    "            image = self.to_tensor(image)\n",
    "        label = data[1]\n",
    "       \n",
    "        return (image, label)\n",
    "\n",
    "    def __len__(self):\n",
    "        return len(self.npy_path)\n",
    "\n",
    "def train(model, train_loader, optimizer, criterion):\n",
    "    epoch_loss, acc = 0, 0\n",
    "    total = 0\n",
    "    model.train()\n",
    "\n",
    "    for i, (image, label) in enumerate(train_loader):\n",
    "        image = image.to(device)\n",
    "        label = label.to(device)\n",
    "\n",
    "        out = model(image)\n",
    "        if i ==0:\n",
    "            print(image.shape)\n",
    "            print(label.shape)\n",
    "            print(out.shape)\n",
    "        loss = criterion(out, label)\n",
    "\n",
    "        optimizer.zero_grad()\n",
    "        loss.backward()\n",
    "        optimizer.step()\n",
    "\n",
    "        _, pred = torch.max(out.data, 1)\n",
    "        acc += (pred==label).sum()\n",
    "        epoch_loss += loss.item()\n",
    "        total += float(len(image))\n",
    "\n",
    "    return epoch_loss, acc /total\n",
    "\n",
    "def valid(model, data_loader, criterion):\n",
    "    epoch_loss, acc = 0, 0\n",
    "    total = 0\n",
    "    model.eval()\n",
    "\n",
    "    with torch.no_grad():\n",
    "        for i, (image, label) in enumerate(data_loader):\n",
    "            image = image.to(device)\n",
    "            label = label.to(device)\n",
    "\n",
    "            out = model(image)\n",
    "            loss = criterion(out, label)\n",
    "            _, pred = torch.max(out.data, 1)\n",
    "            acc += (pred==label).sum()\n",
    "            epoch_loss += loss.item()\n",
    "            total += float(len(image))\n",
    "\n",
    "    return epoch_loss, acc /total\n",
    "tfm = transforms.Compose([\n",
    "                    transforms.ToTensor(),\n",
    "                    transforms.Normalize((0.5), (0.497))])\n",
    "# load dataset \n",
    "train_data = MyDataset(\"./Font_npy_90_train\",tfm)\n",
    "# valid_data = MyDataset(\"./Font_npy_90_train\",tfm)\n",
    "\n",
    "#####\n",
    "\n",
    "# define dataloader\n",
    "batch_size = 1024\n",
    "train_loader = torch.utils.data.DataLoader(dataset=train_data,\n",
    "                                           batch_size=batch_size,                                 \n",
    "                                           num_workers=2,\n",
    "                                           shuffle=True)\n",
    "\n",
    "# valid_loader = torch.utils.data.DataLoader(dataset=valid_data,\n",
    "#                                            batch_size=128,\n",
    "#                                            num_workers=2,\n",
    "#                                            )\n",
    "\n",
    "model = MyNet(_,_,52)\n",
    "model.to(device)\n",
    "criterion = nn.CrossEntropyLoss()\n",
    "optimizer = torch.optim.Adam(model.parameters(), lr=0.0005)\n",
    "\n",
    "################\n",
    "num_epochs = 10\n",
    "best_valid_loss = float('inf')\n",
    "best_epoch = 0\n",
    "\n",
    "trl = []\n",
    "tra = []\n",
    "vall =[]\n",
    "vala = []\n",
    "start = time.time()\n",
    "for epoch in range(num_epochs):\n",
    "    train_loss, train_acc = train(model, train_loader, optimizer, criterion)\n",
    "#     valid_loss, valid_acc = valid(model,valid_loader, criterion)\n",
    "#     print(train_loss,train_acc,valid_loss,valid_acc)\n",
    "#     trl.append(train_loss)\n",
    "#     tra.append(train_acc)\n",
    "#     vall.append(valid_loss)\n",
    "#     vala.append(valid_acc)\n",
    "    # if valid_loss < best_valid_loss:\n",
    "    #     best_valid_loss = valid_loss\n",
    "    #     best_epoch = epoch\n",
    "    #     torch.save(model.state_dict(), \"./epoch_{}.pth\".format(epoch))\n",
    "end = time.time()  \n",
    "torch.save(model.state_dict(), \"./20140269.pth\")\n",
    "print(end-start)"
   ]
  },
  {
   "cell_type": "code",
   "execution_count": 3,
   "id": "2d6306a6",
   "metadata": {},
   "outputs": [
    {
     "data": {
      "text/plain": [
       "tensor(0.9397, device='cuda:0')"
      ]
     },
     "execution_count": 3,
     "metadata": {},
     "output_type": "execute_result"
    }
   ],
   "source": [
    "# %%writefile test.py\n",
    "import numpy as np\n",
    "import torch\n",
    "import os\n",
    "import glob\n",
    "import torchvision.transforms as transforms\n",
    "import torchvision\n",
    "import time\n",
    "from torchvision import transforms\n",
    "from torch.utils.data import Dataset\n",
    "from torch import nn\n",
    "device = torch.device('cuda' if torch.cuda.is_available() else 'cpu')\n",
    "\n",
    "class MyNet(nn.Module):\n",
    "\n",
    "    def __init__(self, block, layers, num_classe):\n",
    "        super(MyNet, self).__init__()\n",
    "        self._norm_layer = nn.BatchNorm2d\n",
    "\n",
    "        self.inplanes = 64\n",
    "        self.dilation = 1\n",
    "        self.conv1 = nn.Conv2d(1, 64, kernel_size=7, stride=2, padding=3,\n",
    "                               bias=False)\n",
    "        self.bn1 = nn.BatchNorm2d(self.inplanes)\n",
    "        self.relu = nn.ReLU(inplace=True)\n",
    "        self.maxpool = nn.MaxPool2d(kernel_size=3, stride=2, padding=1)\n",
    "        self.conv2 = nn.Conv2d(64, 128, kernel_size=3, stride=2, padding=1,\n",
    "                               bias=False)\n",
    "        self.downsample = nn.Sequential(\n",
    "                nn.Conv2d(64, 128, kernel_size=1, stride=2, bias=False),\n",
    "                nn.BatchNorm2d(128),\n",
    "            )\n",
    "        self.bn2 = nn.BatchNorm2d(128)\n",
    "        self.relu2 = nn.ReLU(inplace=True)\n",
    "        self.fc = nn.Linear(18432, num_classe)\n",
    "\n",
    "        for m in self.modules():\n",
    "            if isinstance(m, nn.Conv2d):\n",
    "                nn.init.kaiming_normal_(m.weight, mode='fan_out', nonlinearity='relu')\n",
    "            elif isinstance(m, (nn.BatchNorm2d, nn.GroupNorm)):\n",
    "                nn.init.constant_(m.weight, 1)\n",
    "                nn.init.constant_(m.bias, 0)\n",
    "\n",
    "    def _forward_impl(self, x):\n",
    "        x = self.conv1(x)\n",
    "        x = self.bn1(x)\n",
    "        x = self.relu(x)\n",
    "        x = self.maxpool(x)\n",
    "        ident = self.downsample(x)\n",
    "        x = self.conv2(x)\n",
    "        x = self.bn2(x) + ident\n",
    "        x = self.relu2(x)\n",
    "        x = torch.flatten(x, 1)\n",
    "        x = self.fc(x)\n",
    "\n",
    "        return x\n",
    "\n",
    "    def forward(self, x):\n",
    "        return self._forward_impl(x)\n",
    "\n",
    "class MyDataset(Dataset):\n",
    "    def __init__(self, npy_dir,tfms=None):\n",
    "        self.dir_path = npy_dir\n",
    "        self.to_tensor = transforms.ToTensor()\n",
    "\n",
    "        # all npy path\n",
    "        self.npy_path = glob.glob(os.path.join(npy_dir, '*','*.npy')) \n",
    "        self.tfms = tfms\n",
    "    def __getitem__(self, index):\n",
    "        # load data\n",
    "        single_data_path = self.npy_path[index]\n",
    "        data = np.load(single_data_path, allow_pickle=True)\n",
    "        \n",
    "        image = data[0]\n",
    "        if self.tfms:\n",
    "            image = self.tfms(image)\n",
    "        else:\n",
    "            image = self.to_tensor(image)\n",
    "        label = data[1]\n",
    "       \n",
    "        return (image, label)\n",
    "\n",
    "    def __len__(self):\n",
    "        return len(self.npy_path)\n",
    "\n",
    "def valid(model, data_loader, criterion):\n",
    "    epoch_loss, acc = 0, 0\n",
    "    total = 0\n",
    "    model.eval()\n",
    "\n",
    "    with torch.no_grad():\n",
    "        for i, (image, label) in enumerate(data_loader):\n",
    "            image = image.to(device)\n",
    "            label = label.to(device)\n",
    "\n",
    "            out = model(image)\n",
    "            loss = criterion(out, label)\n",
    "            _, pred = torch.max(out.data, 1)\n",
    "            acc += (pred==label).sum()\n",
    "            epoch_loss += loss.item()\n",
    "            total += float(len(image))\n",
    "\n",
    "    return epoch_loss, acc /total\n",
    "tfm = transforms.Compose([\n",
    "                    transforms.ToTensor(),\n",
    "                    transforms.Normalize((0.5), (0.497))])\n",
    "\n",
    "valid_data = MyDataset(\"./Font_npy_90_val\",tfm)\n",
    "\n",
    "#####\n",
    "\n",
    "valid_loader = torch.utils.data.DataLoader(dataset=valid_data,\n",
    "                                           batch_size=128,\n",
    "                                           )\n",
    "\n",
    "model = MyNet(_,_,52)\n",
    "model.load_state_dict(torch.load('./20140269.pth'))\n",
    "model.to(device)\n",
    "criterion = nn.CrossEntropyLoss()\n",
    "valid_loss, valid_acc = valid(model,valid_loader, criterion)\n",
    "valid_acc"
   ]
  },
  {
   "cell_type": "code",
   "execution_count": 44,
   "id": "9591afdc",
   "metadata": {},
   "outputs": [
    {
     "name": "stdout",
     "output_type": "stream",
     "text": [
      "20140269.pth.pth\n",
      "4李④낵�젣.docx\n",
      "Font_npy_90_train\n",
      "Font_npy_90_train.zip\n",
      "Font_npy_90_val\n",
      "Font_npy_90_val.zip\n",
      "last_怨쇱젣.ipynb\n",
      "model.pth\n",
      "test.py\n",
      "train.py\n",
      "~$4李④낵�젣.docx\n",
      "~WRL0532.tmp\n"
     ]
    }
   ],
   "source": [
    "class Block(nn.Module):\n",
    "    def __init__(self, inplanes, planes, stride):\n",
    "        super(Block, self).__init__()\n",
    "        norm_layer = nn.BatchNorm2d\n",
    "        self.conv1 =  nn.Conv2d(inplanes, planes, kernel_size=3,stride=stride,bias=False,padding=1)\n",
    "        self.bn1 = norm_layer(planes)\n",
    "        self.relu = nn.ReLU(inplace=True)\n",
    "        self.downsample = None\n",
    "        if stride != 1 or inplanes != planes:\n",
    "            self.downsample = nn.Sequential(\n",
    "                nn.Conv2d(inplanes, planes, kernel_size=1, stride=stride, bias=False),\n",
    "                norm_layer(planes),\n",
    "            )\n",
    "\n",
    "    def forward(self, x):\n",
    "        identity = x\n",
    "        out = self.conv1(x)\n",
    "        out = self.bn1(out)\n",
    "        out = self.relu(out)\n",
    "        if self.downsample:\n",
    "            identity = self.downsample(x)\n",
    "        out += identity\n",
    "        out = self.relu(out)\n",
    "        return out\n",
    "    \n",
    "class MyNet(nn.Module):\n",
    "\n",
    "    def __init__(self, block, layers, num_classe):\n",
    "        super(MyNet, self).__init__()\n",
    "        self._norm_layer = nn.BatchNorm2d\n",
    "\n",
    "        self.dilation = 1\n",
    "        self.conv1 = nn.Conv2d(1, 16, kernel_size=7, stride=2, padding=3,\n",
    "                               bias=False)\n",
    "        \n",
    "        self.bn1 = nn.BatchNorm2d(16)\n",
    "        self.relu = nn.ReLU(inplace=True)\n",
    "        self.maxpool = nn.MaxPool2d(kernel_size=3, stride=2, padding=1)\n",
    "        self.conv2 = nn.Conv2d(16, 32, kernel_size=3, stride=2, padding=1,\n",
    "                               bias=False)\n",
    "        self.downsample = nn.Sequential(\n",
    "                nn.Conv2d(16, 32, kernel_size=1, stride=2, bias=False),\n",
    "                nn.BatchNorm2d(32),\n",
    "            )\n",
    "        self.bn2 = nn.BatchNorm2d(32)\n",
    "        self.relu2 = nn.ReLU(inplace=True)\n",
    "        self.fc = nn.Linear(4608, num_classe)\n",
    "\n",
    "        for m in self.modules():\n",
    "            if isinstance(m, nn.Conv2d):\n",
    "                nn.init.kaiming_normal_(m.weight, mode='fan_out', nonlinearity='relu')\n",
    "            elif isinstance(m, (nn.BatchNorm2d, nn.GroupNorm)):\n",
    "                nn.init.constant_(m.weight, 1)\n",
    "                nn.init.constant_(m.bias, 0)\n",
    "\n",
    "    def _forward_impl(self, x):\n",
    "        x = self.conv1(x)\n",
    "        x = self.bn1(x)\n",
    "        x = self.relu(x)\n",
    "        x = self.maxpool(x)\n",
    "        ident = self.downsample(x)\n",
    "        x = self.conv2(x)\n",
    "        x = self.bn2(x) + ident\n",
    "        x = self.relu2(x)\n",
    "        x = torch.flatten(x, 1)\n",
    "#         print(x.shape)\n",
    "        x = self.fc(x)\n",
    "\n",
    "        return x\n",
    "\n",
    "    def forward(self, x):\n",
    "        return self._forward_impl(x)\n",
    "# Epoch[9/10], Train Loss:7.9414, Train Acc:0.95\n",
    "# 2.328733094036579 tensor(0.9246, device='cuda:0')\n",
    "# torch.Size([1024, 1, 90, 90])\n",
    "# torch.Size([1024])\n",
    "# torch.Size([1024, 52])\n",
    "# 100%|██████████| 10/10 [04:35<00:00, 27.57s/it]\n",
    "# Epoch[10/10], Train Loss:7.3846, Train Acc:0.95\n",
    "# 2.2121686339378357 tensor(0.9281, device='cuda:0')"
   ]
  },
  {
   "cell_type": "code",
   "execution_count": null,
   "id": "76c39feb",
   "metadata": {},
   "outputs": [],
   "source": [
    "class Block(nn.Module):\n",
    "    def __init__(self, inplanes, planes, stride):\n",
    "        super(Block, self).__init__()\n",
    "        norm_layer = nn.BatchNorm2d\n",
    "        self.conv1 =  nn.Conv2d(inplanes, planes, kernel_size=3,stride=stride,bias=False,padding=1)\n",
    "        self.bn1 = norm_layer(planes)\n",
    "        self.relu = nn.ReLU(inplace=True)\n",
    "        self.downsample = None\n",
    "        if stride != 1 or inplanes != planes:\n",
    "            self.downsample = nn.Sequential(\n",
    "                nn.Conv2d(inplanes, planes, kernel_size=1, stride=stride, bias=False),\n",
    "                norm_layer(planes),\n",
    "            )\n",
    "\n",
    "    def forward(self, x):\n",
    "        identity = x\n",
    "        out = self.conv1(x)\n",
    "        out = self.bn1(out)\n",
    "        out = self.relu(out)\n",
    "        if self.downsample:\n",
    "            identity = self.downsample(x)\n",
    "        out += identity\n",
    "        out = self.relu(out)\n",
    "        return out\n",
    "    \n",
    "class MyNet(nn.Module):\n",
    "\n",
    "    def __init__(self, block, layers, num_classe):\n",
    "        super(MyNet, self).__init__()\n",
    "        self._norm_layer = nn.BatchNorm2d\n",
    "\n",
    "        self.dilation = 1\n",
    "        self.conv1 = nn.Conv2d(1, 32, kernel_size=7, stride=2, padding=3,\n",
    "                               bias=False)\n",
    "        \n",
    "        self.bn1 = nn.BatchNorm2d(32)\n",
    "        self.relu = nn.ReLU(inplace=True)\n",
    "        self.maxpool = nn.MaxPool2d(kernel_size=3, stride=2, padding=1)\n",
    "        self.conv2 = nn.Conv2d(32, 64, kernel_size=3, stride=2, padding=1,\n",
    "                               bias=False)\n",
    "        self.downsample = nn.Sequential(\n",
    "                nn.Conv2d(32, 64, kernel_size=1, stride=2, bias=False),\n",
    "                nn.BatchNorm2d(64),\n",
    "            )\n",
    "        self.bn2 = nn.BatchNorm2d(64)\n",
    "        self.relu2 = nn.ReLU(inplace=True)\n",
    "        self.dropout = nnDropout(0.5),\n",
    "        self.fc = nn.Linear(9216, num_classe)\n",
    "\n",
    "        for m in self.modules():\n",
    "            if isinstance(m, nn.Conv2d):\n",
    "                nn.init.kaiming_normal_(m.weight, mode='fan_out', nonlinearity='relu')\n",
    "            elif isinstance(m, (nn.BatchNorm2d, nn.GroupNorm)):\n",
    "                nn.init.constant_(m.weight, 1)\n",
    "                nn.init.constant_(m.bias, 0)\n",
    "\n",
    "    def _forward_impl(self, x):\n",
    "        x = self.conv1(x)\n",
    "        x = self.bn1(x)\n",
    "        x = self.relu(x)\n",
    "        x = self.maxpool(x)\n",
    "        ident = self.downsample(x)\n",
    "        x = self.conv2(x)\n",
    "        x = self.bn2(x) + ident\n",
    "        x = self.relu2(x)\n",
    "        x = torch.flatten(x, 1)\n",
    "#         print(x.shape)\n",
    "        x = self.fc(x)\n",
    "\n",
    "        return x\n",
    "\n",
    "    def forward(self, x):\n",
    "        return self._forward_impl(x)\n",
    "# Epoch[23/40], Train Loss:1.6554, Train Acc:0.99\n",
    "# 1.780292920768261 tensor(0.9538, device='cuda:0')"
   ]
  },
  {
   "cell_type": "code",
   "execution_count": null,
   "id": "b6edc87c",
   "metadata": {},
   "outputs": [],
   "source": [
    "class MyNet(nn.Module):\n",
    "\n",
    "    def __init__(self, block, layers, num_classe):\n",
    "        super(MyNet, self).__init__()\n",
    "        self._norm_layer = nn.BatchNorm2d\n",
    "\n",
    "        self.dilation = 1\n",
    "        self.conv1 = nn.Conv2d(1, 32, kernel_size=7, stride=2, padding=3,\n",
    "                               bias=False)\n",
    "        \n",
    "        self.bn1 = nn.BatchNorm2d(32)\n",
    "        self.relu = nn.ReLU(inplace=True)\n",
    "        self.maxpool = nn.MaxPool2d(kernel_size=3, stride=2, padding=1)\n",
    "        self.conv2 = nn.Conv2d(32, 64, kernel_size=3, stride=2, padding=1,\n",
    "                               bias=False)\n",
    "        self.bn2 = nn.BatchNorm2d(64)\n",
    "        self.relu2 = nn.ReLU(inplace=True)\n",
    "        \n",
    "        self.conv3 = nn.Conv2d(64, 128, kernel_size=3, stride=2, padding=1,\n",
    "                               bias=False)\n",
    "        self.bn3 = nn.BatchNorm2d(128)\n",
    "        self.relu3 = nn.ReLU(inplace=True)\n",
    "        \n",
    "        self.downsample1 = nn.Sequential(\n",
    "                nn.Conv2d(32, 64, kernel_size=1, stride=2, bias=False),\n",
    "                nn.BatchNorm2d(64),\n",
    "            )\n",
    "        self.downsample2 = nn.Sequential(\n",
    "                nn.Conv2d(64, 128, kernel_size=1, stride=2, bias=False),\n",
    "                nn.BatchNorm2d(128),\n",
    "            )\n",
    "                \n",
    "#         self.dropout = nnDropout(0.3),\n",
    "        self.fc = nn.Linear(4608, num_classe)\n",
    "\n",
    "        for m in self.modules():\n",
    "            if isinstance(m, nn.Conv2d):\n",
    "                nn.init.kaiming_normal_(m.weight, mode='fan_out', nonlinearity='relu')\n",
    "            elif isinstance(m, (nn.BatchNorm2d, nn.GroupNorm)):\n",
    "                nn.init.constant_(m.weight, 1)\n",
    "                nn.init.constant_(m.bias, 0)\n",
    "\n",
    "    def _forward_impl(self, x):\n",
    "        x = self.conv1(x)\n",
    "        x = self.bn1(x)\n",
    "        x = self.relu(x)\n",
    "        x = self.maxpool(x)\n",
    "        ident = self.downsample1(x)\n",
    "        x = self.conv2(x)\n",
    "        x = self.bn2(x) + ident\n",
    "        x = self.relu2(x)\n",
    "        ident = self.downsample2(x)\n",
    "        x = self.conv3(x)\n",
    "        x = self.bn3(x) + ident\n",
    "        x = self.relu3(x)\n",
    "        x = torch.flatten(x, 1)\n",
    "#         print(x.shape)\n",
    "#         x = self.dropout(x)\n",
    "        x = self.fc(x)\n",
    "\n",
    "        return x\n",
    "\n",
    "    def forward(self, x):\n",
    "        return self._forward_impl(x)\n",
    "# Epoch[31/40], Train Loss:1.5932, Train Acc:0.99\n",
    "# 1.2462433874607086 tensor(0.9590, device='cuda:0')"
   ]
  },
  {
   "cell_type": "code",
   "execution_count": null,
   "id": "0b36ec88",
   "metadata": {},
   "outputs": [],
   "source": [
    "class MyNet(nn.Module):\n",
    "\n",
    "    def __init__(self, block, layers, num_classe):\n",
    "        super(MyNet, self).__init__()\n",
    "        self._norm_layer = nn.BatchNorm2d\n",
    "\n",
    "        self.dilation = 1\n",
    "        self.conv1 = nn.Conv2d(1, 32, kernel_size=7, stride=2, padding=3,\n",
    "                               bias=False)\n",
    "        \n",
    "        self.bn1 = nn.BatchNorm2d(32)\n",
    "        self.relu = nn.ReLU(inplace=True)\n",
    "        self.maxpool = nn.MaxPool2d(kernel_size=3, stride=2, padding=1)\n",
    "        self.conv2 = nn.Conv2d(32, 64, kernel_size=3, stride=2, padding=1,\n",
    "                               bias=False)\n",
    "        self.bn2 = nn.BatchNorm2d(64)\n",
    "        self.relu2 = nn.ReLU(inplace=True)\n",
    "        \n",
    "        self.conv3 = nn.Conv2d(64, 128, kernel_size=3, stride=2, padding=1,\n",
    "                               bias=False)\n",
    "        self.bn3 = nn.BatchNorm2d(128)\n",
    "        self.relu3 = nn.ReLU(inplace=True)\n",
    "        \n",
    "        self.conv4 = nn.Conv2d(128, 256, kernel_size=3, stride=2, padding=1,\n",
    "                               bias=False)\n",
    "        self.bn4 = nn.BatchNorm2d(256)\n",
    "        self.relu4 = nn.ReLU(inplace=True)\n",
    "        \n",
    "        self.downsample1 = nn.Sequential(\n",
    "                nn.Conv2d(32, 64, kernel_size=1, stride=2, bias=False),\n",
    "                nn.BatchNorm2d(64),\n",
    "            )\n",
    "        self.downsample2 = nn.Sequential(\n",
    "                nn.Conv2d(64, 128, kernel_size=1, stride=2, bias=False),\n",
    "                nn.BatchNorm2d(128),\n",
    "            )\n",
    "        self.downsample3 = nn.Sequential(\n",
    "                nn.Conv2d(128, 256, kernel_size=1, stride=2, bias=False),\n",
    "                nn.BatchNorm2d(256),\n",
    "            )\n",
    "                \n",
    "#         self.dropout = nnDropout(0.3),\n",
    "        self.fc = nn.Linear(2304, num_classe)\n",
    "\n",
    "        for m in self.modules():\n",
    "            if isinstance(m, nn.Conv2d):\n",
    "                nn.init.kaiming_normal_(m.weight, mode='fan_out', nonlinearity='relu')\n",
    "            elif isinstance(m, (nn.BatchNorm2d, nn.GroupNorm)):\n",
    "                nn.init.constant_(m.weight, 1)\n",
    "                nn.init.constant_(m.bias, 0)\n",
    "\n",
    "    def _forward_impl(self, x):\n",
    "        x = self.conv1(x)\n",
    "        x = self.bn1(x)\n",
    "        x = self.relu(x)\n",
    "        x = self.maxpool(x)\n",
    "        ident = self.downsample1(x)\n",
    "        x = self.conv2(x)\n",
    "        x = self.bn2(x) + ident\n",
    "        x = self.relu2(x)\n",
    "        ident = self.downsample2(x)\n",
    "        x = self.conv3(x)\n",
    "        x = self.bn3(x) + ident\n",
    "        x = self.relu3(x)\n",
    "        \n",
    "        ident = self.downsample3(x)\n",
    "        x = self.conv4(x)\n",
    "        x = self.bn4(x) + ident\n",
    "        x = self.relu4(x)        \n",
    "        \n",
    "        x = torch.flatten(x, 1)\n",
    "#         print(x.shape)\n",
    "#         x = self.dropout(x)\n",
    "        x = self.fc(x)\n",
    "\n",
    "        return x\n",
    "\n",
    "    def forward(self, x):\n",
    "        return self._forward_impl(x)\n",
    "# Epoch[28/40], Train Loss:1.7391, Train Acc:0.98\n",
    "# 1.2742572948336601 tensor(0.9582, device='cuda:0')\n"
   ]
  },
  {
   "cell_type": "code",
   "execution_count": null,
   "id": "df229f2e",
   "metadata": {},
   "outputs": [],
   "source": [
    "class MyNet(nn.Module):\n",
    "\n",
    "    def __init__(self, block, layers, num_classe):\n",
    "        super(MyNet, self).__init__()\n",
    "        self._norm_layer = nn.BatchNorm2d\n",
    "\n",
    "        self.dilation = 1\n",
    "        self.conv1 = nn.Conv2d(1, 32, kernel_size=7, stride=2, padding=3,\n",
    "                               bias=False)\n",
    "        \n",
    "        self.bn1 = nn.BatchNorm2d(32)\n",
    "        self.relu = nn.ReLU(inplace=True)\n",
    "        self.maxpool = nn.MaxPool2d(kernel_size=3, stride=2, padding=1)\n",
    "        self.conv2 = nn.Conv2d(32, 64, kernel_size=3, stride=2, padding=1,\n",
    "                               bias=False)\n",
    "        self.bn2 = nn.BatchNorm2d(64)\n",
    "        self.relu2 = nn.ReLU(inplace=True)\n",
    "        \n",
    "        self.conv3 = nn.Conv2d(64, 128, kernel_size=3, stride=2, padding=1,\n",
    "                               bias=False)\n",
    "        self.bn3 = nn.BatchNorm2d(128)\n",
    "        self.relu3 = nn.ReLU(inplace=True)\n",
    "\n",
    "        \n",
    "        self.downsample1 = nn.Sequential(\n",
    "                nn.Conv2d(32, 64, kernel_size=1, stride=2, bias=False),\n",
    "                nn.BatchNorm2d(64),\n",
    "            )\n",
    "        self.downsample2 = nn.Sequential(\n",
    "                nn.Conv2d(64, 128, kernel_size=1, stride=2, bias=False),\n",
    "                nn.BatchNorm2d(128),\n",
    "            )\n",
    "        self.dropout = nn.Dropout(0.3)\n",
    "        self.fc = nn.Linear(4608, num_classe)\n",
    "\n",
    "        for m in self.modules():\n",
    "            if isinstance(m, nn.Conv2d):\n",
    "                nn.init.kaiming_normal_(m.weight, mode='fan_out', nonlinearity='relu')\n",
    "            elif isinstance(m, (nn.BatchNorm2d, nn.GroupNorm)):\n",
    "                nn.init.constant_(m.weight, 1)\n",
    "                nn.init.constant_(m.bias, 0)\n",
    "\n",
    "    def _forward_impl(self, x):\n",
    "        x = self.conv1(x)\n",
    "        x = self.bn1(x)\n",
    "        x = self.relu(x)\n",
    "        x = self.maxpool(x)\n",
    "        ident = self.downsample1(x)\n",
    "        x = self.conv2(x)\n",
    "        x = self.bn2(x) + ident\n",
    "        x = self.relu2(x)\n",
    "        ident = self.downsample2(x)\n",
    "        x = self.conv3(x)\n",
    "        x = self.bn3(x) + ident\n",
    "        x = self.relu3(x)\n",
    "        \n",
    "        x = torch.flatten(x,1)\n",
    "#         print(x.shape)\n",
    "        x = self.dropout(x)\n",
    "        x = self.fc(x)\n",
    "\n",
    "        return x\n",
    "\n",
    "    def forward(self, x):\n",
    "        return self._forward_impl(x)\n",
    "# Epoch[40/40], Train Loss:2.6018, Train Acc:0.98\n",
    "# 1.3340800106525421 tensor(0.9581, device='cuda:0')"
   ]
  },
  {
   "cell_type": "code",
   "execution_count": null,
   "id": "6b2e5749",
   "metadata": {},
   "outputs": [],
   "source": [
    "class MyNet(nn.Module):\n",
    "\n",
    "    def __init__(self, block, layers, num_classe):\n",
    "        super(MyNet, self).__init__()\n",
    "        self._norm_layer = nn.BatchNorm2d\n",
    "\n",
    "        self.dilation = 1\n",
    "        self.conv1 = nn.Conv2d(1, 32, kernel_size=7, stride=2, padding=3,\n",
    "                               bias=False)\n",
    "        \n",
    "        self.bn1 = nn.BatchNorm2d(32)\n",
    "        self.relu = nn.ReLU(inplace=True)\n",
    "        self.maxpool = nn.MaxPool2d(kernel_size=3, stride=2, padding=1)\n",
    "        self.conv2 = nn.Conv2d(32, 64, kernel_size=3, stride=2, padding=1,\n",
    "                               bias=False)\n",
    "        self.bn2 = nn.BatchNorm2d(64)\n",
    "        self.relu2 = nn.ReLU(inplace=True)\n",
    "        \n",
    "        self.conv3 = nn.Conv2d(64, 128, kernel_size=3, stride=2, padding=1,\n",
    "                               bias=False)\n",
    "        self.bn3 = nn.BatchNorm2d(128)\n",
    "        self.relu3 = nn.ReLU(inplace=True)\n",
    "\n",
    "        \n",
    "        self.downsample1 = nn.Sequential(\n",
    "                nn.Conv2d(32, 64, kernel_size=1, stride=2, bias=False),\n",
    "                nn.BatchNorm2d(64),\n",
    "            )\n",
    "        self.downsample2 = nn.Sequential(\n",
    "                nn.Conv2d(64, 128, kernel_size=1, stride=2, bias=False),\n",
    "                nn.BatchNorm2d(128),\n",
    "            )\n",
    "        self.dropout = nn.Dropout(0.3)\n",
    "        self.fc = nn.Linear(4608, num_classe)\n",
    "\n",
    "        for m in self.modules():\n",
    "            if isinstance(m, nn.Conv2d):\n",
    "                nn.init.kaiming_normal_(m.weight, mode='fan_out', nonlinearity='relu')\n",
    "            elif isinstance(m, (nn.BatchNorm2d, nn.GroupNorm)):\n",
    "                nn.init.constant_(m.weight, 1)\n",
    "                nn.init.constant_(m.bias, 0)\n",
    "\n",
    "    def _forward_impl(self, x):\n",
    "        x = self.conv1(x)\n",
    "        x = self.bn1(x)\n",
    "        x = self.relu(x)\n",
    "        x = self.maxpool(x)\n",
    "        ident = self.downsample1(x)\n",
    "        x = self.conv2(x)\n",
    "        x = self.bn2(x) + ident\n",
    "        x = self.relu2(x)\n",
    "        ident = self.downsample2(x)\n",
    "        x = self.conv3(x)\n",
    "        x = self.bn3(x) + ident\n",
    "        x = self.relu3(x)\n",
    "        \n",
    "        x = torch.flatten(x,1)\n",
    "#         print(x.shape)\n",
    "        x = self.dropout(x)\n",
    "        x = self.fc(x)\n",
    "\n",
    "        return x\n",
    "\n",
    "    def forward(self, x):\n",
    "        return self._forward_impl(x)\n",
    "# Epoch[39/40], Train Loss:1.8657, Train Acc:0.98\n",
    "# 1.3427405655384064 tensor(0.9606, device='cuda:0')\n",
    "# torch.Size([1024, 1, 90, 90])"
   ]
  },
  {
   "cell_type": "code",
   "execution_count": null,
   "id": "97e28de6",
   "metadata": {},
   "outputs": [],
   "source": [
    "# adam weight decay\n",
    "\n",
    "\n",
    "# Epoch[27/50], Train Loss:1.9248, Train Acc:0.98\n",
    "# 1.3467636704444885 tensor(0.9604, device='cuda:0')\n",
    "# torch.Size([1024, 1, 90, 90])\n",
    "# torch.Size([1024])\n",
    "# torch.Size([1024, 52])"
   ]
  },
  {
   "cell_type": "code",
   "execution_count": null,
   "id": "7617d034",
   "metadata": {},
   "outputs": [],
   "source": [
    "'''\n",
    "모델 with 0.001\n",
    "Epoch[5/5], Train Loss:8.7186, Train Acc:0.94\n",
    "2.086592584848404 tensor(0.9347, device='cuda:0')\n",
    "\n",
    "모델 with 0.0005\n",
    "\n",
    "Train Acc:0.92\n",
    "valid acc : 0.92\n",
    "\n",
    "model with 0.005\n",
    "Epoch[5/20], Train Loss:9.8456, Train Acc:0.93\n",
    "2.388212338089943 tensor(0.9238, device='cuda:0')\n",
    "\n",
    "\n",
    "model with 0.002\n",
    "Epoch[5/20], Train Loss:8.0757, Train Acc:0.94\n",
    "2.0057855620980263 tensor(0.9368, device='cuda:0')\n",
    "\n",
    "model with 0.003\n",
    "Epoch[5/20], Train Loss:8.6232, Train Acc:0.94\n",
    "2.1346734762191772 tensor(0.9329, device='cuda:0')\n",
    "\n",
    "'''"
   ]
  },
  {
   "cell_type": "code",
   "execution_count": null,
   "id": "ae11aef3",
   "metadata": {},
   "outputs": [],
   "source": [
    "'''\n",
    "경량화 -> resnet 1,1 : 27->42초로 늘어남 epoch당\n",
    "10분에 94까지밖에 못감\n",
    "'''\n",
    "\n",
    "'''\n",
    "16부터 lr 조절?\n",
    "\n",
    "'''"
   ]
  }
 ],
 "metadata": {
  "kernelspec": {
   "display_name": "Python 3 (ipykernel)",
   "language": "python",
   "name": "python3"
  },
  "language_info": {
   "codemirror_mode": {
    "name": "ipython",
    "version": 3
   },
   "file_extension": ".py",
   "mimetype": "text/x-python",
   "name": "python",
   "nbconvert_exporter": "python",
   "pygments_lexer": "ipython3",
   "version": "3.8.8"
  }
 },
 "nbformat": 4,
 "nbformat_minor": 5
}
